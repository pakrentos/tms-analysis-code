{
 "cells": [
  {
   "cell_type": "code",
   "execution_count": null,
   "metadata": {},
   "outputs": [],
   "source": [
    "import numpy as np\n",
    "import scipy.stats as stats\n",
    "import matplotlib.pyplot as plt\n",
    "import pandas as pd\n",
    "import mne\n",
    "from tqdm import tqdm\n",
    "# from blab.itertools import true_meshgrid\n",
    "import matplotlib\n",
    "import seaborn as sns\n",
    "import pingouin as pg\n",
    "matplotlib.rcParams['pdf.fonttype'] = 42"
   ]
  },
  {
   "cell_type": "code",
   "execution_count": null,
   "metadata": {},
   "outputs": [],
   "source": [
    "d2 = pd.read_csv('../data/baseline_level/pow_avg_D2_base1_base2_f0=6Hz_df=2Hz_eloreta_Norm_to_Im1_Bgr_PrecuneusR_maxt.txt', sep='  ', header=None).iloc[:15]\n",
    "# d2.insert(loc=9, value=[0, 0])\n",
    "# d2.insert(loc=9, column=1)\n",
    "d3 = pd.read_csv('../data/baseline_level/pow_avg_D3_base1_base2_f0=6Hz_df=2Hz_eloreta_Norm_to_Im1_Bgr_PrecuneusR_maxt.txt', sep='  ', header=None)\n",
    "\n",
    "def gather_df(csv_names):\n",
    "    d2 = pd.read_csv(csv_names[0], sep='  ', header=None).iloc[:15]\n",
    "    d3 = pd.read_csv(csv_names[1], sep='  ', header=None).iloc[:15]\n",
    "    names = ['Day', 'Subject', 'Session']\n",
    "\n",
    "    index2 = pd.MultiIndex.from_product([['TMS'], np.arange(1, 16, dtype=int), ['Im1', 'Im2']], names=names)\n",
    "    index3 = pd.MultiIndex.from_product([['Sham'], np.arange(16, 16 + 15, dtype=int), ['Im1', 'Im2']], names=names)\n",
    "\n",
    "    d2 = d2.stack()\n",
    "    d3 = d3.stack()\n",
    "\n",
    "    d2.index = index2\n",
    "    d3.index = index3\n",
    "\n",
    "    df = pd.concat([d2, d3]).reset_index()\n",
    "    df.columns = names + ['Power']\n",
    "    df = df.query(\"Subject != 10\")\n",
    "    return df\n",
    "\n",
    "precuneus_df = gather_df([\n",
    "    '../data/baseline_level/pow_avg_D2_base1_base2_f0=6Hz_df=2Hz_eloreta_Norm_to_Im1_Bgr_PrecuneusR_maxt.txt',\n",
    "    '../data/baseline_level/pow_avg_D3_base1_base2_f0=6Hz_df=2Hz_eloreta_Norm_to_Im1_Bgr_PrecuneusR_maxt.txt'\n",
    "])\n",
    "\n",
    "front_df = gather_df([\n",
    "    '../data/baseline_level/pow_avg_D2_base1_base2_f0=10Hz_df=2Hz_eloreta_Norm_to_Im1_Bgr_Front.txt',\n",
    "    '../data/baseline_level/pow_avg_sham_base1_base2_f0=10Hz_df=2Hz_eloreta_Norm_to_Im1_Bgr.txt'\n",
    "])\n",
    "\n",
    "# arr = np.concatenate([d2.to_numpy().flatten(), d3.to_numpy().flatten()]) \n",
    "\n",
    "# df = pd.DataFrame(arr, columns=['Pow'], index=index).reset_index()"
   ]
  },
  {
   "cell_type": "code",
   "execution_count": null,
   "outputs": [],
   "source": [
    "front_df.to_csv('../data/src_baseline_dfs/alpha_frontal.csv', index=False)\n",
    "precuneus_df.to_csv('../data/src_baseline_dfs/theta_precuneusr_maxt.csv', index=False)"
   ],
   "metadata": {
    "collapsed": false
   }
  },
  {
   "cell_type": "code",
   "execution_count": null,
   "outputs": [],
   "source": [],
   "metadata": {
    "collapsed": false
   }
  },
  {
   "cell_type": "code",
   "execution_count": null,
   "metadata": {},
   "outputs": [],
   "source": [
    "pg.mixed_anova(df, 'Pow', within='Session', between='Day', subject='Subject', correction=True)"
   ]
  },
  {
   "cell_type": "code",
   "execution_count": null,
   "metadata": {},
   "outputs": [],
   "source": [
    "ax = sns.pointplot(x='Session', y='Power', hue='Day', data=df.query('Subject != 10'), dodge=0.05, capsize=0.05, ci=66.666)\n",
    "ax.figure.savefig('src_pow_4-8Hz-precuneusr-maxt_plot.pdf')"
   ]
  },
  {
   "cell_type": "code",
   "execution_count": null,
   "metadata": {},
   "outputs": [],
   "source": [
    "sas = df['Pow'].to_numpy().reshape(2, 15, 2)\n",
    "sas = np.swapaxes(sas, 1, 2)\n",
    "sas[0, :, 9] *= np.nan\n",
    "sos = sas[0, 0]\n",
    "sos = sos\n",
    "sos = [stats.shapiro(i[~np.isnan(i)]).pvalue for i in sas.reshape(4, -1)]\n",
    "for i, p in zip(['D2 Im1', 'D2 Im2', 'Sham Im1', 'Sham Im2'], sos):\n",
    "    print(f'{i} pvalue = {p:<0.3f}')"
   ]
  },
  {
   "cell_type": "code",
   "execution_count": null,
   "metadata": {},
   "outputs": [],
   "source": [
    "sns.violinplot(x='Session', y='Pow', hue='Day', data=df.query('Subject != 10 and Subject != 8'))\n"
   ]
  },
  {
   "cell_type": "code",
   "execution_count": null,
   "metadata": {},
   "outputs": [],
   "source": [
    "a = df.set_index(['Day', 'Subject', 'Session']).unstack()\n",
    "a = a['Pow', 'Im2'] - a['Pow', 'Im1']\n",
    "a = pd.DataFrame(a, columns=['SRC_Alpha_Frontal'])\n",
    "a.to_csv('src_dpow_avg_D2_D3_Im2-Im1_f0=10Hz_df=2Hz_eloreta_Norm_to_Im1_Bgr_Front.txt')"
   ]
  },
  {
   "cell_type": "code",
   "execution_count": null,
   "metadata": {},
   "outputs": [],
   "source": [
    "df.to_csv('theta_frontal_src.csv', index=False)"
   ]
  },
  {
   "cell_type": "code",
   "execution_count": null,
   "metadata": {},
   "outputs": [],
   "source": [
    "sas[1]"
   ]
  },
  {
   "cell_type": "code",
   "execution_count": null,
   "metadata": {},
   "outputs": [],
   "source": [
    "stats.ttest_ind(*sas[0][:, ~(np.isnan(sas[0]).any(0))])"
   ]
  },
  {
   "cell_type": "code",
   "execution_count": null,
   "metadata": {},
   "outputs": [],
   "source": [
    "df.query('Day == \"D3\" and Session == \"Im2\"')['Pow'].to_numpy()"
   ]
  },
  {
   "cell_type": "code",
   "execution_count": null,
   "outputs": [],
   "source": [
    "front_df = pd.read_csv('../data/src_baseline_dfs/alpha_frontal.csv')\n",
    "precuneus_df = pd.read_csv('../data/src_baseline_dfs/theta_precuneusr_maxt.csv')\n",
    "front_df.set_index(['Day', 'Session', 'Subject'], inplace=True)\n",
    "precuneus_df.set_index(['Day', 'Session', 'Subject'], inplace=True)\n",
    "front_df.columns = ['AlphaFrontal']\n",
    "front_df['ThetaPrecuneus'] = precuneus_df['Power']\n",
    "front_df.to_csv('tables/BASELINE_BGR-NORM_ELORETA_MAXT_SRC-POWER.csv')"
   ],
   "metadata": {
    "collapsed": false
   }
  }
 ],
 "metadata": {
  "interpreter": {
   "hash": "aee8b7b246df8f9039afb4144a1f6fd8d2ca17a180786b69acc140d282b71a49"
  },
  "kernelspec": {
   "display_name": "Python 3.9.10 64-bit",
   "language": "python",
   "name": "python3"
  },
  "language_info": {
   "codemirror_mode": {
    "name": "ipython",
    "version": 3
   },
   "file_extension": ".py",
   "mimetype": "text/x-python",
   "name": "python",
   "nbconvert_exporter": "python",
   "pygments_lexer": "ipython3",
   "version": "3.9.10"
  },
  "orig_nbformat": 4
 },
 "nbformat": 4,
 "nbformat_minor": 2
}
