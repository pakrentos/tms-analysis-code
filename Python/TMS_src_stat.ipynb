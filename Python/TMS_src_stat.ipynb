{
 "cells": [
  {
   "cell_type": "code",
   "execution_count": 3,
   "metadata": {},
   "outputs": [],
   "source": [
    "import numpy as np\n",
    "import scipy.stats as stats\n",
    "import matplotlib.pyplot as plt\n",
    "import pandas as pd\n",
    "import mne\n",
    "from tqdm import tqdm\n",
    "# from blab.itertools import true_meshgrid\n",
    "import matplotlib\n",
    "import seaborn as sns\n",
    "import pingouin as pg\n",
    "matplotlib.rcParams['pdf.fonttype'] = 42"
   ]
  },
  {
   "cell_type": "code",
   "execution_count": 2,
   "metadata": {},
   "outputs": [
    {
     "name": "stderr",
     "output_type": "stream",
     "text": [
      "/var/folders/tj/lr6p2mw95bqcmgs698v6nqx40000gn/T/ipykernel_72088/1491074391.py:1: ParserWarning: Falling back to the 'python' engine because the 'c' engine does not support regex separators (separators > 1 char and different from '\\s+' are interpreted as regex); you can avoid this warning by specifying engine='python'.\n",
      "  d2 = pd.read_csv('../data/baseline_level/pow_avg_D2_base1_base2_f0=6Hz_df=2Hz_eloreta_Norm_to_Im1_Bgr_PrecuneusR_maxt.txt', sep='  ', header=None).iloc[:15]\n",
      "/var/folders/tj/lr6p2mw95bqcmgs698v6nqx40000gn/T/ipykernel_72088/1491074391.py:4: ParserWarning: Falling back to the 'python' engine because the 'c' engine does not support regex separators (separators > 1 char and different from '\\s+' are interpreted as regex); you can avoid this warning by specifying engine='python'.\n",
      "  d3 = pd.read_csv('../data/baseline_level/pow_avg_D3_base1_base2_f0=6Hz_df=2Hz_eloreta_Norm_to_Im1_Bgr_PrecuneusR_maxt.txt', sep='  ', header=None)\n",
      "/var/folders/tj/lr6p2mw95bqcmgs698v6nqx40000gn/T/ipykernel_72088/1491074391.py:7: ParserWarning: Falling back to the 'python' engine because the 'c' engine does not support regex separators (separators > 1 char and different from '\\s+' are interpreted as regex); you can avoid this warning by specifying engine='python'.\n",
      "  d2 = pd.read_csv(csv_names[0], sep='  ', header=None).iloc[:15]\n",
      "/var/folders/tj/lr6p2mw95bqcmgs698v6nqx40000gn/T/ipykernel_72088/1491074391.py:8: ParserWarning: Falling back to the 'python' engine because the 'c' engine does not support regex separators (separators > 1 char and different from '\\s+' are interpreted as regex); you can avoid this warning by specifying engine='python'.\n",
      "  d3 = pd.read_csv(csv_names[1], sep='  ', header=None).iloc[:15]\n",
      "/var/folders/tj/lr6p2mw95bqcmgs698v6nqx40000gn/T/ipykernel_72088/1491074391.py:7: ParserWarning: Falling back to the 'python' engine because the 'c' engine does not support regex separators (separators > 1 char and different from '\\s+' are interpreted as regex); you can avoid this warning by specifying engine='python'.\n",
      "  d2 = pd.read_csv(csv_names[0], sep='  ', header=None).iloc[:15]\n",
      "/var/folders/tj/lr6p2mw95bqcmgs698v6nqx40000gn/T/ipykernel_72088/1491074391.py:8: ParserWarning: Falling back to the 'python' engine because the 'c' engine does not support regex separators (separators > 1 char and different from '\\s+' are interpreted as regex); you can avoid this warning by specifying engine='python'.\n",
      "  d3 = pd.read_csv(csv_names[1], sep='  ', header=None).iloc[:15]\n"
     ]
    }
   ],
   "source": [
    "d2 = pd.read_csv('../data/baseline_level/pow_avg_D2_base1_base2_f0=6Hz_df=2Hz_eloreta_Norm_to_Im1_Bgr_PrecuneusR_maxt.txt', sep='  ', header=None).iloc[:15]\n",
    "# d2.insert(loc=9, value=[0, 0])\n",
    "# d2.insert(loc=9, column=1)\n",
    "d3 = pd.read_csv('../data/baseline_level/pow_avg_D3_base1_base2_f0=6Hz_df=2Hz_eloreta_Norm_to_Im1_Bgr_PrecuneusR_maxt.txt', sep='  ', header=None)\n",
    "\n",
    "def gather_df(csv_names):\n",
    "    d2 = pd.read_csv(csv_names[0], sep='  ', header=None).iloc[:15]\n",
    "    d3 = pd.read_csv(csv_names[1], sep='  ', header=None).iloc[:15]\n",
    "    names = ['Day', 'Subject', 'Session']\n",
    "\n",
    "    index2 = pd.MultiIndex.from_product([['TMS'], np.arange(1, 16, dtype=int), ['Im1', 'Im2']], names=names)\n",
    "    index3 = pd.MultiIndex.from_product([['Sham'], np.arange(16, 16 + 15, dtype=int), ['Im1', 'Im2']], names=names)\n",
    "\n",
    "    d2 = d2.stack()\n",
    "    d3 = d3.stack()\n",
    "\n",
    "    d2.index = index2\n",
    "    d3.index = index3\n",
    "\n",
    "    df = pd.concat([d2, d3]).reset_index()\n",
    "    df.columns = names + ['Power']\n",
    "    df = df.query(\"Subject != 10\")\n",
    "    return df\n",
    "\n",
    "precuneus_df = gather_df([\n",
    "    '../data/baseline_level/pow_avg_D2_base1_base2_f0=6Hz_df=2Hz_eloreta_Norm_to_Im1_Bgr_PrecuneusR_maxt.txt',\n",
    "    '../data/baseline_level/pow_avg_D3_base1_base2_f0=6Hz_df=2Hz_eloreta_Norm_to_Im1_Bgr_PrecuneusR_maxt.txt'\n",
    "])\n",
    "\n",
    "front_df = gather_df([\n",
    "    '../data/baseline_level/pow_avg_D2_base1_base2_f0=10Hz_df=2Hz_eloreta_Norm_to_Im1_Bgr_Front.txt',\n",
    "    '../data/baseline_level/pow_avg_sham_base1_base2_f0=10Hz_df=2Hz_eloreta_Norm_to_Im1_Bgr.txt'\n",
    "])\n",
    "\n",
    "# arr = np.concatenate([d2.to_numpy().flatten(), d3.to_numpy().flatten()]) \n",
    "\n",
    "# df = pd.DataFrame(arr, columns=['Pow'], index=index).reset_index()"
   ]
  },
  {
   "cell_type": "code",
   "execution_count": 5,
   "outputs": [],
   "source": [
    "front_df.to_csv('../data/src_baseline_dfs/alpha_frontal.csv', index=False)\n",
    "precuneus_df.to_csv('../data/src_baseline_dfs/theta_precuneusr_maxt.csv', index=False)"
   ],
   "metadata": {
    "collapsed": false,
    "pycharm": {
     "name": "#%%\n"
    }
   }
  },
  {
   "cell_type": "code",
   "execution_count": null,
   "outputs": [],
   "source": [],
   "metadata": {
    "collapsed": false,
    "pycharm": {
     "name": "#%%\n"
    }
   }
  },
  {
   "cell_type": "code",
   "execution_count": 4,
   "metadata": {},
   "outputs": [
    {
     "data": {
      "text/html": [
       "<div>\n",
       "<style scoped>\n",
       "    .dataframe tbody tr th:only-of-type {\n",
       "        vertical-align: middle;\n",
       "    }\n",
       "\n",
       "    .dataframe tbody tr th {\n",
       "        vertical-align: top;\n",
       "    }\n",
       "\n",
       "    .dataframe thead th {\n",
       "        text-align: right;\n",
       "    }\n",
       "</style>\n",
       "<table border=\"1\" class=\"dataframe\">\n",
       "  <thead>\n",
       "    <tr style=\"text-align: right;\">\n",
       "      <th></th>\n",
       "      <th>Source</th>\n",
       "      <th>SS</th>\n",
       "      <th>DF1</th>\n",
       "      <th>DF2</th>\n",
       "      <th>MS</th>\n",
       "      <th>F</th>\n",
       "      <th>p-unc</th>\n",
       "      <th>np2</th>\n",
       "      <th>eps</th>\n",
       "    </tr>\n",
       "  </thead>\n",
       "  <tbody>\n",
       "    <tr>\n",
       "      <th>0</th>\n",
       "      <td>Day</td>\n",
       "      <td>0.008215</td>\n",
       "      <td>1</td>\n",
       "      <td>27</td>\n",
       "      <td>0.008215</td>\n",
       "      <td>0.084666</td>\n",
       "      <td>0.773294</td>\n",
       "      <td>0.003126</td>\n",
       "      <td>NaN</td>\n",
       "    </tr>\n",
       "    <tr>\n",
       "      <th>1</th>\n",
       "      <td>Session</td>\n",
       "      <td>0.073496</td>\n",
       "      <td>1</td>\n",
       "      <td>27</td>\n",
       "      <td>0.073496</td>\n",
       "      <td>7.287878</td>\n",
       "      <td>0.011832</td>\n",
       "      <td>0.212550</td>\n",
       "      <td>1.0</td>\n",
       "    </tr>\n",
       "    <tr>\n",
       "      <th>2</th>\n",
       "      <td>Interaction</td>\n",
       "      <td>0.051605</td>\n",
       "      <td>1</td>\n",
       "      <td>27</td>\n",
       "      <td>0.051605</td>\n",
       "      <td>5.117217</td>\n",
       "      <td>0.031948</td>\n",
       "      <td>0.159329</td>\n",
       "      <td>NaN</td>\n",
       "    </tr>\n",
       "  </tbody>\n",
       "</table>\n",
       "</div>"
      ],
      "text/plain": [
       "        Source        SS  DF1  DF2        MS         F     p-unc       np2  \\\n",
       "0          Day  0.008215    1   27  0.008215  0.084666  0.773294  0.003126   \n",
       "1      Session  0.073496    1   27  0.073496  7.287878  0.011832  0.212550   \n",
       "2  Interaction  0.051605    1   27  0.051605  5.117217  0.031948  0.159329   \n",
       "\n",
       "   eps  \n",
       "0  NaN  \n",
       "1  1.0  \n",
       "2  NaN  "
      ]
     },
     "execution_count": 4,
     "metadata": {},
     "output_type": "execute_result"
    }
   ],
   "source": [
    "pg.mixed_anova(df, 'Pow', within='Session', between='Day', subject='Subject', correction=True)"
   ]
  },
  {
   "cell_type": "code",
   "execution_count": 22,
   "metadata": {},
   "outputs": [
    {
     "data": {
      "image/png": "[encoded data removed]",
      "text/plain": [
       "<Figure size 432x288 with 1 Axes>"
      ]
     },
     "metadata": {
      "needs_background": "light"
     },
     "output_type": "display_data"
    }
   ],
   "source": [
    "ax = sns.pointplot(x='Session', y='Power', hue='Day', data=df.query('Subject != 10'), dodge=0.05, capsize=0.05, ci=66.666)\n",
    "ax.figure.savefig('src_pow_4-8Hz-precuneusr-maxt_plot.pdf')"
   ]
  },
  {
   "cell_type": "code",
   "execution_count": 6,
   "metadata": {},
   "outputs": [
    {
     "ename": "ValueError",
     "evalue": "cannot reshape array of size 58 into shape (2,15,2)",
     "output_type": "error",
     "traceback": [
      "\u001B[0;31m---------------------------------------------------------------------------\u001B[0m",
      "\u001B[0;31mValueError\u001B[0m                                Traceback (most recent call last)",
      "\u001B[0;32m<ipython-input-6-b6a3708d08e7>\u001B[0m in \u001B[0;36m<module>\u001B[0;34m\u001B[0m\n\u001B[0;32m----> 1\u001B[0;31m \u001B[0msas\u001B[0m \u001B[0;34m=\u001B[0m \u001B[0mdf\u001B[0m\u001B[0;34m[\u001B[0m\u001B[0;34m'Pow'\u001B[0m\u001B[0;34m]\u001B[0m\u001B[0;34m.\u001B[0m\u001B[0mto_numpy\u001B[0m\u001B[0;34m(\u001B[0m\u001B[0;34m)\u001B[0m\u001B[0;34m.\u001B[0m\u001B[0mreshape\u001B[0m\u001B[0;34m(\u001B[0m\u001B[0;36m2\u001B[0m\u001B[0;34m,\u001B[0m \u001B[0;36m15\u001B[0m\u001B[0;34m,\u001B[0m \u001B[0;36m2\u001B[0m\u001B[0;34m)\u001B[0m\u001B[0;34m\u001B[0m\u001B[0;34m\u001B[0m\u001B[0m\n\u001B[0m\u001B[1;32m      2\u001B[0m \u001B[0msas\u001B[0m \u001B[0;34m=\u001B[0m \u001B[0mnp\u001B[0m\u001B[0;34m.\u001B[0m\u001B[0mswapaxes\u001B[0m\u001B[0;34m(\u001B[0m\u001B[0msas\u001B[0m\u001B[0;34m,\u001B[0m \u001B[0;36m1\u001B[0m\u001B[0;34m,\u001B[0m \u001B[0;36m2\u001B[0m\u001B[0;34m)\u001B[0m\u001B[0;34m\u001B[0m\u001B[0;34m\u001B[0m\u001B[0m\n\u001B[1;32m      3\u001B[0m \u001B[0msas\u001B[0m\u001B[0;34m[\u001B[0m\u001B[0;36m0\u001B[0m\u001B[0;34m,\u001B[0m \u001B[0;34m:\u001B[0m\u001B[0;34m,\u001B[0m \u001B[0;36m9\u001B[0m\u001B[0;34m]\u001B[0m \u001B[0;34m*=\u001B[0m \u001B[0mnp\u001B[0m\u001B[0;34m.\u001B[0m\u001B[0mnan\u001B[0m\u001B[0;34m\u001B[0m\u001B[0;34m\u001B[0m\u001B[0m\n\u001B[1;32m      4\u001B[0m \u001B[0msos\u001B[0m \u001B[0;34m=\u001B[0m \u001B[0msas\u001B[0m\u001B[0;34m[\u001B[0m\u001B[0;36m0\u001B[0m\u001B[0;34m,\u001B[0m \u001B[0;36m0\u001B[0m\u001B[0;34m]\u001B[0m\u001B[0;34m\u001B[0m\u001B[0;34m\u001B[0m\u001B[0m\n\u001B[1;32m      5\u001B[0m \u001B[0msos\u001B[0m \u001B[0;34m=\u001B[0m \u001B[0msos\u001B[0m\u001B[0;34m\u001B[0m\u001B[0;34m\u001B[0m\u001B[0m\n",
      "\u001B[0;31mValueError\u001B[0m: cannot reshape array of size 58 into shape (2,15,2)"
     ]
    }
   ],
   "source": [
    "sas = df['Pow'].to_numpy().reshape(2, 15, 2)\n",
    "sas = np.swapaxes(sas, 1, 2)\n",
    "sas[0, :, 9] *= np.nan\n",
    "sos = sas[0, 0]\n",
    "sos = sos\n",
    "sos = [stats.shapiro(i[~np.isnan(i)]).pvalue for i in sas.reshape(4, -1)]\n",
    "for i, p in zip(['D2 Im1', 'D2 Im2', 'Sham Im1', 'Sham Im2'], sos):\n",
    "    print(f'{i} pvalue = {p:<0.3f}')"
   ]
  },
  {
   "cell_type": "code",
   "execution_count": 62,
   "metadata": {},
   "outputs": [
    {
     "data": {
      "text/plain": [
       "<AxesSubplot:xlabel='Session', ylabel='Pow'>"
      ]
     },
     "execution_count": 62,
     "metadata": {},
     "output_type": "execute_result"
    },
    {
     "data": {
      "image/png": "[encoded data removed]",
      "text/plain": [
       "<Figure size 432x288 with 1 Axes>"
      ]
     },
     "metadata": {
      "needs_background": "light"
     },
     "output_type": "display_data"
    }
   ],
   "source": [
    "sns.violinplot(x='Session', y='Pow', hue='Day', data=df.query('Subject != 10 and Subject != 8'))\n"
   ]
  },
  {
   "cell_type": "code",
   "execution_count": 16,
   "metadata": {},
   "outputs": [],
   "source": [
    "a = df.set_index(['Day', 'Subject', 'Session']).unstack()\n",
    "a = a['Pow', 'Im2'] - a['Pow', 'Im1']\n",
    "a = pd.DataFrame(a, columns=['SRC_Alpha_Frontal'])\n",
    "a.to_csv('src_dpow_avg_D2_D3_Im2-Im1_f0=10Hz_df=2Hz_eloreta_Norm_to_Im1_Bgr_Front.txt')"
   ]
  },
  {
   "cell_type": "code",
   "execution_count": 20,
   "metadata": {},
   "outputs": [],
   "source": [
    "df.to_csv('theta_frontal_src.csv', index=False)"
   ]
  },
  {
   "cell_type": "code",
   "execution_count": 47,
   "metadata": {},
   "outputs": [
    {
     "data": {
      "text/plain": [
       "array([[-0.06235276, -0.57267929, -0.2108896 , -0.0014825 , -0.00485475,\n",
       "        -0.03143198, -0.20053723, -0.44059778, -0.36055244,  0.08420991,\n",
       "        -0.15265443, -0.3092884 ,  0.0440327 , -0.01178098,  0.14224153],\n",
       "       [-0.20511458, -0.55175085, -0.24298705, -0.13248111,  0.02297712,\n",
       "        -0.33421047, -0.12041706, -0.36011023, -0.45817889,  0.26208626,\n",
       "         0.18595024, -0.12532133,  0.00096623, -0.1285618 ,  0.30193858]])"
      ]
     },
     "execution_count": 47,
     "metadata": {},
     "output_type": "execute_result"
    }
   ],
   "source": [
    "sas[1]"
   ]
  },
  {
   "cell_type": "code",
   "execution_count": 58,
   "metadata": {},
   "outputs": [
    {
     "data": {
      "text/plain": [
       "Ttest_indResult(statistic=-1.5084872082375225, pvalue=0.14348663795629032)"
      ]
     },
     "execution_count": 58,
     "metadata": {},
     "output_type": "execute_result"
    }
   ],
   "source": [
    "stats.ttest_ind(*sas[0][:, ~(np.isnan(sas[0]).any(0))])"
   ]
  },
  {
   "cell_type": "code",
   "execution_count": 15,
   "metadata": {},
   "outputs": [
    {
     "data": {
      "text/plain": [
       "array([ 0.12153952,  0.20443193, -0.20753074, -0.47560322, -0.4842323 ,\n",
       "       -0.41600376, -0.05605296, -0.59118108, -0.32595243, -0.246897  ,\n",
       "        0.226598  ,  1.6539278 , -0.52316866, -0.02237811,  0.30047709])"
      ]
     },
     "execution_count": 15,
     "metadata": {},
     "output_type": "execute_result"
    }
   ],
   "source": [
    "df.query('Day == \"D3\" and Session == \"Im2\"')['Pow'].to_numpy()"
   ]
  },
  {
   "cell_type": "code",
   "execution_count": 9,
   "outputs": [],
   "source": [
    "front_df = pd.read_csv('../data/src_baseline_dfs/alpha_frontal.csv')\n",
    "precuneus_df = pd.read_csv('../data/src_baseline_dfs/theta_precuneusr_maxt.csv')\n",
    "front_df.set_index(['Day', 'Session', 'Subject'], inplace=True)\n",
    "precuneus_df.set_index(['Day', 'Session', 'Subject'], inplace=True)\n",
    "front_df.columns = ['AlphaFrontal']\n",
    "front_df['ThetaPrecuneus'] = precuneus_df['Power']\n",
    "front_df.to_csv('tables/BASELINE_BGR-NORM_ELORETA_MAXT_SRC-POWER.csv')"
   ],
   "metadata": {
    "collapsed": false,
    "pycharm": {
     "name": "#%%\n"
    }
   }
  },
  {
   "cell_type": "markdown",
   "metadata": {},
   "source": [
    "### Theta PrecuneusR_maxt: \n",
    "yuen test, trim 0.2\n",
    "\n",
    "- d2im1 vs d2im2: t = -3.8399, df = 9, p-value = 0.003967\n",
    "- d3im1 vs d3im2: t = 0.57099, df = 8, p-value = 0.5837\n",
    "- d2im1 vs d3im1: t = -1.2209, df = 15.307, p-value = 0.2406\n",
    "- d2im2 vs d3im2: t = 0.61654, df = 14.276, p-value = 0.5472\n",
    "\n",
    "### Alpha Frontal:\n",
    "yuen test, trim 0.2\n",
    "\n",
    "- d2im1 vs d2im2: t = -1.8835, df = 9, p-value = 0.09229\n",
    "- d3im1 vs d3im2: t = -0.68472, df = 8, p-value = 0.5129\n",
    "- d2im1 vs d3im1: t = 0.93219, df = 10.672, p-value = 0.3718\n",
    "- d2im2 vs d3im2: t = 1.1104, df = 11.536, p-value = 0.2894"
   ]
  }
 ],
 "metadata": {
  "interpreter": {
   "hash": "aee8b7b246df8f9039afb4144a1f6fd8d2ca17a180786b69acc140d282b71a49"
  },
  "kernelspec": {
   "display_name": "Python 3.9.10 64-bit",
   "language": "python",
   "name": "python3"
  },
  "language_info": {
   "codemirror_mode": {
    "name": "ipython",
    "version": 3
   },
   "file_extension": ".py",
   "mimetype": "text/x-python",
   "name": "python",
   "nbconvert_exporter": "python",
   "pygments_lexer": "ipython3",
   "version": "3.9.10"
  },
  "orig_nbformat": 4
 },
 "nbformat": 4,
 "nbformat_minor": 2
}