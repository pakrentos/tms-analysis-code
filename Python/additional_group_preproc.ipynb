{
 "cells": [
  {
   "cell_type": "code",
   "execution_count": 1,
   "id": "ecae6c2a-1015-4d84-a5df-e41eeacd8975",
   "metadata": {
    "execution": {
     "iopub.execute_input": "2022-02-24T14:16:37.139383Z",
     "iopub.status.busy": "2022-02-24T14:16:37.139383Z",
     "iopub.status.idle": "2022-02-24T14:16:37.158420Z",
     "shell.execute_reply": "2022-02-24T14:16:37.157406Z",
     "shell.execute_reply.started": "2022-02-24T14:16:37.139383Z"
    },
    "tags": []
   },
   "outputs": [],
   "source": [
    "import numpy as np\n",
    "from blab.array import loadmat\n",
    "from blab.array import marray_from_lists\n",
    "from blab.itertools import true_meshgrid\n",
    "from tqdm import tqdm\n",
    "from numpy import ma\n",
    "import mne\n",
    "from scipy import stats\n",
    "from matplotlib import pyplot as plt\n",
    "import gc"
   ]
  },
  {
   "cell_type": "code",
   "execution_count": 2,
   "id": "9ac55002-cc6d-44bc-a8b4-21cde7358c77",
   "metadata": {
    "execution": {
     "iopub.execute_input": "2022-02-24T14:37:57.960080Z",
     "iopub.status.busy": "2022-02-24T14:37:57.960080Z",
     "iopub.status.idle": "2022-02-24T14:38:51.343082Z",
     "shell.execute_reply": "2022-02-24T14:38:51.342080Z",
     "shell.execute_reply.started": "2022-02-24T14:37:57.960080Z"
    },
    "tags": []
   },
   "outputs": [
    {
     "name": "stderr",
     "output_type": "stream",
     "text": [
      "100%|██████████| 2/2 [00:15<00:00,  7.73s/it]\n"
     ]
    }
   ],
   "source": [
    "cases = ['right_im1', 'right_im2']\n",
    "bgr_case = 'right_real'\n",
    "\n",
    "res = loadmat('/Volumes/Samsung_T5/TMS_Motion_data/DAY2_TMS.mat')['res']\n",
    "\n",
    "channels = np.array(res[0]['right_real']['label']).T[0].tolist()\n",
    "\n",
    "coi = ['FC5', 'FC1', 'FC2', 'FC6', 'C3', 'Cz', 'C4', 'CP5', 'CP1', 'CP2', 'CP6', 'T7', 'T8']\n",
    "coi_mask = np.sum([np.array(channels) == i for i in coi], 0).astype(bool)\n",
    "\n",
    "data_arrays = []\n",
    "for case in tqdm(cases):\n",
    "    temp = marray_from_lists([j[case]['trial'] if j is not None else None for j in res])[..., :9500:4][..., coi_mask, :]\n",
    "    data_arrays.append(temp)\n",
    "\n",
    "data_arrays = ma.stack(data_arrays).reshape(-1, 20, 13, 2375)\n",
    "data_arrays_mask = data_arrays.mask\n",
    "data_arrays = data_arrays.data\n",
    "data_arrays[data_arrays_mask] = np.nan\n",
    "# data_arrays = data_arrays.reshape(-1, 20, 32, 9500)[..., ::4] # reduce fsample. (cases, subs, ...) -> (cases*subs, ...) for epochs creation\n",
    "# data_arrays = data_arrays[:10] # only im1 and im2"
   ]
  },
  {
   "cell_type": "code",
   "execution_count": 3,
   "id": "b70356dc-891b-4c86-b90a-dc813c6c4938",
   "metadata": {
    "execution": {
     "iopub.execute_input": "2022-02-24T14:38:58.492893Z",
     "iopub.status.busy": "2022-02-24T14:38:58.491893Z",
     "iopub.status.idle": "2022-02-24T14:38:58.566026Z",
     "shell.execute_reply": "2022-02-24T14:38:58.564966Z",
     "shell.execute_reply.started": "2022-02-24T14:38:58.492893Z"
    },
    "tags": []
   },
   "outputs": [
    {
     "name": "stdout",
     "output_type": "stream",
     "text": [
      "Could not find a adjacency matrix for the data. Computing adjacency based on Delaunay triangulations.\n",
      "-- number of adjacent vertices : 13\n"
     ]
    }
   ],
   "source": [
    "montage = mne.channels.make_standard_montage('standard_1020')\n",
    "info = mne.create_info(coi, 250, ch_types='eeg')\n",
    "info.set_montage(montage)\n",
    "\n",
    "sensor_adjacency, ch_names = mne.channels.find_ch_adjacency(\n",
    "    info, 'eeg')\n",
    "\n",
    "res_epochs = [mne.EpochsArray(i, info, verbose=False) for i in data_arrays]"
   ]
  },
  {
   "cell_type": "code",
   "execution_count": 4,
   "id": "65ee64f4-4ac5-4d98-ad79-65cf317eb1e4",
   "metadata": {
    "execution": {
     "iopub.execute_input": "2022-02-24T14:39:03.005057Z",
     "iopub.status.busy": "2022-02-24T14:39:03.004079Z",
     "iopub.status.idle": "2022-02-24T14:39:10.111053Z",
     "shell.execute_reply": "2022-02-24T14:39:10.111053Z",
     "shell.execute_reply.started": "2022-02-24T14:39:03.004079Z"
    },
    "tags": []
   },
   "outputs": [
    {
     "name": "stderr",
     "output_type": "stream",
     "text": [
      "100%|██████████| 40/40 [00:18<00:00,  2.11it/s]\n"
     ]
    }
   ],
   "source": [
    "freqs = np.r_[10.5:14.5:0.4]\n",
    "\n",
    "def transform_func(x):\n",
    "    temp = mne.time_frequency.tfr_morlet(x, freqs, freqs, use_fft=True, return_itc=False, n_jobs=10, average=False, verbose=False)\n",
    "    temp = temp.crop(1, 9).apply_baseline((1, 5), mode='percent', verbose=False)\n",
    "    temp = temp.average(dim='freqs')\n",
    "    return temp\n",
    "\n",
    "res_tfr = [transform_func(i) for i in tqdm(res_epochs)]\n",
    "all_data = np.array([np.rollaxis(np.squeeze(i.data), 1, 3) for i in res_tfr]).reshape(1, 2, -1, 20, 2001, 13)[..., 1001:, :]"
   ]
  },
  {
   "cell_type": "code",
   "execution_count": 20,
   "id": "170606a9-ee47-4a08-9de1-b07ad4ad4a71",
   "metadata": {
    "execution": {
     "iopub.execute_input": "2022-02-24T14:40:59.249011Z",
     "iopub.status.busy": "2022-02-24T14:40:59.248015Z",
     "iopub.status.idle": "2022-02-24T14:40:59.606011Z",
     "shell.execute_reply": "2022-02-24T14:40:59.606011Z",
     "shell.execute_reply.started": "2022-02-24T14:40:59.249011Z"
    },
    "tags": []
   },
   "outputs": [
    {
     "data": {
      "text/plain": [
       "(20, 2001, 13)"
      ]
     },
     "execution_count": 20,
     "metadata": {},
     "output_type": "execute_result"
    }
   ],
   "source": [
    "# np.save(all_data, ''\n",
    "np.rollaxis(np.squeeze(transform_func(res_epochs[0])), 1, 3).data.shape"
   ]
  },
  {
   "cell_type": "code",
   "execution_count": 7,
   "id": "68bc9e2f-8e34-48d9-a652-740a43913a6a",
   "metadata": {
    "execution": {
     "iopub.execute_input": "2022-02-24T14:41:15.292488Z",
     "iopub.status.busy": "2022-02-24T14:41:15.291483Z",
     "iopub.status.idle": "2022-02-24T14:41:15.515481Z",
     "shell.execute_reply": "2022-02-24T14:41:15.514485Z",
     "shell.execute_reply.started": "2022-02-24T14:41:15.292488Z"
    },
    "tags": []
   },
   "outputs": [],
   "source": [
    "np.save('../data/eeg_tfr/TMS_TIME-CH-TRIAL_DAY2_IM1-2_MOTOR-AREA_BCORR_POST.npy', all_data)"
   ]
  }
 ],
 "metadata": {
  "kernelspec": {
   "display_name": "Python 3",
   "language": "python",
   "name": "python3"
  },
  "language_info": {
   "codemirror_mode": {
    "name": "ipython",
    "version": 3
   },
   "file_extension": ".py",
   "mimetype": "text/x-python",
   "name": "python",
   "nbconvert_exporter": "python",
   "pygments_lexer": "ipython3",
   "version": "3.9.7"
  }
 },
 "nbformat": 4,
 "nbformat_minor": 5
}
