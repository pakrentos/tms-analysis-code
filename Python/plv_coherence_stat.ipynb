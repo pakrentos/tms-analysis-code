{
 "cells": [
  {
   "cell_type": "code",
   "execution_count": null,
   "metadata": {
    "collapsed": true
   },
   "outputs": [],
   "source": [
    "import numpy as np\n",
    "from blab.array import loadmat\n",
    "from glob import glob\n",
    "from os.path import basename\n",
    "import scipy.io as spio\n",
    "import pandas as pd\n",
    "import seaborn as sns\n",
    "import matplotlib.pyplot as plt"
   ]
  },
  {
   "cell_type": "code",
   "execution_count": null,
   "outputs": [],
   "source": [
    "fnames = sorted(glob('../data/plv_coherence/*.mat'))\n",
    "sas = spio.loadmat(fnames[0])\n",
    "res = []\n",
    "for i in fnames:\n",
    "    temp = basename(i).split('_')\n",
    "    field = 'plvspctrm' if temp[0] == 'PLV' else 'cohspctrm'\n",
    "    sas = spio.loadmat(i)['conn']\n",
    "    for sub in range(15):\n",
    "        for band in range(2):\n",
    "            for sess in range(-2, 0):\n",
    "                if sub != 9:\n",
    "                    temp_val = sas[sub][band][0][field][sess][0, 1]\n",
    "                else:\n",
    "                    temp_val = np.nan\n",
    "                res.append(temp_val)\n",
    "res = np.array(res).reshape(2, 2, 2, 15, 2, 2) # (metric, day, base/bgr, sub, band, sess)\n",
    "metrics = ['Coherence', 'PLV']\n",
    "days = ['TMS', 'Sham']\n",
    "phases = ['Base', 'Background']\n",
    "subs = np.arange(15, dtype=int).tolist()\n",
    "bands = ['Theta', 'LowAlpha']\n",
    "sessions = ['Im1', 'Im2']\n",
    "names = ['Metric', 'Day', 'Phase', 'Subject', 'Band', 'Session']\n",
    "index = pd.MultiIndex.from_product([metrics, days, phases, subs, bands, sessions], names=names)\n",
    "df = pd.DataFrame(res.flatten(), columns=['Value'], index=index)\n",
    "df.to_csv('../data/plv_coherence/plv_coherence_vals.csv')"
   ],
   "metadata": {
    "collapsed": false
   }
  },
  {
   "cell_type": "code",
   "execution_count": null,
   "outputs": [],
   "source": [
    "df = pd.read_csv('../data/plv_coherence/plv_coherence_vals.csv').query('Metric == \"PLV\"')"
   ],
   "metadata": {
    "collapsed": false
   }
  },
  {
   "cell_type": "code",
   "execution_count": null,
   "outputs": [],
   "source": [
    "import matplotlib\n",
    "matplotlib.rcParams['pdf.fonttype'] = 42\n",
    "sns.set(font_scale=1.5)\n",
    "sns.set_style(\"white\", {'axes.grid' : True})\n",
    "g = sns.catplot(data=df, x='Phase', y='Value', hue='Day', col='Session', row='Band', kind='point', dodge=0.07, capsize=0.05)\n",
    "g.savefig('plots/plv/value~phase.pdf')"
   ],
   "metadata": {
    "collapsed": false
   }
  },
  {
   "cell_type": "code",
   "execution_count": null,
   "outputs": [],
   "source": [
    "import matplotlib\n",
    "matplotlib.rcParams['pdf.fonttype'] = 42\n",
    "sns.set(font_scale=1.5)\n",
    "sns.set_style(\"white\", {'axes.grid' : True})\n",
    "data = df.copy()\n",
    "data.rename(columns={'Day': 'Condition'}, inplace=True)\n",
    "g = sns.catplot(\n",
    "    data=data,\n",
    "    x='Phase',\n",
    "    y='Value',\n",
    "    hue='Session',\n",
    "    col='Condition',\n",
    "    row='Band',\n",
    "    kind='point',\n",
    "    dodge=0.07,\n",
    "    capsize=0.05,\n",
    "    order=['Background', 'Base']\n",
    ")\n",
    "\n",
    "g.savefig('plots/plv/value~phase.pdf')"
   ],
   "metadata": {
    "collapsed": false
   }
  }
 ],
 "metadata": {
  "kernelspec": {
   "display_name": "Python 3",
   "language": "python",
   "name": "python3"
  },
  "language_info": {
   "codemirror_mode": {
    "name": "ipython",
    "version": 2
   },
   "file_extension": ".py",
   "mimetype": "text/x-python",
   "name": "python",
   "nbconvert_exporter": "python",
   "pygments_lexer": "ipython2",
   "version": "2.7.6"
  }
 },
 "nbformat": 4,
 "nbformat_minor": 0
}
