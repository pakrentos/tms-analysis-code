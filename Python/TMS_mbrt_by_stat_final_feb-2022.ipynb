{
 "cells": [
  {
   "cell_type": "code",
   "execution_count": 2,
   "id": "f2352808-b362-4abe-8f6d-2d51788fa0d7",
   "metadata": {
    "execution": {
     "iopub.execute_input": "2022-02-02T11:22:50.800256Z",
     "iopub.status.busy": "2022-02-02T11:22:50.800256Z",
     "iopub.status.idle": "2022-02-02T11:22:50.809253Z",
     "shell.execute_reply": "2022-02-02T11:22:50.808257Z",
     "shell.execute_reply.started": "2022-02-02T11:22:50.800256Z"
    },
    "tags": []
   },
   "outputs": [],
   "source": [
    "import warnings\n",
    "import numpy as np\n",
    "import scipy.stats as stats\n",
    "import matplotlib.pyplot as plt\n",
    "import pandas as pd\n",
    "import mne\n",
    "from tqdm import tqdm\n",
    "import matplotlib\n",
    "matplotlib.rcParams['pdf.fonttype'] = 42\n",
    "from ipywidgets import interact\n",
    "import ipywidgets as widgets\n",
    "warnings.filterwarnings('ignore')"
   ]
  },
  {
   "cell_type": "markdown",
   "id": "5ed2d424-51cf-43f0-bad3-386962372ec8",
   "metadata": {},
   "source": [
    "# Load data"
   ]
  },
  {
   "cell_type": "code",
   "execution_count": 3,
   "id": "2c5d5994-9e73-4636-805d-c0a3bd4885f3",
   "metadata": {
    "execution": {
     "iopub.execute_input": "2022-02-02T11:15:45.162917Z",
     "iopub.status.busy": "2022-02-02T11:15:45.162917Z",
     "iopub.status.idle": "2022-02-02T11:15:45.279667Z",
     "shell.execute_reply": "2022-02-02T11:15:45.278659Z",
     "shell.execute_reply.started": "2022-02-02T11:15:45.162917Z"
    }
   },
   "outputs": [
    {
     "name": "stdout",
     "output_type": "stream",
     "text": [
      "Could not find a adjacency matrix for the data. Computing adjacency based on Delaunay triangulations.\n",
      "-- number of adjacent vertices : 13\n"
     ]
    }
   ],
   "source": [
    "chlist = None#path to channels list, npy\n",
    "data = None #path to data, npy\n",
    "time = np.r_[1:9:0.004][1000:]\n",
    "\n",
    "montage = mne.channels.make_standard_montage('standard_1020')\n",
    "info = mne.create_info(chlist.tolist(), 1000, ch_types='eeg',)\n",
    "info.set_montage(montage)\n",
    "\n",
    "sensor_adjacency, ch_names = mne.channels.find_ch_adjacency(\n",
    "    info, 'eeg')"
   ]
  },
  {
   "cell_type": "code",
   "execution_count": 13,
   "id": "ab4d70fd-63df-4b4d-86dd-df809d29c26e",
   "metadata": {
    "execution": {
     "iopub.execute_input": "2022-02-07T12:44:18.260539Z",
     "iopub.status.busy": "2022-02-07T12:44:18.260539Z",
     "iopub.status.idle": "2022-02-07T12:44:24.981384Z",
     "shell.execute_reply": "2022-02-07T12:44:24.980384Z",
     "shell.execute_reply.started": "2022-02-07T12:44:18.260539Z"
    },
    "tags": []
   },
   "outputs": [
    {
     "name": "stderr",
     "output_type": "stream",
     "text": [
      "  2%|▏         | 2/120 [00:25<23:59, 12.20s/it]/var/folders/tj/lr6p2mw95bqcmgs698v6nqx40000gn/T/ipykernel_9862/4279788985.py:30: RuntimeWarning: No clusters found, returning empty H0, clusters, and cluster_pv\n",
      "  res = mne.stats.spatio_temporal_cluster_1samp_test(a, n_permutations=2000,\n",
      "/var/folders/tj/lr6p2mw95bqcmgs698v6nqx40000gn/T/ipykernel_9862/4279788985.py:30: RuntimeWarning: No clusters found, returning empty H0, clusters, and cluster_pv\n",
      "  res = mne.stats.spatio_temporal_cluster_1samp_test(a, n_permutations=2000,\n",
      " 69%|██████▉   | 83/120 [14:26<06:21, 10.31s/it]/var/folders/tj/lr6p2mw95bqcmgs698v6nqx40000gn/T/ipykernel_9862/4279788985.py:30: RuntimeWarning: No clusters found, returning empty H0, clusters, and cluster_pv\n",
      "  res = mne.stats.spatio_temporal_cluster_1samp_test(a, n_permutations=2000,\n",
      " 86%|████████▌ | 103/120 [17:47<02:29,  8.77s/it]/var/folders/tj/lr6p2mw95bqcmgs698v6nqx40000gn/T/ipykernel_9862/4279788985.py:30: RuntimeWarning: No clusters found, returning empty H0, clusters, and cluster_pv\n",
      "  res = mne.stats.spatio_temporal_cluster_1samp_test(a, n_permutations=2000,\n",
      "100%|██████████| 120/120 [20:32<00:00, 10.27s/it]\n"
     ]
    }
   ],
   "source": [
    "sessions = {\n",
    "    'Im1': 0,\n",
    "    'Im2': 1\n",
    "}\n",
    "\n",
    "subs = np.r_[:15]\n",
    "# days = np.r_[:2]\n",
    "sessions = np.r_[:2]\n",
    "crit_muls = [0, 1, 2, 5]\n",
    "\n",
    "index = pd.MultiIndex.from_product([sessions, subs, crit_muls])\n",
    "conds = np.array(index.to_list())\n",
    "results = []\n",
    "\n",
    "for session, sub, crit_mul in tqdm(conds):\n",
    "    day = 0\n",
    "    a = data[day, session, sub]\n",
    "    # a = np.rollaxis(a, 1)\n",
    "    # a = np.rollaxis(a, 1, 3)\n",
    "    a_mask = ~(np.isnan(a).any(-1).any(-1))\n",
    "    a = a[a_mask]\n",
    "    # print(f'{day} {session} {sub}: {np.isnan(a).any()}')\n",
    "    \n",
    "    alpha = 0.05/(2**int(crit_mul))\n",
    "    thresh = -stats.t.ppf(q=1 - alpha, df=a.shape[0] - 1)\n",
    "    \n",
    "    if a.shape[0] == 0:\n",
    "        res = None\n",
    "    else:\n",
    "        res = mne.stats.spatio_temporal_cluster_1samp_test(a, n_permutations=2000,\n",
    "                                                         tail=-1, n_jobs=4, out_type='mask',\n",
    "                                                         threshold=thresh,\n",
    "                                                         adjacency=sensor_adjacency, stat_fun=mne.stats.ttest_1samp_no_p,\n",
    "                                                         verbose=False)\n",
    "    results.append(res)\n",
    "\n",
    "# new_results = []\n",
    "# for i in results:\n",
    "#     if i is None:\n",
    "#         new_results.append(None)\n",
    "#     else:\n",
    "#         T_obs, clusters, cluster_p_values, H0 = i\n",
    "#         new_results.append((T_obs, cluster_p_values, H0))\n",
    "\n",
    "npresults = np.array(results, dtype=object)\n",
    "npresults = npresults.reshape(2, 15, 4, -1)\n",
    "np.save('../data/TMS_TIME-CH-TRIAL_DAY2_IM1-2_SHAM_MOTOR-AREA_BCORR_POST_STAT-BY-SUB_NEG.npy', npresults)"
   ]
  },
  {
   "cell_type": "code",
   "execution_count": 31,
   "outputs": [
    {
     "name": "stdout",
     "output_type": "stream",
     "text": [
      "TMS Im1 14\n",
      "0 0.05 -1.7709333959867988\n",
      "TMS Im1 14\n",
      "1 0.025 -2.1603686564610127\n",
      "TMS Im1 14\n",
      "2 0.0125 -2.532637814633595\n",
      "TMS Im1 14\n",
      "5 0.0015625 -3.617584790368987\n",
      "TMS Im2 14\n",
      "0 0.05 -1.7709333959867988\n",
      "TMS Im2 14\n",
      "1 0.025 -2.1603686564610127\n",
      "TMS Im2 14\n",
      "2 0.0125 -2.532637814633595\n",
      "TMS Im2 14\n",
      "5 0.0015625 -3.617584790368987\n",
      "Sham Im1 15\n",
      "0 0.05 -1.7613101357748562\n",
      "Sham Im1 15\n",
      "1 0.025 -2.1447866879169273\n",
      "Sham Im1 15\n",
      "2 0.0125 -2.5095694114796663\n",
      "Sham Im1 15\n",
      "5 0.0015625 -3.5620894901633755\n",
      "Sham Im2 15\n",
      "0 0.05 -1.7613101357748562\n",
      "Sham Im2 15\n",
      "1 0.025 -2.1447866879169273\n",
      "Sham Im2 15\n",
      "2 0.0125 -2.5095694114796663\n",
      "Sham Im2 15\n",
      "5 0.0015625 -3.5620894901633755\n"
     ]
    }
   ],
   "source": [
    "from itertools import product\n",
    "d2tms_stat = np.load('../data/TMS_TIME-CH-TRIAL_DAY2_IM1-2_MOTOR-AREA_BCORR_POST_STAT-BY-SUB_NEG.npy', allow_pickle=True)\n",
    "d2sham_stat = np.load('../data/TMS_TIME-CH-TRIAL_DAY2_IM1-2_SHAM_MOTOR-AREA_BCORR_POST_STAT-BY-SUB_NEG.npy', allow_pickle=True)\n",
    "crit_muls = [0, 1, 2, 5]\n",
    "arrs = [d2tms_stat, d2sham_stat]\n",
    "conds = [\"TMS\", \"Sham\"]\n",
    "sessions = ['Im1', 'Im2']\n",
    "res = []\n",
    "for cond, sess in product([0, 1], [0, 1]):\n",
    "    for crit_mul in crit_muls:\n",
    "        a = 14 if cond == 0 else 15\n",
    "        print(conds[cond], sessions[sess], a)\n",
    "        alpha = 0.05/(2**int(crit_mul))\n",
    "        thresh = -stats.t.ppf(q=1 - alpha, df=a - 1)\n",
    "        print(crit_mul, alpha, thresh)\n",
    "        res.append((conds[cond], sessions[sess], alpha, thresh, a - 1))\n"
   ],
   "metadata": {
    "collapsed": false,
    "pycharm": {
     "name": "#%%\n"
    }
   }
  },
  {
   "cell_type": "code",
   "execution_count": 32,
   "outputs": [
    {
     "data": {
      "text/plain": "   Condition Task     Alpha  t-threshold  df\n0        TMS  Im1  0.050000    -1.770933  13\n1        TMS  Im1  0.025000    -2.160369  13\n2        TMS  Im1  0.012500    -2.532638  13\n3        TMS  Im1  0.001563    -3.617585  13\n4        TMS  Im2  0.050000    -1.770933  13\n5        TMS  Im2  0.025000    -2.160369  13\n6        TMS  Im2  0.012500    -2.532638  13\n7        TMS  Im2  0.001563    -3.617585  13\n8       Sham  Im1  0.050000    -1.761310  14\n9       Sham  Im1  0.025000    -2.144787  14\n10      Sham  Im1  0.012500    -2.509569  14\n11      Sham  Im1  0.001563    -3.562089  14\n12      Sham  Im2  0.050000    -1.761310  14\n13      Sham  Im2  0.025000    -2.144787  14\n14      Sham  Im2  0.012500    -2.509569  14\n15      Sham  Im2  0.001563    -3.562089  14",
      "text/html": "<div>\n<style scoped>\n    .dataframe tbody tr th:only-of-type {\n        vertical-align: middle;\n    }\n\n    .dataframe tbody tr th {\n        vertical-align: top;\n    }\n\n    .dataframe thead th {\n        text-align: right;\n    }\n</style>\n<table border=\"1\" class=\"dataframe\">\n  <thead>\n    <tr style=\"text-align: right;\">\n      <th></th>\n      <th>Condition</th>\n      <th>Task</th>\n      <th>Alpha</th>\n      <th>t-threshold</th>\n      <th>df</th>\n    </tr>\n  </thead>\n  <tbody>\n    <tr>\n      <th>0</th>\n      <td>TMS</td>\n      <td>Im1</td>\n      <td>0.050000</td>\n      <td>-1.770933</td>\n      <td>13</td>\n    </tr>\n    <tr>\n      <th>1</th>\n      <td>TMS</td>\n      <td>Im1</td>\n      <td>0.025000</td>\n      <td>-2.160369</td>\n      <td>13</td>\n    </tr>\n    <tr>\n      <th>2</th>\n      <td>TMS</td>\n      <td>Im1</td>\n      <td>0.012500</td>\n      <td>-2.532638</td>\n      <td>13</td>\n    </tr>\n    <tr>\n      <th>3</th>\n      <td>TMS</td>\n      <td>Im1</td>\n      <td>0.001563</td>\n      <td>-3.617585</td>\n      <td>13</td>\n    </tr>\n    <tr>\n      <th>4</th>\n      <td>TMS</td>\n      <td>Im2</td>\n      <td>0.050000</td>\n      <td>-1.770933</td>\n      <td>13</td>\n    </tr>\n    <tr>\n      <th>5</th>\n      <td>TMS</td>\n      <td>Im2</td>\n      <td>0.025000</td>\n      <td>-2.160369</td>\n      <td>13</td>\n    </tr>\n    <tr>\n      <th>6</th>\n      <td>TMS</td>\n      <td>Im2</td>\n      <td>0.012500</td>\n      <td>-2.532638</td>\n      <td>13</td>\n    </tr>\n    <tr>\n      <th>7</th>\n      <td>TMS</td>\n      <td>Im2</td>\n      <td>0.001563</td>\n      <td>-3.617585</td>\n      <td>13</td>\n    </tr>\n    <tr>\n      <th>8</th>\n      <td>Sham</td>\n      <td>Im1</td>\n      <td>0.050000</td>\n      <td>-1.761310</td>\n      <td>14</td>\n    </tr>\n    <tr>\n      <th>9</th>\n      <td>Sham</td>\n      <td>Im1</td>\n      <td>0.025000</td>\n      <td>-2.144787</td>\n      <td>14</td>\n    </tr>\n    <tr>\n      <th>10</th>\n      <td>Sham</td>\n      <td>Im1</td>\n      <td>0.012500</td>\n      <td>-2.509569</td>\n      <td>14</td>\n    </tr>\n    <tr>\n      <th>11</th>\n      <td>Sham</td>\n      <td>Im1</td>\n      <td>0.001563</td>\n      <td>-3.562089</td>\n      <td>14</td>\n    </tr>\n    <tr>\n      <th>12</th>\n      <td>Sham</td>\n      <td>Im2</td>\n      <td>0.050000</td>\n      <td>-1.761310</td>\n      <td>14</td>\n    </tr>\n    <tr>\n      <th>13</th>\n      <td>Sham</td>\n      <td>Im2</td>\n      <td>0.025000</td>\n      <td>-2.144787</td>\n      <td>14</td>\n    </tr>\n    <tr>\n      <th>14</th>\n      <td>Sham</td>\n      <td>Im2</td>\n      <td>0.012500</td>\n      <td>-2.509569</td>\n      <td>14</td>\n    </tr>\n    <tr>\n      <th>15</th>\n      <td>Sham</td>\n      <td>Im2</td>\n      <td>0.001563</td>\n      <td>-3.562089</td>\n      <td>14</td>\n    </tr>\n  </tbody>\n</table>\n</div>"
     },
     "execution_count": 32,
     "metadata": {},
     "output_type": "execute_result"
    }
   ],
   "source": [
    "df = pd.DataFrame(res, columns=['Condition', 'Task', 'Alpha', 't-threshold', 'df'])\n",
    "df.to_csv(\"t-thresholds.csv\", index=False)\n",
    "df"
   ],
   "metadata": {
    "collapsed": false,
    "pycharm": {
     "name": "#%%\n"
    }
   }
  },
  {
   "cell_type": "code",
   "execution_count": 15,
   "outputs": [
    {
     "ename": "TypeError",
     "evalue": "'NoneType' object is not subscriptable",
     "output_type": "error",
     "traceback": [
      "\u001B[0;31m---------------------------------------------------------------------------\u001B[0m",
      "\u001B[0;31mTypeError\u001B[0m                                 Traceback (most recent call last)",
      "\u001B[0;32m/var/folders/tj/lr6p2mw95bqcmgs698v6nqx40000gn/T/ipykernel_62390/1344916591.py\u001B[0m in \u001B[0;36m<module>\u001B[0;34m\u001B[0m\n\u001B[0;32m----> 1\u001B[0;31m \u001B[0md2tms_stat\u001B[0m\u001B[0;34m[\u001B[0m\u001B[0;36m0\u001B[0m\u001B[0;34m,\u001B[0m \u001B[0;36m9\u001B[0m\u001B[0;34m,\u001B[0m \u001B[0;36m0\u001B[0m\u001B[0;34m,\u001B[0m \u001B[0;36m0\u001B[0m\u001B[0;34m]\u001B[0m\u001B[0;34m[\u001B[0m\u001B[0;36m3\u001B[0m\u001B[0;34m]\u001B[0m\u001B[0;34m\u001B[0m\u001B[0;34m\u001B[0m\u001B[0m\n\u001B[0m",
      "\u001B[0;31mTypeError\u001B[0m: 'NoneType' object is not subscriptable"
     ]
    }
   ],
   "source": [
    "d2tms_stat[0, 9, 0, 0]"
   ],
   "metadata": {
    "collapsed": false,
    "pycharm": {
     "name": "#%%\n"
    }
   }
  },
  {
   "cell_type": "code",
   "execution_count": null,
   "outputs": [],
   "source": [
    "def plot_stat_topomap(T_obs, clus, info, axes=None, cl_ind=0):\n",
    "    timefreq_mask = np.any(clus, axis=-1)\n",
    "    nanmask = np.zeros(clus.shape)\n",
    "    nanmask[~clus] = np.nan\n",
    "    T_obs_filt = T_obs + nanmask\n",
    "    topo = np.nanmean((T_obs_filt).T[:,timefreq_mask], axis=-1)\n",
    "    topo[np.isnan(topo)] = 0\n",
    "    return mne.viz.plot_topomap(topo, info, axes=axes, show=False, names=info.ch_names, show_names=True, extrapolate='local')\n",
    "\n",
    "def plot_topo_n_t(time, t_obs, cluster, info, time_tr_mask=None):\n",
    "    if time_tr_mask is None:\n",
    "        time_tr_mask = np.ones(time.shape, dtype=bool)\n",
    "\n",
    "    fig, (ax1, ax2) = plt.subplots(1, 2, figsize=(12, 4))\n",
    "    ax1.plot(time[time_tr_mask], np.mean(t_obs*cluster, axis=-1)[time_tr_mask])\n",
    "    ax1.set_ylabel('T value')\n",
    "    ax1.set_xlabel('Time (sec)')\n",
    "    ax1.grid()\n",
    "    im, _ = plot_stat_topomap(t_obs[time_tr_mask], cluster[time_tr_mask], info, axes=ax2)\n",
    "    plt.colorbar(im, ax=ax2)\n",
    "    #     ax1.set_title(f'Cluster p-value = {cluster_p_values[ind]} #{ind}')\n",
    "    #     fig.suptitle(f'Base vs Post: Subject {sub + 1} Day {day}; {session_name} session; {band_name} band', fontsize=20)\n",
    "    fig.tight_layout()\n",
    "    return fig\n",
    "\n",
    "def local_mins(sig):\n",
    "    sig_len = sig.shape[-1]\n",
    "    local_min_points_mask = np.diff((np.diff(sig) < 0).astype(int)) < 0\n",
    "    local_min_points_inds = np.r_[2:sig_len][local_min_points_mask]\n",
    "    local_min_points_values = sig[local_min_points_inds]\n",
    "    return local_min_points_inds, local_min_points_values\n",
    "\n",
    "def plot_mins(time, sig, ax):\n",
    "    tinds, vals = local_mins(sig)\n",
    "    print(vals)\n",
    "    mask = [True] + (np.diff(tinds) > 30).tolist()\n",
    "    for tind, val in zip(tinds[mask], vals[mask]):\n",
    "        timex = time[tind]\n",
    "        ax.text(timex - 0.4, val, f'{timex:.3f}')"
   ],
   "metadata": {
    "collapsed": false,
    "pycharm": {
     "name": "#%%\n"
    }
   }
  },
  {
   "cell_type": "code",
   "execution_count": null,
   "outputs": [],
   "source": [
    "% matplotlib inline\n",
    "label = 'TMS'\n",
    "data, stat = res[label]\n",
    "# sub = 4\n",
    "name_dict = {}\n",
    "critmuls_dict = {\n",
    "    0.05 / (2 ** 0): 0,\n",
    "    0.05 / (2 ** 1): 1,\n",
    "    0.05 / (2 ** 2): 2,\n",
    "    0.05 / (2 ** 5): 3\n",
    "}\n",
    "\n",
    "\n",
    "def plot_all(sub_real_ind, session, crit_mul_ind):\n",
    "    session_name = ['Im1', 'Im2'][session]\n",
    "    sub = sub_real_ind + 1\n",
    "    a = data[0, session, sub_real_ind]\n",
    "    a_s = np.nanstd(a, 0)  # std over trials <(tr, time, ch) -> (time, ch)>\n",
    "    a = np.nanmean(a, 0)  # average over trials <(tr, time, ch) -> (time, ch)>\n",
    "    # critmuls = [0.05/(2**0), 0.05/(2**1), 0.05/(2**2), 0.05/(2**5)]\n",
    "\n",
    "    clus_ind = None\n",
    "    de_time = None\n",
    "    T_obs, clusters, cluster_p_values, _ = stat[1, session, sub_real_ind, crit_mul_ind]\n",
    "\n",
    "    inds = np.arange(len(cluster_p_values), dtype=int)[cluster_p_values < 0.3][::][:]\n",
    "    clusters_num = len(inds)\n",
    "\n",
    "    print(cluster_p_values)\n",
    "\n",
    "    fig, axes = plt.subplots(clusters_num, 2, figsize=(12, 4 * clusters_num))\n",
    "\n",
    "    if clusters_num == 1:\n",
    "        axes = [axes]\n",
    "\n",
    "    for temp_ind, (ax1, ax2) in enumerate(axes):\n",
    "        ind = inds[temp_ind]\n",
    "        cluster = clusters[ind]\n",
    "        pval = cluster_p_values[ind]\n",
    "\n",
    "        chmask = cluster.any(0)\n",
    "\n",
    "        t_obs_temp = T_obs.copy()  # for averaging over channels\n",
    "        t_obs_temp = t_obs_temp * cluster\n",
    "        t_obs_temp[~cluster] = np.nan\n",
    "        t_obs_temp = np.nanmean(t_obs_temp, -1)\n",
    "        t_obs_temp[np.isnan(t_obs_temp)] = 0\n",
    "        f = 50\n",
    "        t_obs_temp = np.convolve(t_obs_temp, np.ones(f), mode='same') / f\n",
    "\n",
    "        a_mean = a[..., chmask].mean(-1)\n",
    "        a_std = a_s[..., chmask].mean(-1)\n",
    "\n",
    "        ax1_t = ax1.twinx()\n",
    "        ax1_t.plot(time, t_obs_temp)\n",
    "        append = ''\n",
    "        if clus_ind is not None and ind == clus_ind:\n",
    "            #             plot_mins(time, t_obs_temp, ax1_t)\n",
    "            append = 'Выбранный кластер\\n'\n",
    "            val = t_obs_temp[np.abs(time - de_time).argmin()]\n",
    "            ax1_t.text(de_time - 0.4, val, f'{de_time:.3f}')\n",
    "        #         except IndexError:\n",
    "        #             pass\n",
    "\n",
    "        ax1.plot(time, a_mean, color='orange')\n",
    "        ax1.fill_between(time, a_mean - a_std, a_mean + a_std, color='orange', alpha=0.1)\n",
    "        ax1_t.set_ylabel('T значения')\n",
    "        ax1.set_ylabel('Средняя энергия в альфа')\n",
    "        ax1.set_xlabel('Время (сек)')\n",
    "        ax1.grid()\n",
    "        im, _ = plot_stat_topomap(T_obs, cluster, info, axes=ax2)\n",
    "        plt.colorbar(im, ax=ax2)\n",
    "        ax1.set_title(f'{append}P-значение кластера = {pval} #{ind}')\n",
    "    #     fig.suptitle(f'Постстимул - престимул: Субъект {sub} День {label}; {session_name} session; High Alpha band; clusteralpha = {critmul}', fontsize=20)\n",
    "    fig.tight_layout()\n",
    "    plt.show();\n",
    "    name_dict['dirname'] = f'../stat_by_subject_plots_may-2022-only-plot/{label}'\n",
    "    name_dict['fname'] = f'base-vs-post_day-{label}_session-{session_name}_sub-{sub}_clus_any.pdf'\n",
    "    name_dict['fig'] = fig\n",
    "\n",
    "\n",
    "def save_fig(description):\n",
    "    fig = name_dict['fig']\n",
    "    dirname = name_dict['dirname']\n",
    "    fname = name_dict['fname']\n",
    "    fig.savefig(f'{dirname}/{fname}')\n",
    "\n",
    "\n",
    "sub_slider = widgets.IntSlider(min=0, max=14, step=1, value=0)\n",
    "session_slider = widgets.IntSlider(min=0, max=1, step=1, value=0)\n",
    "crit_slider = widgets.IntSlider(min=-1, max=3, step=1, value=-1)\n",
    "save_button = widgets.Button(description=\"Save fig\")\n",
    "save_button.on_click(save_fig)\n",
    "display(save_button)\n",
    "\n",
    "interact(plot_all,\n",
    "         sub_real_ind=sub_slider,\n",
    "         session=session_slider,\n",
    "         crit_mul_ind=crit_slider,\n",
    "         sas_button=save_button);"
   ],
   "metadata": {
    "collapsed": false,
    "pycharm": {
     "name": "#%%\n"
    }
   }
  },
  {
   "cell_type": "code",
   "execution_count": null,
   "outputs": [],
   "source": [],
   "metadata": {
    "collapsed": false,
    "pycharm": {
     "name": "#%%"
    }
   }
  }
 ],
 "metadata": {
  "kernelspec": {
   "display_name": "Python 3",
   "language": "python",
   "name": "python3"
  },
  "language_info": {
   "codemirror_mode": {
    "name": "ipython",
    "version": 3
   },
   "file_extension": ".py",
   "mimetype": "text/x-python",
   "name": "python",
   "nbconvert_exporter": "python",
   "pygments_lexer": "ipython3",
   "version": "3.9.7"
  }
 },
 "nbformat": 4,
 "nbformat_minor": 5
}