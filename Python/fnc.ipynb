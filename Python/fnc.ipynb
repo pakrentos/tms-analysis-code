{
 "cells": [
  {
   "cell_type": "code",
   "execution_count": 3,
   "metadata": {
    "collapsed": true
   },
   "outputs": [],
   "source": [
    "import pandas as pd\n",
    "import numpy as np\n",
    "from scipy import stats\n",
    "from os.path import basename\n",
    "from blab.array import loadmat\n",
    "from glob import glob\n",
    "import mne\n",
    "import bct\n",
    "from matplotlib import pyplot as plt\n",
    "import seaborn as sns\n",
    "from scipy.sparse import csc_matrix\n",
    "import scipy.io as spio\n",
    "from tqdm import tqdm\n",
    "from statsmodels.stats.multitest import multipletests\n",
    "import networkx as nx\n",
    "import scipy.sparse as sparse\n",
    "from IPython.display import display as disp\n",
    "from scipy import special\n",
    "from scipy import ndimage\n",
    "from mne.stats.cluster_level import _find_clusters as find_clusters\n",
    "from toolz.functoolz import curry\n",
    "from scipy.stats._hypotests import _batch_generator as batch_generator\n",
    "from pickle import dump, load"
   ]
  },
  {
   "cell_type": "code",
   "execution_count": 39,
   "outputs": [],
   "source": [
    "mbrt_df = pd.read_csv('mbrt_all.csv')\n",
    "mbrt_df.set_index(['Day', 'Session', 'Subject'], inplace=True)\n",
    "mbrt_im1 = mbrt_df.query('Subject != 10 and Session == \"Im1\"')['MBRT ANY'].to_list()\n",
    "mbrt_im1 = np.array(mbrt_im1[15:] + mbrt_im1[:15])\n",
    "\n",
    "mbrt_im2 = mbrt_df.query('Subject != 10 and Session == \"Im2\" and Day == \"TMS\"')['MBRT ANY'].to_list()[:14]\n",
    "mbrt_im2 = np.array(mbrt_im2)\n",
    "\n",
    "fnames_im1 = sorted(glob('../data/fnc/fnc_im1/*'))\n",
    "fnames_im2 = sorted(glob('../data/fnc/fnc_im2/*'))"
   ],
   "metadata": {
    "collapsed": false,
    "pycharm": {
     "name": "#%%\n"
    }
   }
  },
  {
   "cell_type": "markdown",
   "source": [],
   "metadata": {
    "collapsed": false,
    "pycharm": {
     "name": "#%% md\n"
    }
   }
  },
  {
   "cell_type": "code",
   "execution_count": 40,
   "outputs": [
    {
     "name": "stderr",
     "output_type": "stream",
     "text": [
      "100%|██████████| 5/5 [00:04<00:00,  1.03it/s]\n"
     ]
    }
   ],
   "source": [
    "def corr(src, trgt):\n",
    "    res = []\n",
    "    mask = ~np.isnan(trgt)\n",
    "    src = src.copy()[..., mask]\n",
    "    trgt = trgt.copy()[mask]\n",
    "    for i in src.reshape(116*116, -1):\n",
    "        if np.all(i == i[0]):\n",
    "            res.append((np.nan, np.nan))\n",
    "        else:\n",
    "            # temp = stats.permutation_test([i, trgt], lambda *o: stats.pearsonr(*o)[0], permutation_type='pairings', n_resamples=1000)\n",
    "            stat, pval = stats.pearsonr(i, trgt)\n",
    "            # stat, pval = temp.statistic, temp.pvalue\n",
    "            res.append((stat, pval))\n",
    "    return np.array(res).reshape(116, 116, 2)\n",
    "\n",
    "res_matr = {}\n",
    "for fname in tqdm(fnames_im1):\n",
    "    sas = loadmat(fname)\n",
    "    sos = sas['nbs']\n",
    "    cons = sos['conmatr']\n",
    "    n = cons.shape[-1]//2\n",
    "    cons = cons[..., :n] - cons[..., n:] # post - base\n",
    "    corr_mat = corr(cons, mbrt_im1)\n",
    "    res_matr[basename(fname)] = corr_mat\n",
    "    datar = corr_mat[..., 0].copy()\n",
    "    a = np.tril_indices(116)\n",
    "    corr_mat[a] *= np.nan\n",
    "    # corr_mat[..., 1] = multipletests(corr_mat[..., 1], alpha=0.05, method='hs', is_sorted=False, returnsorted=False)[-1]\n",
    "    inds = np.arange(116)\n",
    "    a, b = np.meshgrid(inds, inds)\n",
    "    mask = (corr_mat[..., 1] < 0.05)\n",
    "    row, col = a[mask], b[mask]\n",
    "    datap = corr_mat[..., 1][mask]\n",
    "    inds = np.argsort(datap)\n",
    "    cut = len(inds)\n",
    "    datap = datap[inds][:cut]\n",
    "    row, col = row[inds][:cut], col[inds][:cut]\n",
    "\n",
    "    # datar = csc_matrix((datar, (row, col)), shape=(116, 116))\n",
    "    datap = csc_matrix((np.ones(cut), (row, col)), shape=(116, 116))\n",
    "    sas['nbs']['NBS']['con_mat'] = datap\n",
    "    sas['nbs']['NBS']['test_stat'] = datar\n",
    "    # spio.savemat(f'{fname}_UPD.mat', sas)"
   ],
   "metadata": {
    "collapsed": false,
    "pycharm": {
     "name": "#%%\n"
    }
   }
  },
  {
   "cell_type": "code",
   "execution_count": 175,
   "outputs": [
    {
     "data": {
      "text/plain": "     Node.A  Node.B  Corr. coef.   p-value\n38     56.0    13.0    -0.558739  0.000726\n186   102.0    87.0    -0.517674  0.002032\n107   102.0    39.0    -0.516568  0.002086\n137    60.0    53.0     0.515664  0.002131\n67     87.0    19.0    -0.514930  0.002167\n..      ...     ...          ...       ...\n86     74.0    33.0    -0.345784  0.048717\n62     52.0    19.0     0.344991  0.049270\n199   105.0    99.0    -0.344818  0.049392\n12    113.0     3.0     0.344786  0.049415\n29     58.0    11.0    -0.344498  0.049617\n\n[205 rows x 4 columns]",
      "text/html": "<div>\n<style scoped>\n    .dataframe tbody tr th:only-of-type {\n        vertical-align: middle;\n    }\n\n    .dataframe tbody tr th {\n        vertical-align: top;\n    }\n\n    .dataframe thead th {\n        text-align: right;\n    }\n</style>\n<table border=\"1\" class=\"dataframe\">\n  <thead>\n    <tr style=\"text-align: right;\">\n      <th></th>\n      <th>Node.A</th>\n      <th>Node.B</th>\n      <th>Corr. coef.</th>\n      <th>p-value</th>\n    </tr>\n  </thead>\n  <tbody>\n    <tr>\n      <th>38</th>\n      <td>56.0</td>\n      <td>13.0</td>\n      <td>-0.558739</td>\n      <td>0.000726</td>\n    </tr>\n    <tr>\n      <th>186</th>\n      <td>102.0</td>\n      <td>87.0</td>\n      <td>-0.517674</td>\n      <td>0.002032</td>\n    </tr>\n    <tr>\n      <th>107</th>\n      <td>102.0</td>\n      <td>39.0</td>\n      <td>-0.516568</td>\n      <td>0.002086</td>\n    </tr>\n    <tr>\n      <th>137</th>\n      <td>60.0</td>\n      <td>53.0</td>\n      <td>0.515664</td>\n      <td>0.002131</td>\n    </tr>\n    <tr>\n      <th>67</th>\n      <td>87.0</td>\n      <td>19.0</td>\n      <td>-0.514930</td>\n      <td>0.002167</td>\n    </tr>\n    <tr>\n      <th>...</th>\n      <td>...</td>\n      <td>...</td>\n      <td>...</td>\n      <td>...</td>\n    </tr>\n    <tr>\n      <th>86</th>\n      <td>74.0</td>\n      <td>33.0</td>\n      <td>-0.345784</td>\n      <td>0.048717</td>\n    </tr>\n    <tr>\n      <th>62</th>\n      <td>52.0</td>\n      <td>19.0</td>\n      <td>0.344991</td>\n      <td>0.049270</td>\n    </tr>\n    <tr>\n      <th>199</th>\n      <td>105.0</td>\n      <td>99.0</td>\n      <td>-0.344818</td>\n      <td>0.049392</td>\n    </tr>\n    <tr>\n      <th>12</th>\n      <td>113.0</td>\n      <td>3.0</td>\n      <td>0.344786</td>\n      <td>0.049415</td>\n    </tr>\n    <tr>\n      <th>29</th>\n      <td>58.0</td>\n      <td>11.0</td>\n      <td>-0.344498</td>\n      <td>0.049617</td>\n    </tr>\n  </tbody>\n</table>\n<p>205 rows × 4 columns</p>\n</div>"
     },
     "execution_count": 175,
     "metadata": {},
     "output_type": "execute_result"
    }
   ],
   "source": [
    "inds = np.arange(116)\n",
    "a, b = np.meshgrid(inds, inds)\n",
    "mask = (corr_mat[..., 1] < 0.05)\n",
    "inds = np.vstack([a[mask], b[mask]])\n",
    "arr = np.hstack([inds.T, corr_mat[..., 0][mask][..., None], corr_mat[..., 1][mask][..., None]])\n",
    "df = pd.DataFrame(arr, columns=['Node.A', 'Node.B', 'Corr. coef.', 'p-value'])\n",
    "df.sort_values('p-value')"
   ],
   "metadata": {
    "collapsed": false,
    "pycharm": {
     "name": "#%%\n"
    }
   }
  },
  {
   "cell_type": "code",
   "execution_count": 283,
   "outputs": [
    {
     "name": "stderr",
     "output_type": "stream",
     "text": [
      "100%|██████████| 5/5 [00:01<00:00,  3.31it/s]\n"
     ]
    }
   ],
   "source": [
    "for fname in tqdm(fnames_im1):\n",
    "    sas = loadmat(fname)\n",
    "    sos = sas['nbs']\n",
    "    cons = sos['conmatr']\n",
    "    n = cons.shape[-1]//2\n",
    "    cons = cons[..., :n] - cons[..., n:] # post - base\n",
    "    corr_mat = res_matr[basename(fname)].copy()\n",
    "    a = np.tril_indices(116)\n",
    "    corr_mat[a] = np.swapaxes(corr_mat, 0, 1)[a]\n",
    "    datar = corr_mat[..., 0].copy()\n",
    "    a = np.tril_indices(116)\n",
    "    corr_mat[a] *= np.nan\n",
    "    inds = np.arange(116)\n",
    "    a, b = np.meshgrid(inds, inds)\n",
    "    mask = (corr_mat[..., 1] < 0.025)\n",
    "    mask_neg = mask & (corr_mat[..., 0] < 0)\n",
    "    mask_pos = mask & (corr_mat[..., 0] > 0)\n",
    "    rown, rowp, coln, colp = a[mask_neg], a[mask_pos], b[mask_neg], b[mask_pos]\n",
    "    datapn, datapp = corr_mat[..., 1][mask_neg], corr_mat[..., 1][mask_pos]\n",
    "    indsn, indsp = np.argsort(datapn), np.argsort(datapp)\n",
    "    datapn, datapp = datapn[indsn], datapp[indsp]\n",
    "    rown, rowp, coln, colp = rown[indsn], rowp[indsp], coln[indsn], colp[indsp]\n",
    "\n",
    "    datapn = csc_matrix((np.ones(len(indsn)), (rown, coln)), shape=(116, 116))\n",
    "    datapp = csc_matrix((np.ones(len(indsp)), (rowp, colp)), shape=(116, 116))\n",
    "\n",
    "    sas['nbs']['NBS']['con_mat'] = datapn\n",
    "    sas['nbs']['NBS']['test_stat'] = datar\n",
    "    # spio.savemat(f'{fname}_UPD_NEG.mat', sas)\n",
    "    sas['nbs']['NBS']['con_mat'] = datapp\n",
    "    # spio.savemat(f'{fname}_UPD_POS.mat', sas)"
   ],
   "metadata": {
    "collapsed": false,
    "pycharm": {
     "name": "#%%\n"
    }
   }
  },
  {
   "cell_type": "code",
   "execution_count": 488,
   "outputs": [],
   "source": [
    "def edge_adjacency(n=116):\n",
    "    inds = np.arange(n, dtype=int)\n",
    "    nan_inds = np.tril_indices(n)\n",
    "    a, b = np.meshgrid(inds, inds)\n",
    "    edge_pairs = np.stack([a[nan_inds], b[nan_inds]])\n",
    "    edge_pairs = edge_pairs.astype(np.uint16).T\n",
    "    edge_inds = np.arange(edge_pairs.shape[0], dtype=np.uint16)\n",
    "    a, b = np.meshgrid(edge_inds, edge_inds)\n",
    "    a, b = edge_pairs[a], edge_pairs[b]\n",
    "    adj = (a[..., 0] == b[..., 0]) | (a[..., 0] == b[..., 1]) | (a[..., 1] == b[..., 0]) | (a[..., 1] == b[..., 1])\n",
    "    a, b = None, None\n",
    "    adj = sparse.coo_matrix(adj)\n",
    "    return adj\n",
    "\n",
    "adj = edge_adjacency(116)"
   ],
   "metadata": {
    "collapsed": false,
    "pycharm": {
     "name": "#%%\n"
    }
   }
  },
  {
   "cell_type": "code",
   "execution_count": 527,
   "outputs": [
    {
     "data": {
      "text/plain": "array([0.78342441, 0.579584  , 0.39969147])"
     },
     "execution_count": 527,
     "metadata": {},
     "output_type": "execute_result"
    }
   ],
   "source": [
    "r_pdf(np.r_[0.1, 0.2, 0.3], 10)"
   ],
   "metadata": {
    "collapsed": false,
    "pycharm": {
     "name": "#%%\n"
    }
   }
  },
  {
   "cell_type": "markdown",
   "source": [],
   "metadata": {
    "collapsed": false,
    "pycharm": {
     "name": "#%% md\n"
    }
   }
  },
  {
   "cell_type": "code",
   "execution_count": 5,
   "outputs": [],
   "source": [
    "def r_ppf(q, n):\n",
    "    ab = n/2 - 1\n",
    "    return -(special.btdtri(ab, ab, q/2)*2 - 1)\n",
    "\n",
    "def r_pdf(r, n):\n",
    "    ab = n/2 - 1\n",
    "    return 2*special.btdtr(ab, ab, 0.5*(1 - abs(np.float64(r))))\n",
    "\n",
    "def pearsonr_no_p(x, y, axis):\n",
    "    assert len(x.shape) == len(y.shape)\n",
    "    x_m = x.mean(axis, keepdims=True)\n",
    "    y_m = y.mean(axis, keepdims=True)\n",
    "    x_sq = np.sum(np.square(x - x_m), axis=axis)\n",
    "    y_sq = np.sum(np.square(y - y_m), axis=axis)\n",
    "    num = np.sum((x - x_m)*(y - y_m), axis=axis)\n",
    "    denum = np.sqrt(x_sq*y_sq)\n",
    "    res = num/denum\n",
    "    res[np.isnan(res)] = 0\n",
    "    res = np.maximum(np.minimum(res, 1), -1)\n",
    "    return res\n",
    "\n",
    "def clean_clusters(clusters, sums, fun=lambda x, y: True):\n",
    "    new_clusters = []\n",
    "    new_sums = []\n",
    "    for ind, cl in enumerate(clusters):\n",
    "        if len(cl) >= 2 and fun(cl, sums[ind]):\n",
    "            new_clusters.append(cl)\n",
    "            new_sums.append(sums[ind])\n",
    "    return new_clusters, new_sums\n",
    "\n",
    "def cluster_inds(clusters, perminds):\n",
    "    clus_inds = []\n",
    "    for cl in clusters:\n",
    "        temp = perminds[cl[0]]\n",
    "        clus_inds.append(temp)\n",
    "    return np.array(clus_inds)\n",
    "\n",
    "def calc_pval(arr, y):\n",
    "    denum = len(arr)\n",
    "    sign = np.sign(y)\n",
    "    if sign < 0:\n",
    "        num = np.sum(np.abs(arr[arr < 0]) <= np.abs(y))\n",
    "    else:\n",
    "        num = np.sum(np.abs(arr[arr > 0]) <= np.abs(y))\n",
    "    return num/denum\n",
    "\n",
    "@curry\n",
    "def compare_tail(arr, crit, x, y):\n",
    "    return calc_pval(arr, y) <= crit\n",
    "\n",
    "def perm_test(x, y, threshold, adj, permutations=1000, batch_num=250, tail=0, clusteralpha=0.05):\n",
    "    # x [n_samples, 1] y [n_samples, k]\n",
    "    print(x.shape, y.shape)\n",
    "    n_samples = x.shape[0]\n",
    "    inds = np.arange(n_samples, dtype=int)\n",
    "    perms = [np.random.permutation(inds) for i in range(permutations)]\n",
    "    observed_stat = pearsonr_no_p(x, y, axis=0)\n",
    "    null_dist = []\n",
    "    for batch in batch_generator(perms, batch_num):\n",
    "        perms = len(batch)\n",
    "        perms_adj = sparse.coo_array((perms, perms), dtype=int)\n",
    "        temp_adj = mne.stats.combine_adjacency(perms_adj, adj)\n",
    "\n",
    "        batch = np.array(batch)\n",
    "        chunk = x[batch]\n",
    "        null_part = pearsonr_no_p(chunk, y[None, :], axis=1)\n",
    "        perms_inds = np.arange(null_part.shape[0]).repeat(null_part.shape[1])\n",
    "\n",
    "        clus, sums = find_clusters(null_part.flatten(), threshold=threshold, adjacency=temp_adj, tail=tail)\n",
    "        clus, sums = clean_clusters(clus, sums)\n",
    "        clus_inds = cluster_inds(clus, perms_inds)\n",
    "\n",
    "        max_sums = np.empty(clus_inds.max() + 1)\n",
    "        np.maximum.at(max_sums,clus_inds,sums)\n",
    "\n",
    "        null_dist += max_sums[clus_inds].tolist()\n",
    "\n",
    "    null_dist = np.array(null_dist).flatten()\n",
    "\n",
    "    clus, sums = find_clusters(observed_stat, threshold=threshold, adjacency=adj, tail=tail)\n",
    "    fun = compare_tail(null_dist, clusteralpha)\n",
    "    clus, sums = clean_clusters(clus, sums, fun=fun)\n",
    "    pvals = [calc_pval(null_dist, s) for s in sums]\n",
    "\n",
    "    return clus, pvals\n",
    "\n",
    "# mbrt_df = pd.read_csv('mbrt_all.csv').query('Day == \"TMS\" and Subject != 10')[['Subject', 'Session', 'MBRT ANY']]\n",
    "# mbrt_df = mbrt_df.set_index(['Subject', 'Session']).unstack()\n",
    "# mbrt_df.columns = ['Im1', 'Im2']\n",
    "# mbrt = (mbrt_df['Im2'] - mbrt_df['Im1']).to_numpy()[:14]\n",
    "#\n",
    "# nanmask = ~np.isnan(mbrt)\n",
    "# mbrt = mbrt[nanmask]\n",
    "# mbrt = mbrt.reshape(-1, 1)\n",
    "#\n",
    "# base_str = '../data/fnc/Conn_Stat_Corr_TMS_Im2-Im1/NBS_'\n",
    "# bands = ['Theta', 'Alpha', 'Alpha12', 'Alpha2', 'Beta']\n",
    "# cases = ['b', 'p1', 'p2', 'rest']\n",
    "#\n",
    "# results = {}\n",
    "# for band in bands:\n",
    "#     for case in cases:\n",
    "#         print(f'{band}, {case}')\n",
    "#         conn = loadmat(f'{base_str}{band}_{case}.mat')['nbs']['conmatr']\n",
    "#         conn = conn[..., :14] - conn[..., 14:]\n",
    "#         conn = conn[..., nanmask]\n",
    "#         conn_flat = conn[np.tril_indices(116)].T\n",
    "#         sas = perm_test(mbrt, conn_flat, r_ppf(0.025, 12), adj, permutations=1000, batch_num=250, tail=0)\n",
    "#         results[(band, case)] = sas\n",
    "#         f = open('stats.pickle', 'wb')\n",
    "#         dump(results, f)\n",
    "#         f.close()"
   ],
   "metadata": {
    "collapsed": false,
    "pycharm": {
     "name": "#%%\n"
    }
   }
  },
  {
   "cell_type": "code",
   "execution_count": 2,
   "outputs": [],
   "source": [
    "mbrt_df = pd.read_csv('mbrt_all.csv').query('Day == \"TMS\" and Subject != 10')[['Subject', 'Session', 'MBRT ANY']]\n",
    "mbrt_df = mbrt_df.set_index(['Subject', 'Session']).unstack()\n",
    "mbrt_df.columns = ['Im1', 'Im2']\n",
    "mbrt = (mbrt_df['Im2'] - mbrt_df['Im1']).to_numpy()[:14]\n",
    "\n",
    "nanmask = ~np.isnan(mbrt)\n",
    "mbrt = mbrt[nanmask]\n",
    "mbrt = mbrt.reshape(-1, 1)"
   ],
   "metadata": {
    "collapsed": false,
    "pycharm": {
     "name": "#%%\n"
    }
   }
  },
  {
   "cell_type": "code",
   "execution_count": 34,
   "outputs": [
    {
     "name": "stdout",
     "output_type": "stream",
     "text": [
      "Theta, b\n",
      "Theta, p1\n",
      "Theta, p2\n"
     ]
    },
    {
     "name": "stderr",
     "output_type": "stream",
     "text": [
      "/var/folders/tj/lr6p2mw95bqcmgs698v6nqx40000gn/T/ipykernel_4118/3824740155.py:17: RuntimeWarning: invalid value encountered in true_divide\n",
      "  res = num/denum\n"
     ]
    },
    {
     "name": "stdout",
     "output_type": "stream",
     "text": [
      "Theta, rest\n",
      "Alpha, b\n",
      "Alpha, p1\n",
      "Alpha, p2\n",
      "Alpha, rest\n",
      "Alpha12, b\n",
      "Alpha12, p1\n",
      "Alpha12, p2\n",
      "Alpha12, rest\n",
      "Alpha2, b\n",
      "Alpha2, p1\n",
      "Alpha2, p2\n",
      "Alpha2, rest\n",
      "Beta, b\n",
      "Beta, p1\n",
      "Beta, p2\n",
      "Beta, rest\n"
     ]
    }
   ],
   "source": [
    "f = open('stats.pickle', 'rb')\n",
    "results = load(f)\n",
    "f.close()\n",
    "\n",
    "base_str = '../data/fnc/Conn_Stat_Corr_TMS_Im2-Im1/NBS_'\n",
    "base_str_save = '../data/fnc/Conn_Stat_Corr_TMS_Im2-Im1/results/NBS_'\n",
    "bands = ['Theta', 'Alpha', 'Alpha12', 'Alpha2', 'Beta']\n",
    "cases = ['b', 'p1', 'p2', 'rest']\n",
    "\n",
    "for band in bands:\n",
    "    for case in cases:\n",
    "        print(f'{band}, {case}')\n",
    "        mat = loadmat(f'{base_str}{band}_{case}.mat')\n",
    "        conn = mat['nbs']['conmatr']\n",
    "        conn = (conn[..., :14] - conn[..., 14:])[..., nanmask]\n",
    "        corr = pearsonr_no_p(mbrt, conn[np.tril_indices(116)].T, axis=0)\n",
    "\n",
    "        res = np.zeros(shape=(116, 116), dtype=float)\n",
    "        res[np.tril_indices(116)] = corr\n",
    "        res = res.T\n",
    "        res[np.tril_indices(116)] = corr\n",
    "\n",
    "        clusters = results[(band, case)][0]\n",
    "        cl_inds_pos = []\n",
    "        cl_inds_neg = []\n",
    "        for i in clusters:\n",
    "            if corr[i][0] < 0:\n",
    "                cl_inds_neg += i.tolist()\n",
    "            else:\n",
    "                cl_inds_pos += i.tolist()\n",
    "        cl_inds_pos = np.array(cl_inds_pos).astype(int)\n",
    "        cl_inds_neg = np.array(cl_inds_neg).astype(int)\n",
    "\n",
    "\n",
    "\n",
    "\n",
    "        inds = np.arange(116)\n",
    "        a, b = np.meshgrid(inds, inds)\n",
    "\n",
    "        mask_pos = np.zeros(shape=(116, 116), dtype=bool)\n",
    "        mask_neg = np.zeros(shape=(116, 116), dtype=bool)\n",
    "        tril_inds = np.tril_indices(116)\n",
    "        a_tril, b_tril = a[tril_inds], b[tril_inds]\n",
    "        mask_pos[a_tril[cl_inds_pos], b_tril[cl_inds_pos]] = True\n",
    "        mask_neg[a_tril[cl_inds_neg], b_tril[cl_inds_neg]] = True\n",
    "\n",
    "        row_pos, col_pos = a[mask_pos], b[mask_pos]\n",
    "        row_neg, col_neg = a[mask_neg], b[mask_neg]\n",
    "        datap_pos = r_pdf(res[mask_pos], 12)\n",
    "        datap_neg = r_pdf(res[mask_neg], 12)\n",
    "\n",
    "        datap_pos = csc_matrix((np.ones(len(datap_pos)), (row_pos, col_pos)), shape=(116, 116))\n",
    "        datap_neg = csc_matrix((np.ones(len(datap_neg)), (row_neg, col_neg)), shape=(116, 116))\n",
    "\n",
    "        mat['nbs']['NBS']['con_mat'] = datap_pos\n",
    "        mat['nbs']['NBS']['test_stat'] = res\n",
    "\n",
    "        spio.savemat(f'{base_str_save}{band}_{case}_POS.mat', mat)\n",
    "\n",
    "        mat['nbs']['NBS']['con_mat'] = datap_neg\n",
    "\n",
    "        spio.savemat(f'{base_str_save}{band}_{case}_NEG.mat', mat)"
   ],
   "metadata": {
    "collapsed": false,
    "pycharm": {
     "name": "#%%\n"
    }
   }
  },
  {
   "cell_type": "code",
   "execution_count": 35,
   "outputs": [
    {
     "data": {
      "text/plain": "<116x116 sparse matrix of type '<class 'numpy.float64'>'\n\twith 47 stored elements in Compressed Sparse Column format>"
     },
     "execution_count": 35,
     "metadata": {},
     "output_type": "execute_result"
    }
   ],
   "source": [
    "datap_neg"
   ],
   "metadata": {
    "collapsed": false,
    "pycharm": {
     "name": "#%%\n"
    }
   }
  },
  {
   "cell_type": "code",
   "execution_count": 17,
   "outputs": [
    {
     "data": {
      "text/plain": "SpearmanrResult(correlation=0.1328671328671329, pvalue=0.6805975082860818)"
     },
     "execution_count": 17,
     "metadata": {},
     "output_type": "execute_result"
    }
   ],
   "source": [
    "import scipy.io as spio\n",
    "import numpy as np\n",
    "import pandas as pd\n",
    "from scipy import stats\n",
    "a, b = spio.loadmat('../data/fnc/Con_Frontal_Mid_L_Precuneus_R_PCC_D2_Im1_Base_0_5_4_5s_D2_Im2_Base.mat')['Con'].reshape(2, -1)\n",
    "# stats.permutation_test([(b - a)[nanmask], mbrt[:, 0]], lambda x, y: pearsonr_no_p(x[:, None], y[:, None], axis=0), permutation_type='pairings')\n",
    "mbrt = pd.read_csv('mbrt_all_march10_stat_cluster_delta.csv')\\\n",
    "    .query('Day == \"D2\" and Subject != 10')['MBRT ANY'].to_numpy()\n",
    "mask = ~np.isnan(mbrt)\n",
    "a, b, mbrt  = a[mask], b[mask], mbrt[mask]\n",
    "\n",
    "stats.(b, mbrt)"
   ],
   "metadata": {
    "collapsed": false,
    "pycharm": {
     "name": "#%%\n"
    }
   }
  },
  {
   "cell_type": "code",
   "execution_count": 13,
   "outputs": [
    {
     "data": {
      "text/plain": "(12,)"
     },
     "execution_count": 13,
     "metadata": {},
     "output_type": "execute_result"
    }
   ],
   "source": [
    "a.shape"
   ],
   "metadata": {
    "collapsed": false,
    "pycharm": {
     "name": "#%%\n"
    }
   }
  },
  {
   "cell_type": "code",
   "execution_count": 478,
   "outputs": [
    {
     "name": "stdout",
     "output_type": "stream",
     "text": [
      "[0 0 0 ... 0 0 0]\n",
      "[1 1 1 ... 1 1 1]\n",
      "[2 2 2 ... 2 2 2]\n",
      "[3 3 3 ... 3 3 3]\n",
      "[4 4 4 ... 4 4 4]\n",
      "[5 5 5 ... 5 5 5]\n",
      "[6 6 6 ... 6 6 6]\n",
      "[7 7 7 ... 7 7 7]\n",
      "[8 8 8 ... 8 8 8]\n",
      "[9 9 9]\n",
      "[9 9 9 ... 9 9 9]\n",
      "[10 10 10 ... 10 10 10]\n",
      "[11 11 11 ... 11 11 11]\n",
      "[12 12 12 ... 12 12 12]\n",
      "[13 13 13 ... 13 13 13]\n",
      "[14 14 14 ... 14 14 14]\n",
      "[15 15 15 ... 15 15 15]\n",
      "[15 15]\n",
      "[16 16 16 ... 16 16 16]\n",
      "[17 17 17 ... 17 17 17]\n",
      "[18 18 18 ... 18 18 18]\n",
      "[19 19 19 ... 19 19 19]\n",
      "[20 20 20 ... 20 20 20]\n",
      "[21 21 21 ... 21 21 21]\n",
      "[22 22 22 ... 22 22 22]\n",
      "[23 23 23 ... 23 23 23]\n",
      "[24 24 24 ... 24 24 24]\n",
      "[24 24]\n",
      "[25 25 25 ... 25 25 25]\n",
      "[26 26 26 ... 26 26 26]\n",
      "[27 27 27 ... 27 27 27]\n",
      "[28 28 28 ... 28 28 28]\n",
      "[28 28]\n",
      "[29 29 29 ... 29 29 29]\n",
      "[30 30 30 ... 30 30 30]\n",
      "[31 31 31 ... 31 31 31]\n",
      "[32 32 32 ... 32 32 32]\n",
      "[33 33 33 ... 33 33 33]\n",
      "[34 34 34 ... 34 34 34]\n",
      "[35 35 35 ... 35 35 35]\n",
      "[35 35 35 35 35 35 35 35 35 35 35 35 35 35 35 35 35 35]\n",
      "[36 36 36 ... 36 36 36]\n",
      "[37 37 37 ... 37 37 37]\n",
      "[38 38 38 ... 38 38 38]\n",
      "[39 39 39 39 39 39 39 39 39 39 39 39 39 39 39 39 39 39 39 39 39 39 39 39\n",
      " 39 39 39 39 39 39 39 39 39 39 39 39 39 39 39 39 39 39 39 39 39 39 39 39\n",
      " 39 39 39 39 39 39 39 39 39 39 39 39 39 39 39 39 39 39 39 39 39 39 39 39\n",
      " 39 39 39 39 39 39 39 39 39 39 39 39 39 39 39]\n",
      "[39 39 39 ... 39 39 39]\n",
      "[40 40 40 ... 40 40 40]\n",
      "[41 41 41 ... 41 41 41]\n",
      "[42 42 42 ... 42 42 42]\n",
      "[43 43 43 ... 43 43 43]\n",
      "[44 44 44 ... 44 44 44]\n",
      "[45 45 45 ... 45 45 45]\n",
      "[46 46 46 ... 46 46 46]\n",
      "[47 47 47 ... 47 47 47]\n",
      "[48 48 48 ... 48 48 48]\n",
      "[49 49 49 ... 49 49 49]\n",
      "[50 50 50 ... 50 50 50]\n",
      "[51 51 51 ... 51 51 51]\n",
      "[52 52 52 ... 52 52 52]\n",
      "[53 53 53 ... 53 53 53]\n",
      "[53 53]\n",
      "[54 54 54 ... 54 54 54]\n",
      "[54 54 54]\n",
      "[55 55 55 ... 55 55 55]\n",
      "[56 56 56 ... 56 56 56]\n",
      "[57 57 57 ... 57 57 57]\n",
      "[58 58 58 ... 58 58 58]\n",
      "[58 58]\n",
      "[59 59 59 ... 59 59 59]\n",
      "[59 59]\n",
      "[60 60 60 ... 60 60 60]\n",
      "[61 61 61 ... 61 61 61]\n",
      "[62 62 62 ... 62 62 62]\n",
      "[63 63 63 ... 63 63 63]\n",
      "[64 64 64 ... 64 64 64]\n",
      "[65 65 65 ... 65 65 65]\n",
      "[65 65]\n",
      "[66 66 66 ... 66 66 66]\n",
      "[67 67 67 67 67 67 67 67 67 67 67 67 67 67 67 67 67 67 67 67 67 67 67 67\n",
      " 67 67 67 67 67 67 67 67 67 67 67 67 67 67 67 67 67 67 67 67 67 67 67 67\n",
      " 67 67 67 67 67 67 67 67 67 67 67 67 67 67 67 67 67 67 67 67 67 67 67 67\n",
      " 67 67 67 67 67 67 67 67 67 67 67 67 67 67 67 67 67 67 67 67 67 67 67 67\n",
      " 67 67 67 67 67 67 67 67 67 67 67 67 67 67 67 67 67 67 67 67 67 67 67 67\n",
      " 67 67 67 67 67 67 67 67 67 67 67 67 67 67 67 67 67 67 67 67 67 67 67 67\n",
      " 67 67 67 67 67 67 67 67 67 67 67 67 67 67 67 67 67 67 67 67 67 67 67 67\n",
      " 67 67 67 67 67 67 67 67 67 67 67 67 67 67 67 67 67 67 67 67 67 67 67 67\n",
      " 67 67 67 67 67 67 67 67 67 67 67 67 67 67 67 67 67 67 67 67 67 67 67 67\n",
      " 67 67 67 67 67 67 67 67 67 67 67 67 67 67 67 67 67 67 67 67 67 67 67 67\n",
      " 67 67 67 67 67 67 67 67 67 67 67 67 67 67 67 67 67 67 67 67 67 67 67 67\n",
      " 67 67 67 67 67 67 67 67 67 67 67 67 67 67 67 67 67 67 67 67 67 67 67 67\n",
      " 67 67 67 67 67 67 67 67 67 67 67 67 67 67 67 67 67 67 67 67 67 67 67 67\n",
      " 67 67 67 67 67 67 67 67 67 67 67 67 67 67 67 67 67 67 67 67 67 67 67 67\n",
      " 67 67 67 67 67 67 67 67 67 67 67 67 67 67 67 67 67 67 67 67 67 67 67 67\n",
      " 67 67 67 67 67 67 67 67 67 67 67 67 67 67 67 67 67 67 67 67 67 67 67 67\n",
      " 67 67 67 67 67 67 67 67 67 67 67 67 67 67 67 67 67 67 67 67 67 67 67 67\n",
      " 67 67 67 67 67 67 67 67 67 67 67 67 67 67 67 67 67 67 67 67 67 67 67 67\n",
      " 67 67 67 67 67 67 67 67 67 67 67 67 67 67 67 67 67 67 67 67 67 67 67 67\n",
      " 67 67 67 67 67 67 67 67 67 67 67 67 67 67 67 67 67 67 67 67 67 67 67 67\n",
      " 67 67 67 67 67 67 67 67 67 67 67 67 67 67 67 67 67 67 67 67 67 67 67 67\n",
      " 67 67 67 67 67 67 67 67 67 67 67 67 67 67 67 67 67 67 67 67 67 67 67 67\n",
      " 67 67 67 67 67 67 67 67 67 67 67 67 67 67 67 67 67 67 67 67 67 67 67 67\n",
      " 67 67 67 67 67 67 67 67 67 67 67 67 67 67 67 67 67 67 67 67 67 67 67 67\n",
      " 67 67 67 67 67 67 67 67 67 67 67 67 67 67 67 67 67 67 67 67 67 67 67 67\n",
      " 67 67 67 67 67 67 67 67 67 67 67 67 67 67 67 67 67 67 67 67 67 67 67 67\n",
      " 67 67 67 67 67 67 67 67 67 67 67 67 67 67 67 67 67 67 67 67 67 67 67 67\n",
      " 67 67 67 67 67 67 67 67 67 67 67 67 67 67 67 67 67 67 67 67 67 67 67 67\n",
      " 67 67 67 67 67 67 67 67 67 67 67 67 67 67 67 67 67 67 67 67 67 67 67 67\n",
      " 67 67 67 67 67 67 67 67 67 67 67 67 67 67 67 67 67 67 67 67 67 67 67 67\n",
      " 67 67 67 67 67 67 67 67 67 67 67 67 67 67 67 67 67 67 67 67 67 67 67 67\n",
      " 67 67 67 67 67 67 67 67 67 67 67 67 67 67 67 67 67 67 67 67 67 67 67 67\n",
      " 67 67 67 67 67 67 67 67 67 67 67 67 67 67 67 67 67 67 67 67 67 67 67 67\n",
      " 67 67 67 67 67 67 67 67 67 67 67 67 67 67 67 67 67 67 67 67 67 67 67 67\n",
      " 67]\n",
      "[67 67 67 67 67 67 67 67 67 67 67 67 67 67 67 67 67 67 67 67 67 67 67 67\n",
      " 67 67 67 67 67 67 67 67 67 67 67 67 67 67 67 67 67 67 67 67 67 67 67 67\n",
      " 67 67 67 67 67 67 67 67 67 67 67 67 67 67 67 67 67 67 67 67 67 67 67 67\n",
      " 67 67 67 67 67 67 67 67 67 67 67 67 67 67 67 67 67 67 67 67 67 67 67 67\n",
      " 67 67 67 67 67 67 67 67 67 67 67 67 67 67 67]\n",
      "[67 67 67]\n",
      "[68 68 68 ... 68 68 68]\n",
      "[69 69 69 ... 69 69 69]\n",
      "[69 69]\n",
      "[70 70 70 70 70 70 70 70 70 70 70 70 70 70 70 70 70 70 70 70 70 70 70 70\n",
      " 70 70 70 70 70 70 70 70 70 70 70 70 70 70 70 70 70 70 70 70 70 70 70 70\n",
      " 70 70 70 70 70 70 70 70 70 70 70 70 70 70 70 70 70 70 70 70 70 70 70 70\n",
      " 70 70 70 70 70 70 70 70 70 70 70 70 70 70 70 70 70 70 70 70 70 70 70 70\n",
      " 70 70 70 70 70 70 70 70 70 70 70 70 70 70 70 70 70 70 70 70 70 70 70 70\n",
      " 70 70 70 70 70 70 70 70 70 70 70 70 70 70 70 70 70 70 70 70 70 70 70 70\n",
      " 70 70 70 70 70 70 70 70 70 70 70 70 70 70 70 70 70 70 70 70 70 70 70 70\n",
      " 70 70 70 70 70 70 70 70 70 70 70 70 70 70 70 70 70 70 70 70 70 70 70 70\n",
      " 70 70 70 70 70 70 70 70 70 70 70 70 70 70 70 70 70 70 70 70 70 70 70 70\n",
      " 70 70 70 70 70 70 70 70 70 70 70 70 70 70 70 70 70 70 70 70 70 70 70 70\n",
      " 70 70 70 70 70 70 70 70 70 70 70 70 70 70 70 70 70 70 70 70 70 70 70 70\n",
      " 70 70 70 70 70 70 70 70 70 70 70 70 70 70 70 70 70 70 70 70 70 70 70 70\n",
      " 70 70 70 70 70 70 70 70 70 70 70 70 70 70 70 70 70 70 70 70 70 70 70 70\n",
      " 70 70 70 70 70 70 70 70 70 70 70 70 70 70 70 70 70 70 70 70 70 70 70 70\n",
      " 70 70 70 70 70 70 70 70 70 70 70 70 70 70 70 70 70 70 70 70 70 70 70 70\n",
      " 70 70 70 70 70 70 70 70 70 70 70 70 70 70 70 70 70 70 70 70 70 70 70 70\n",
      " 70 70 70 70 70 70 70 70 70 70 70 70 70 70 70 70 70 70 70 70 70 70 70 70\n",
      " 70 70 70 70 70 70 70 70 70 70 70 70 70 70 70 70 70 70 70 70 70 70 70 70\n",
      " 70 70 70 70 70 70 70 70 70 70 70 70 70 70 70 70 70 70 70 70 70 70 70 70\n",
      " 70 70 70 70 70 70 70 70 70 70 70 70 70 70 70 70 70 70 70 70 70 70 70 70\n",
      " 70 70 70 70 70 70 70 70 70 70 70 70 70 70 70 70 70 70 70 70 70 70 70 70\n",
      " 70 70 70 70 70 70 70 70 70 70 70 70 70 70 70 70 70 70 70 70 70 70 70 70\n",
      " 70 70 70 70 70 70 70 70 70 70 70 70 70 70 70 70 70 70 70 70 70 70 70 70\n",
      " 70 70 70 70 70 70 70 70 70 70 70 70 70 70 70 70 70 70 70 70 70 70 70 70\n",
      " 70 70 70 70 70 70 70 70 70 70 70 70 70 70 70 70 70 70 70 70 70 70 70 70\n",
      " 70 70 70 70 70 70 70 70 70 70 70 70 70 70 70 70 70 70 70 70 70 70 70 70\n",
      " 70 70 70 70 70 70 70 70 70 70 70 70 70 70 70 70 70 70 70 70 70 70 70 70\n",
      " 70 70 70 70 70 70 70 70 70 70 70 70 70 70 70 70 70 70 70 70 70 70 70 70\n",
      " 70 70 70 70 70 70 70 70 70 70 70 70 70 70 70 70 70 70 70 70 70 70 70 70\n",
      " 70 70 70 70 70 70 70 70 70 70 70 70 70 70 70 70 70 70 70 70 70 70 70 70\n",
      " 70 70 70 70 70 70 70 70 70 70 70 70 70 70 70 70 70 70 70 70 70 70 70 70\n",
      " 70 70 70 70 70 70 70 70 70 70 70 70 70 70 70 70 70 70 70 70 70 70 70 70\n",
      " 70 70 70 70 70 70 70 70 70 70 70 70 70 70 70 70 70 70 70 70 70 70 70 70\n",
      " 70 70 70 70 70 70 70 70 70 70 70 70 70 70 70 70 70 70 70 70 70 70 70 70\n",
      " 70 70 70 70 70 70 70 70 70 70 70 70 70 70 70 70 70 70 70 70 70 70 70 70\n",
      " 70 70 70 70 70 70 70 70 70 70 70 70 70 70 70 70 70 70 70 70 70 70 70 70\n",
      " 70 70 70 70 70 70 70 70 70 70 70 70 70 70 70 70 70 70 70 70 70 70 70 70\n",
      " 70 70 70 70 70 70 70 70 70 70 70 70 70 70 70 70 70 70 70 70 70 70 70 70\n",
      " 70 70 70 70 70 70 70 70 70 70 70 70 70 70 70 70 70 70 70 70 70 70 70 70\n",
      " 70 70 70 70]\n",
      "[70 70]\n",
      "[71 71 71 ... 71 71 71]\n",
      "[72 72 72 ... 72 72 72]\n",
      "[73 73 73 ... 73 73 73]\n",
      "[74 74 74 ... 74 74 74]\n",
      "[75 75 75 ... 75 75 75]\n",
      "[76 76 76 ... 76 76 76]\n",
      "[77 77 77 ... 77 77 77]\n",
      "[78 78 78 ... 78 78 78]\n",
      "[79 79 79 ... 79 79 79]\n",
      "[80 80 80 ... 80 80 80]\n",
      "[81 81 81 ... 81 81 81]\n",
      "[82 82 82 ... 82 82 82]\n",
      "[83 83 83 ... 83 83 83]\n",
      "[84 84 84 ... 84 84 84]\n",
      "[85 85 85 ... 85 85 85]\n",
      "[86 86 86 ... 86 86 86]\n",
      "[87 87 87 ... 87 87 87]\n",
      "[87 87 87]\n",
      "[88 88 88 ... 88 88 88]\n",
      "[89 89 89 89 89 89 89 89 89 89 89 89 89 89 89 89 89 89 89 89 89 89 89 89\n",
      " 89 89 89 89 89 89 89 89 89 89 89 89 89 89 89 89 89 89 89 89 89 89 89 89\n",
      " 89 89 89 89 89 89 89 89 89 89 89 89 89 89 89 89 89 89 89 89 89 89 89 89\n",
      " 89 89 89 89 89 89 89 89 89 89 89 89 89 89 89 89 89 89 89 89 89 89 89 89\n",
      " 89 89 89 89 89 89 89 89 89 89 89 89 89 89 89 89 89 89 89 89 89 89 89 89\n",
      " 89 89 89 89 89 89 89 89 89 89 89 89 89 89 89 89 89 89 89 89 89 89 89 89\n",
      " 89 89 89 89 89 89 89 89 89 89 89 89 89 89 89 89 89 89 89 89 89 89 89 89\n",
      " 89 89 89 89 89 89 89 89 89 89 89 89 89 89 89 89 89 89 89 89 89 89 89 89\n",
      " 89 89 89 89 89 89 89 89 89 89 89 89 89 89 89 89 89 89 89 89 89 89 89 89\n",
      " 89 89 89 89 89 89 89 89 89 89 89 89 89 89 89 89 89 89 89 89 89 89 89 89\n",
      " 89 89 89 89 89 89 89 89 89 89 89 89 89 89 89 89 89 89 89 89 89 89 89 89\n",
      " 89 89 89 89 89 89 89 89 89 89 89 89 89 89 89 89 89 89 89 89 89 89 89 89\n",
      " 89 89 89 89 89 89 89 89 89 89 89 89 89 89 89 89 89 89 89 89 89 89 89 89\n",
      " 89 89 89 89 89 89 89 89 89 89 89 89 89 89 89 89 89 89 89 89 89 89 89 89\n",
      " 89 89 89 89 89 89 89 89 89 89 89 89 89 89 89 89 89 89 89 89 89 89 89 89\n",
      " 89 89 89 89 89 89 89 89 89 89 89 89 89 89 89 89 89 89 89 89 89 89 89 89\n",
      " 89 89 89 89 89 89 89 89 89 89 89 89 89 89 89 89 89 89 89 89 89 89 89 89\n",
      " 89 89 89 89 89 89 89 89 89 89 89 89 89 89 89 89 89 89 89 89 89 89 89 89\n",
      " 89 89 89 89 89 89 89 89 89 89 89 89 89 89 89 89 89 89 89 89 89 89 89 89\n",
      " 89 89 89 89 89 89 89 89 89 89 89 89 89 89 89 89 89 89 89 89 89 89 89 89\n",
      " 89 89 89 89 89 89 89 89 89 89 89 89 89 89 89 89 89 89 89 89 89 89 89 89\n",
      " 89 89 89 89 89 89 89 89 89 89 89 89 89 89 89 89 89 89 89 89 89 89 89 89\n",
      " 89 89 89 89 89 89 89 89 89 89 89 89 89 89 89 89 89 89 89 89 89 89 89 89\n",
      " 89 89 89 89 89 89 89 89 89 89 89 89 89 89 89 89 89 89 89 89 89 89 89 89\n",
      " 89 89 89 89 89 89 89 89 89 89 89 89 89 89 89 89 89 89 89 89 89 89 89 89\n",
      " 89 89 89 89 89 89 89 89 89 89 89 89 89 89 89 89 89 89 89 89 89 89 89 89\n",
      " 89 89 89 89 89 89 89 89 89 89 89 89 89 89 89 89 89 89 89 89 89 89 89 89\n",
      " 89 89 89 89 89 89 89 89 89 89 89 89 89 89 89 89 89 89 89 89 89 89 89 89\n",
      " 89 89 89 89 89 89 89 89 89 89 89 89 89 89 89 89 89 89 89 89 89 89 89 89\n",
      " 89 89 89 89 89 89 89 89 89 89 89 89 89 89 89 89 89 89 89 89 89 89 89 89\n",
      " 89 89 89 89 89 89 89 89 89 89 89 89 89 89 89 89 89 89 89 89 89 89 89 89\n",
      " 89 89 89 89 89 89 89 89 89 89 89 89 89 89 89 89 89 89 89 89 89 89 89 89\n",
      " 89 89 89 89 89 89 89 89 89 89 89 89 89 89 89 89 89 89 89 89 89 89 89 89\n",
      " 89 89 89 89 89 89 89 89 89 89 89 89 89 89 89 89 89 89 89 89 89 89 89 89\n",
      " 89 89 89 89 89 89 89 89 89 89 89 89 89 89 89 89 89 89 89 89 89 89 89 89\n",
      " 89 89 89 89 89 89 89 89 89 89 89 89 89 89 89 89 89 89 89 89 89 89 89 89\n",
      " 89 89 89 89 89 89 89 89 89 89 89 89 89 89 89 89 89 89 89 89 89 89 89 89\n",
      " 89 89 89 89 89 89 89 89 89 89 89 89 89 89 89 89 89 89 89 89 89 89 89 89\n",
      " 89 89 89 89 89 89 89 89 89 89 89 89 89 89 89 89 89 89 89 89 89 89 89 89\n",
      " 89 89 89 89 89 89 89 89 89 89 89 89]\n",
      "[90 90 90 ... 90 90 90]\n",
      "[90 90]\n",
      "[91 91 91 ... 91 91 91]\n",
      "[92 92 92 ... 92 92 92]\n",
      "[93 93 93 ... 93 93 93]\n",
      "[93 93]\n",
      "[94 94 94 ... 94 94 94]\n",
      "[95 95 95 ... 95 95 95]\n",
      "[96 96 96 ... 96 96 96]\n",
      "[97 97 97 ... 97 97 97]\n",
      "[98 98 98 ... 98 98 98]\n",
      "[99 99]\n",
      "[99 99 99 ... 99 99 99]\n"
     ]
    },
    {
     "data": {
      "text/plain": "True"
     },
     "execution_count": 478,
     "metadata": {},
     "output_type": "execute_result"
    }
   ],
   "source": [
    "width = 40\n",
    "n_subjects = 10\n",
    "signal_mean = 100\n",
    "signal_sd = 100\n",
    "noise_sd = 0.01\n",
    "gaussian_sd = 5\n",
    "sigma = 1e-3  # sigma for the \"hat\" method\n",
    "n_permutations = 'all'  # run an exact test\n",
    "n_src = width * width\n",
    "\n",
    "# For each \"subject\", make a smoothed noisy signal with a centered peak\n",
    "rng = np.random.RandomState(2)\n",
    "rngY = np.random.RandomState(3)\n",
    "X = noise_sd * rng.randn(n_subjects, width, width)\n",
    "Y = noise_sd * rngY.randn(n_subjects, width, width)\n",
    "X[:, width // 2, width // 2] = signal_mean + rng.randn(n_subjects) * signal_sd\n",
    "size = width // 2 - 1\n",
    "gaussian = np.exp(-(np.arange(-size, size + 1) ** 2 / float(gaussian_sd ** 2)))\n",
    "for si in range(X.shape[0]):\n",
    "    for ri in range(X.shape[1]):\n",
    "        X[si, ri, :] = np.convolve(X[si, ri, :], gaussian, 'same')\n",
    "    for ci in range(X.shape[2]):\n",
    "        X[si, :, ci] = np.convolve(X[si, :, ci], gaussian, 'same')\n",
    "\n",
    "perms = 100\n",
    "mesh = np.stack([X, Y]).reshape(-1, 40, 40)\n",
    "mesh = np.array([np.random.permutation(mesh) for i in range(perms)])\n",
    "mesh = mesh.reshape(perms, 2, 10, 40, 40)\n",
    "Xm = mesh[:, 0]\n",
    "Ym = mesh[:, 1]\n",
    "mesh = None\n",
    "\n",
    "perms_adj = sparse.coo_array((perms, perms), dtype=int)\n",
    "# perms_adj = perms\n",
    "conn_adj = mne.stats.combine_adjacency(40, 40)\n",
    "# perms_adj = perms\n",
    "adj = mne.stats.combine_adjacency(perms_adj, conn_adj)\n",
    "\n",
    "\n",
    "tstat = stats.ttest_ind(Xm, Ym, axis=1).statistic.flatten()\n",
    "\n",
    "clus, sums = find_clusters(tstat, threshold=stats.t.ppf(0.95, 9), adjacency=adj, tail=-1)\n",
    "clus, sums = list(zip(*[(cl, sum) for cl, sum in zip(clus, sums) if len(cl) >= 2]))\n",
    "\n",
    "perm_inds = np.arange(perms).repeat(1600).flatten()\n",
    "\n",
    "clus_inds = []\n",
    "for cl in clus:\n",
    "    temp = perm_inds[cl]\n",
    "    clus_inds.append(np.all(temp == temp[0]))\n",
    "    print(temp)\n",
    "np.all(clus_inds)"
   ],
   "metadata": {
    "collapsed": false,
    "pycharm": {
     "name": "#%%\n"
    }
   }
  },
  {
   "cell_type": "code",
   "execution_count": null,
   "outputs": [],
   "source": [],
   "metadata": {
    "collapsed": false,
    "pycharm": {
     "name": "#%%\n"
    }
   }
  }
 ],
 "metadata": {
  "kernelspec": {
   "display_name": "Python 3",
   "language": "python",
   "name": "python3"
  },
  "language_info": {
   "codemirror_mode": {
    "name": "ipython",
    "version": 2
   },
   "file_extension": ".py",
   "mimetype": "text/x-python",
   "name": "python",
   "nbconvert_exporter": "python",
   "pygments_lexer": "ipython2",
   "version": "2.7.6"
  }
 },
 "nbformat": 4,
 "nbformat_minor": 0
}