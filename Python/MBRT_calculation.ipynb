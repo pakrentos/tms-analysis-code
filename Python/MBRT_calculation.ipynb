{
 "cells": [
  {
   "cell_type": "code",
   "execution_count": 4,
   "id": "moved-wednesday",
   "metadata": {
    "execution": {
     "iopub.execute_input": "2021-12-27T03:52:25.834364Z",
     "iopub.status.busy": "2021-12-27T03:52:25.834364Z",
     "iopub.status.idle": "2021-12-27T03:52:26.145264Z",
     "shell.execute_reply": "2021-12-27T03:52:26.145264Z",
     "shell.execute_reply.started": "2021-12-27T03:52:25.834364Z"
    },
    "tags": []
   },
   "outputs": [
    {
     "name": "stdout",
     "output_type": "stream",
     "text": [
      "The autoreload extension is already loaded. To reload it, use:\n",
      "  %reload_ext autoreload\n"
     ]
    }
   ],
   "source": [
    "import numpy as np\n",
    "import mne\n",
    "import matplotlib.pyplot as plt\n",
    "import mat73\n",
    "import scipy.stats as spst\n",
    "from IPython.display import display as disp, HTML\n",
    "from tqdm import tqdm\n",
    "import pandas as pd\n",
    "import pingouin as pg\n",
    "import matplotlib.transforms as mtrans\n",
    "from matplotlib.colors import rgb2hex\n",
    "from pandas.plotting import table\n",
    "from blab.itertools import true_meshgrid\n",
    "from blab.tables import get_MANOVA_table, get_RM_ANOVA_table\n",
    "from blab.plotting import transform_same_lines\n",
    "from numpy import ma\n",
    "from sklearn.neighbors import KernelDensity\n",
    "# import torch as tr\n",
    "from glob import glob\n",
    "import warnings\n",
    "warnings.filterwarnings('ignore')\n",
    "from scipy import stats\n",
    "\n",
    "from matplotlib.backends.backend_pdf import PdfPages\n",
    "\n",
    "%config Completer.use_jedi = False\n",
    "%load_ext autoreload\n",
    "%autoreload 2"
   ]
  },
  {
   "cell_type": "markdown",
   "id": "wrong-wings",
   "metadata": {},
   "source": [
    "# Functions"
   ]
  },
  {
   "cell_type": "code",
   "execution_count": 5,
   "id": "demographic-buffer",
   "metadata": {
    "execution": {
     "iopub.execute_input": "2021-12-27T03:52:26.657100Z",
     "iopub.status.busy": "2021-12-27T03:52:26.657100Z",
     "iopub.status.idle": "2021-12-27T03:52:27.007992Z",
     "shell.execute_reply": "2021-12-27T03:52:27.007992Z",
     "shell.execute_reply.started": "2021-12-27T03:52:26.657100Z"
    },
    "tags": []
   },
   "outputs": [],
   "source": [
    "import scipy.io as spio\n",
    "\n",
    "def _loadmat(filename):\n",
    "    '''\n",
    "    this function should be called instead of direct spio.loadmat\n",
    "    as it cures the problem of not properly recovering python dictionaries\n",
    "    from mat files. It calls the function check keys to cure all entries\n",
    "    which are still mat-objects\n",
    "    '''\n",
    "    data = spio.loadmat(filename, struct_as_record=False, squeeze_me=True)\n",
    "    ks = '__header__', '__version__', '__globals__'\n",
    "    for k in ks:\n",
    "        data.pop(k)\n",
    "    return _check_keys(data)\n",
    "\n",
    "def _check_keys(dict):\n",
    "    '''\n",
    "    checks if entries in dictionary are mat-objects. If yes\n",
    "    todict is called to change them to nested dictionaries\n",
    "    '''\n",
    "    for key in dict:\n",
    "        if isinstance(dict[key], spio.matlab.mio5_params.mat_struct):\n",
    "            dict[key] = _todict(dict[key])\n",
    "        elif isinstance(dict[key], np.ndarray):\n",
    "            for ind, obj in enumerate(dict[key]):\n",
    "                dict[key][ind] = _todict(obj)\n",
    "    return dict        \n",
    "\n",
    "def _todict(matobj):\n",
    "    '''\n",
    "    A recursive function which constructs from matobjects nested dictionaries\n",
    "    '''\n",
    "    dict = {}\n",
    "    for strg in matobj._fieldnames:\n",
    "        elem = matobj.__dict__[strg]\n",
    "        if isinstance(elem, spio.matlab.mio5_params.mat_struct):\n",
    "            dict[strg] = _todict(elem)\n",
    "        else:\n",
    "            dict[strg] = elem\n",
    "    return dict\n",
    "\n",
    "def loadmat(fname):\n",
    "    try:\n",
    "        return mat73.loadmat(fname)\n",
    "    except TypeError:\n",
    "        return _loadmat(fname)\n",
    "\n",
    "def _redefine(struct):\n",
    "    struct['label'] = np.squeeze(struct['label']).tolist()\n",
    "    time = struct['time']\n",
    "    trial = struct['trial']\n",
    "    lens = [t.shape[0] for t in time]\n",
    "    minlen = min(lens)\n",
    "    for ind, (ti, tr) in enumerate(zip(time, trial)):\n",
    "        struct['trial'][ind] = tr[..., :minlen]\n",
    "        struct['time'][ind] = ti[:minlen]\n",
    "    struct['time'] = np.array(np.array(struct['time']).tolist(), dtype=np.float64)\n",
    "    struct['trial'] = np.array(np.array(struct['trial']).tolist(), dtype=np.float64)\n",
    "\n",
    "def recursive_redefine(struct):\n",
    "    if isinstance(struct, list) or isinstance(struct, np.ndarray):\n",
    "        for obj in struct:\n",
    "            recursive_redefine(obj)\n",
    "    if isinstance(struct, dict):\n",
    "        if (struct.get('trial') is not None) and (struct.get('time') is not None) and (struct.get('fsample') is not None):\n",
    "            if isinstance(struct['time'], list):\n",
    "                _redefine(struct)\n",
    "            elif struct['trial'].dtype == np.object:\n",
    "                _redefine(struct)\n",
    "            \n",
    "            if len(struct['trial'].shape) == 2:\n",
    "                struct['trial'] = struct['trial'][np.newaxis, :, :]\n",
    "            \n",
    "            if len(struct['time'].shape) == 1:\n",
    "                struct['time'] = np.tile(struct['time'], (struct['trial'].shape[0], 1))\n",
    "\n",
    "        else:\n",
    "            for k, v in struct.items():\n",
    "                recursive_redefine(v)\n",
    "    \n",
    "def save_masked(name, arr):\n",
    "    temp = np.array(arr)\n",
    "    temp[arr.mask] *= np.nan\n",
    "    np.save(name, temp)\n",
    "    \n",
    "def load_masked(name):\n",
    "    temp = np.load(name)\n",
    "    return ma.array(temp, mask=np.isnan(temp))\n",
    "\n",
    "def norm(a):\n",
    "    return (a - np.nanmin(a))/(np.nanmax(a) - np.nanmin(a))\n",
    "    \n",
    "def local_mins(sig):\n",
    "    sig_len = sig.shape[-1]\n",
    "    local_min_points_mask = np.diff((np.diff(sig) < 0).astype(int)) < 0\n",
    "    local_min_points_inds = np.r_[2:sig_len][local_min_points_mask]\n",
    "    local_min_points_values = sig[local_min_points_inds]\n",
    "    return local_min_points_inds, local_min_points_values\n",
    "\n",
    "def local_maxes(sig):\n",
    "    sig_len = sig.shape[-1]\n",
    "    local_min_points_mask = np.diff((np.diff(sig) < 0).astype(int)) > 0\n",
    "    local_min_points_inds = np.r_[2:sig_len][local_min_points_mask]\n",
    "    local_min_points_values = sig[local_min_points_inds]\n",
    "    return local_min_points_inds, local_min_points_values\n",
    "\n",
    "import itertools\n",
    "\n",
    "def create_shape(obj, hard=False):\n",
    "    if hasattr(obj, '__len__'):\n",
    "        if len(obj) == 0:\n",
    "            return [0]\n",
    "        if not hard:\n",
    "            if not hasattr(obj[0], '__len__'):\n",
    "                return [len(obj)]\n",
    "        lens = [create_shape(i) for i in obj]\n",
    "        pure_lens = [i for i in lens if i is not None]\n",
    "        depths = []\n",
    "        if len(pure_lens) != 0:\n",
    "            depths = np.array(list(itertools.zip_longest(*pure_lens, fillvalue=0))).max(axis=-1).tolist()\n",
    "        obj_len = len(obj)\n",
    "        temp = [len(obj)] + depths\n",
    "        return [i for i in temp if i != 0]\n",
    "    \n",
    "def marray_from_lists(obj):\n",
    "    shape = np.array(create_shape(obj))\n",
    "#     print(shape)\n",
    "    ndims = len(shape)\n",
    "    if ndims == 1:\n",
    "        return ma.array(obj)\n",
    "    else:\n",
    "        return _marray_from_lists(obj, shape, 0)\n",
    "    \n",
    "def _marray_from_lists(obj, shape, depth):\n",
    "    ndims = len(shape)\n",
    "    if depth == ndims - 1:\n",
    "        if hasattr(obj, '__len__'):\n",
    "            pass # для учтения кейса\n",
    "        else:\n",
    "            if obj is not None:\n",
    "                obj = [obj]\n",
    "            else:\n",
    "                temp = ma.empty(shape[depth])\n",
    "                temp.mask = True\n",
    "                return temp\n",
    "        ntrail = shape[depth] - len(obj)\n",
    "        trail = ma.empty(ntrail)\n",
    "        trail.mask = True\n",
    "        temp = ma.array(obj)\n",
    "        return ma.concatenate((obj, trail))\n",
    "    else:\n",
    "        if not hasattr(obj, '__len__'):\n",
    "            temp = ma.empty(shape[depth:])\n",
    "            if obj is not None:\n",
    "                mask = np.ones(shape[depth:]).flatten()\n",
    "                temp = ma.empty(shape[depth:]).flatten()\n",
    "                mask[0] = 0\n",
    "                temp[0] = obj\n",
    "                temp.mask = mask\n",
    "                temp = temp.reshape(shape[depth:])\n",
    "            else:\n",
    "                temp.mask = True\n",
    "            return temp\n",
    "        else:\n",
    "            trail_shape = shape[depth:].copy()\n",
    "            trail_shape[0] -= len(obj)\n",
    "#             print(trail_shape, shape)\n",
    "            trail = ma.empty(trail_shape)\n",
    "            trail.mask = True\n",
    "            temp = ma.stack([_marray_from_lists(i, shape, depth + 1) for i in obj])\n",
    "            temp = ma.concatenate((temp, trail))\n",
    "            return temp\n",
    "        \n",
    "def allbut(*names, levels):\n",
    "    names = set(names)\n",
    "    return [item for item in levels if item not in names]\n",
    "\n",
    "def plot_jasp(data, x, line=None, plots=None, errors=True, var=None, kind='line', sharey=False):\n",
    "    if plots is not None:\n",
    "        ngroups = data.groupby(plots).ngroups\n",
    "        cols = int(np.sqrt(ngroups))\n",
    "        rows = int(np.ceil(ngroups/cols))\n",
    "        fig, axes = plt.subplots(nrows=rows, ncols=cols, figsize=(6.4*cols, 4.8*rows))\n",
    "        axes = np.array(axes).flatten().tolist()\n",
    "        for (group_name, group), ax in zip(data.groupby(plots), axes):\n",
    "            group_name = [group_name] if not isinstance(group_name, tuple) else group_name\n",
    "            plots_list = [plots] if not hasattr(plots, '__iter__') else plots\n",
    "#             print(plots_list, group_name)\n",
    "            title = '; '.join([': '.join(i) for i in zip(plots_list, group_name)])\n",
    "#             disp(group)\n",
    "            _plot_jasp(group, x, line, title, ax=ax, errors=errors, kind=kind, sharey=sharey, var=var)\n",
    "    else:\n",
    "        fig, ax = plt.subplots(1, 1)\n",
    "        _plot_jasp(data, x, line, ax=ax, var=var)\n",
    "    return fig\n",
    "    \n",
    "    \n",
    "def _plot_jasp(data, x, line=None, title=None, subplots=False, ax=None, errors=True, kind='line', sharey=False, var=None):\n",
    "    groups = [x]\n",
    "    groups.append(line) if line is not None else None\n",
    "    means = data.groupby(groups).mean().unstack(level=x).T.droplevel(0)\n",
    "    errors = data.groupby(groups).sem().unstack(level=x).T.droplevel(0) if errors else None\n",
    "    kwargs = {}\n",
    "    if errors is not None:\n",
    "        kwargs['capsize'] = 8\n",
    "    ax = means.plot(kind=kind, yerr=errors, title=title, ax=ax, sharey=sharey, **kwargs)\n",
    "    xticks = list(means.index)\n",
    "#     print(xticks)\n",
    "    if len(xticks) == 2:\n",
    "        ticks = ax.get_xticklabels()\n",
    "#         print(ticks)\n",
    "        ticks[-2].set_text(xticks[-1])\n",
    "        ax.set_xticklabels(ticks)\n",
    "#     print()\n",
    "    ax.grid()\n",
    "    fig = ax.figure\n",
    "    transform_same_lines(ax, fig, 10) if kind =='line' else None"
   ]
  },
  {
   "cell_type": "markdown",
   "id": "interpreted-massachusetts",
   "metadata": {},
   "source": [
    "# Pack TMS data"
   ]
  },
  {
   "cell_type": "code",
   "execution_count": 7,
   "id": "necessary-vaccine",
   "metadata": {
    "execution": {
     "iopub.execute_input": "2021-08-19T08:46:29.243991Z",
     "iopub.status.busy": "2021-08-19T08:46:29.242992Z",
     "iopub.status.idle": "2021-08-19T08:49:32.904531Z",
     "shell.execute_reply": "2021-08-19T08:49:32.903522Z",
     "shell.execute_reply.started": "2021-08-19T08:46:29.242992Z"
    },
    "tags": []
   },
   "outputs": [
    {
     "name": "stderr",
     "output_type": "stream",
     "text": [
      "100%|██████████████████████████████████████████████████████████████████████████████████████████| 4/4 [00:17<00:00,  4.31s/it]\n"
     ]
    }
   ],
   "source": [
    "cases = ['right_im1', 'right_im2', 'right_real', 'right_quasi']\n",
    "bgr_case = 'right_real'\n",
    "\n",
    "data = mat73.loadmat('motor_imagery/preproc_data.mat')\n",
    "res = data['res']\n",
    "res_bgr = data['res_bgr']\n",
    "\n",
    "labels_after = np.array(res[0]['right_real']['label']).T[0].tolist()\n",
    "# mask = np.sum(np.array([np.array(labels) == i for i in picks]), axis=0).astype(bool)\n",
    "\n",
    "data_arrays_after = []\n",
    "bgr_data_arrays_after = marray_from_lists([j[bgr_case]['trial'] if j is not None else None for j in res_bgr])\n",
    "for case in tqdm(cases):\n",
    "    temp = marray_from_lists([j[case]['trial'] if j is not None else None for j in res])[..., :9500]\n",
    "    data_arrays_after.append(temp)\n",
    "\n",
    "data_arrays_after = ma.stack(data_arrays_after)\n",
    "plug = ma.empty(data_arrays_after.shape)\n",
    "plug.mask = True\n",
    "data_arrays_after = ma.concatenate([data_arrays_after, plug])\n",
    "\n"
   ]
  },
  {
   "cell_type": "code",
   "execution_count": 8,
   "id": "united-broadcast",
   "metadata": {
    "execution": {
     "iopub.execute_input": "2021-08-19T08:49:50.168166Z",
     "iopub.status.busy": "2021-08-19T08:49:50.168166Z",
     "iopub.status.idle": "2021-08-19T08:54:30.561841Z",
     "shell.execute_reply": "2021-08-19T08:54:30.560793Z",
     "shell.execute_reply.started": "2021-08-19T08:49:50.168166Z"
    },
    "tags": []
   },
   "outputs": [
    {
     "name": "stderr",
     "output_type": "stream",
     "text": [
      "100%|██████████████████████████████████████████████████████████████████████████████████████████| 8/8 [00:35<00:00,  4.46s/it]\n"
     ]
    }
   ],
   "source": [
    "cases = ['right_im1', 'right_im2', 'right_real', 'right_quasi', 'left_im1', 'left_im2', 'left_real', 'left_quasi']\n",
    "bgr_case = 'right_real'\n",
    "\n",
    "data = mat73.loadmat('motor_imagery/sub_all.mat')\n",
    "data_bgr = loadmat('motor_imagery/sub_all_bgr.mat')\n",
    "\n",
    "res = data['subs_ica']\n",
    "res_bgr = data_bgr['subs_ica_bgr'].tolist()\n",
    "\n",
    "# res[9] = None\n",
    "# res_bgr[9] = None\n",
    "\n",
    "\n",
    "labels_before = np.array(res[0]['right_real']['label']).T[0].tolist()\n",
    "# mask = np.sum(np.array([np.array(labels) == i for i in picks]), axis=0).astype(bool)\n",
    "\n",
    "data_arrays_before = []\n",
    "bgr_data_arrays_before = marray_from_lists([j[bgr_case]['trial'] if j is not None else None for j in res_bgr])\n",
    "\n",
    "for case in tqdm(cases):\n",
    "    temp = marray_from_lists([j[case]['trial'] if j is not None else None for j in res])[..., :9500]\n",
    "    data_arrays_before.append(temp)\n",
    "\n",
    "data_arrays_before = ma.stack(data_arrays_before)\n"
   ]
  },
  {
   "cell_type": "code",
   "execution_count": 16,
   "id": "romance-evidence",
   "metadata": {
    "execution": {
     "iopub.execute_input": "2021-08-19T09:01:48.293779Z",
     "iopub.status.busy": "2021-08-19T09:01:48.292777Z",
     "iopub.status.idle": "2021-08-19T09:03:08.758863Z",
     "shell.execute_reply": "2021-08-19T09:03:08.757865Z",
     "shell.execute_reply.started": "2021-08-19T09:01:48.293779Z"
    },
    "tags": []
   },
   "outputs": [],
   "source": [
    "data_arrays = ma.stack([data_arrays_before, data_arrays_after])\n",
    "bgr_data_array = ma.stack([bgr_data_arrays_before[:, None, ...], bgr_data_arrays_after])\n",
    "\n",
    "data_arrays_arr_bgr = np.array(bgr_data_array)\n",
    "data_arrays_arr_bgr[bgr_data_array.mask] *= np.nan\n",
    "np.save('TMS_RAW_DATASET_BGR.npy', data_arrays_arr_bgr)\n",
    "\n",
    "\n",
    "data_arrays_arr = np.array(data_arrays)\n",
    "data_arrays_arr[data_arrays.mask] *= np.nan\n",
    "np.save('TMS_RAW_DATASET.npy', data_arrays_arr)"
   ]
  },
  {
   "cell_type": "code",
   "execution_count": 11,
   "id": "medical-riding",
   "metadata": {
    "execution": {
     "iopub.execute_input": "2021-08-19T09:16:57.993745Z",
     "iopub.status.busy": "2021-08-19T09:16:57.992737Z",
     "iopub.status.idle": "2021-08-19T09:20:07.533910Z",
     "shell.execute_reply": "2021-08-19T09:20:07.532908Z",
     "shell.execute_reply.started": "2021-08-19T09:16:57.993745Z"
    },
    "tags": []
   },
   "outputs": [
    {
     "name": "stderr",
     "output_type": "stream",
     "text": [
      "100%|██████████████████████████████████████████████████████████████████████████████████████| 240/240 [02:57<00:00,  1.35it/s]\n",
      "100%|████████████████████████████████████████████████████████████████████████████████████████| 30/30 [00:05<00:00,  5.52it/s]\n"
     ]
    }
   ],
   "source": [
    "picks = ['C3', 'C4', 'F3', 'F4']\n",
    "mask = np.sum(np.array([np.array(channel_labels) == i for i in picks]), axis=0).astype(bool)\n",
    "freqs = np.r_[5:30:0.4]\n",
    "tfr = []\n",
    "tfr_bgr = []\n",
    "\n",
    "theta = (freqs < 8)* (freqs >= 5)\n",
    "alpha = (freqs < 14)* (freqs >= 8)\n",
    "beta = (freqs < 30)* (freqs >= 15)\n",
    "\n",
    "days = np.r_[:2]\n",
    "cases = np.r_[:8]\n",
    "subjects = np.r_[:15]\n",
    "\n",
    "data_cases = true_meshgrid(days, cases, subjects)\n",
    "bgr_cases = true_meshgrid(days, subjects)\n",
    "\n",
    "for data_case in tqdm(data_cases):\n",
    "    slice_index = np.ix_(*data_case[:, None])\n",
    "    temp = np.squeeze(data_arrays[slice_index][..., 0:-1:4][..., mask, :])\n",
    "    sh = np.ones(len(temp.mask.shape) + 1, dtype=int).tolist()\n",
    "    sh[-2] = len(freqs)\n",
    "    nanmask = np.tile(temp.mask[..., None, :], sh)\n",
    "    if not np.all(temp.mask):   \n",
    "        temp = mne.time_frequency.tfr_array_morlet(temp, 250, freqs, freqs, output='power', n_jobs=10, verbose=False, )\n",
    "        temp = ma.array(temp, mask=nanmask)\n",
    "    else:\n",
    "        temp = ma.empty(nanmask.shape)\n",
    "        temp.mask = True    \n",
    "    theta_data = temp[..., theta, :].mean(axis=-2)\n",
    "    alpha_data = temp[..., alpha, :].mean(axis=-2)\n",
    "    beta_data = temp[..., beta, :].mean(axis=-2)\n",
    "    temp = ma.stack([theta_data, alpha_data, beta_data], axis=-2)\n",
    "    tfr.append(temp)\n",
    "\n",
    "for bgr_case in tqdm(bgr_cases):\n",
    "    slice_index = np.ix_(*bgr_case[:, None])\n",
    "    temp = np.squeeze(bgr_data_array[slice_index][..., 0:-1:4][..., mask, :])[None, ...]\n",
    "    sh = np.ones(len(temp.mask.shape) + 1, dtype=int).tolist()\n",
    "    sh[-2] = len(freqs)\n",
    "    nanmask = np.tile(temp.mask[..., None, :], sh)\n",
    "    temp = mne.time_frequency.tfr_array_morlet(temp, 250, freqs, freqs, output='power', n_jobs=10, verbose=False)\n",
    "    temp = ma.array(temp, mask=nanmask)\n",
    "    \n",
    "    theta_data = temp[..., theta, :].mean(axis=-2)\n",
    "    alpha_data = temp[..., alpha, :].mean(axis=-2)\n",
    "    beta_data = temp[..., beta, :].mean(axis=-2)\n",
    "    temp = ma.stack([theta_data, alpha_data, beta_data], axis=-2)\n",
    "    tfr_bgr.append(temp)\n",
    "\n",
    "\n",
    "tfr_arr = ma.stack(tfr)\n",
    "tfr_bgr_arr = ma.stack(tfr_bgr)\n",
    "\n",
    "tfr_shape = [2, 8, 15] + list(tfr_arr.shape)[1:]\n",
    "bgr_shape = [2, 15] + list(tfr_bgr_arr.shape)[1:]\n",
    "tfr_arr = tfr_arr.reshape(tfr_shape)[..., 250:250*9]\n",
    "tfr_bgr_arr = tfr_bgr_arr.reshape(bgr_shape)[:, None, ..., 250:-250].mean(axis=-1, keepdims=True)\n",
    "\n",
    "tfr_arr = (tfr_arr - tfr_bgr_arr)/tfr_bgr_arr\n",
    "tfr_arr = np.rollaxis(tfr_arr, 3, -1)\n",
    "tfr_arr = np.rollaxis(tfr_arr, 2, 5)"
   ]
  },
  {
   "cell_type": "code",
   "execution_count": null,
   "id": "still-elite",
   "metadata": {},
   "outputs": [],
   "source": [
    "save_masked('TMS_TFR_PROCESSED.npy', tfr_arr)"
   ]
  },
  {
   "cell_type": "markdown",
   "id": "sticky-psychology",
   "metadata": {},
   "source": [
    "# Load data"
   ]
  },
  {
   "cell_type": "code",
   "execution_count": 3,
   "id": "swiss-springfield",
   "metadata": {
    "execution": {
     "iopub.execute_input": "2021-12-27T03:51:58.132260Z",
     "iopub.status.busy": "2021-12-27T03:51:58.132260Z",
     "iopub.status.idle": "2021-12-27T03:52:20.903946Z",
     "shell.execute_reply": "2021-12-27T03:52:20.902951Z",
     "shell.execute_reply.started": "2021-12-27T03:51:58.132260Z"
    },
    "tags": []
   },
   "outputs": [
    {
     "ename": "KeyboardInterrupt",
     "evalue": "",
     "output_type": "error",
     "traceback": [
      "\u001B[1;31m---------------------------------------------------------------------------\u001B[0m",
      "\u001B[1;31mKeyboardInterrupt\u001B[0m                         Traceback (most recent call last)",
      "\u001B[1;32m~\\AppData\\Local\\Temp/ipykernel_8936/2202335130.py\u001B[0m in \u001B[0;36m<module>\u001B[1;34m\u001B[0m\n\u001B[1;32m----> 1\u001B[1;33m \u001B[0mdata_arrays\u001B[0m \u001B[1;33m=\u001B[0m \u001B[0mload_masked\u001B[0m\u001B[1;33m(\u001B[0m\u001B[1;34m'../tfr_stat/data/TMS_RAW_DATASET.npy'\u001B[0m\u001B[1;33m)\u001B[0m\u001B[1;33m\u001B[0m\u001B[1;33m\u001B[0m\u001B[0m\n\u001B[0m\u001B[0;32m      2\u001B[0m \u001B[0mbgr_data_array\u001B[0m \u001B[1;33m=\u001B[0m \u001B[0mload_masked\u001B[0m\u001B[1;33m(\u001B[0m\u001B[1;34m'../tfr_stat/data/TMS_RAW_DATASET_BGR.npy'\u001B[0m\u001B[1;33m)\u001B[0m\u001B[1;33m\u001B[0m\u001B[1;33m\u001B[0m\u001B[0m\n",
      "\u001B[1;32m~\\AppData\\Local\\Temp/ipykernel_8936/3713231621.py\u001B[0m in \u001B[0;36mload_masked\u001B[1;34m(name)\u001B[0m\n\u001B[0;32m     85\u001B[0m \u001B[1;33m\u001B[0m\u001B[0m\n\u001B[0;32m     86\u001B[0m \u001B[1;32mdef\u001B[0m \u001B[0mload_masked\u001B[0m\u001B[1;33m(\u001B[0m\u001B[0mname\u001B[0m\u001B[1;33m)\u001B[0m\u001B[1;33m:\u001B[0m\u001B[1;33m\u001B[0m\u001B[1;33m\u001B[0m\u001B[0m\n\u001B[1;32m---> 87\u001B[1;33m     \u001B[0mtemp\u001B[0m \u001B[1;33m=\u001B[0m \u001B[0mnp\u001B[0m\u001B[1;33m.\u001B[0m\u001B[0mload\u001B[0m\u001B[1;33m(\u001B[0m\u001B[0mname\u001B[0m\u001B[1;33m)\u001B[0m\u001B[1;33m\u001B[0m\u001B[1;33m\u001B[0m\u001B[0m\n\u001B[0m\u001B[0;32m     88\u001B[0m     \u001B[1;32mreturn\u001B[0m \u001B[0mma\u001B[0m\u001B[1;33m.\u001B[0m\u001B[0marray\u001B[0m\u001B[1;33m(\u001B[0m\u001B[0mtemp\u001B[0m\u001B[1;33m,\u001B[0m \u001B[0mmask\u001B[0m\u001B[1;33m=\u001B[0m\u001B[0mnp\u001B[0m\u001B[1;33m.\u001B[0m\u001B[0misnan\u001B[0m\u001B[1;33m(\u001B[0m\u001B[0mtemp\u001B[0m\u001B[1;33m)\u001B[0m\u001B[1;33m)\u001B[0m\u001B[1;33m\u001B[0m\u001B[1;33m\u001B[0m\u001B[0m\n\u001B[0;32m     89\u001B[0m \u001B[1;33m\u001B[0m\u001B[0m\n",
      "\u001B[1;32mJ:\\Smirnov\\miniconda3\\lib\\site-packages\\numpy\\lib\\npyio.py\u001B[0m in \u001B[0;36mload\u001B[1;34m(file, mmap_mode, allow_pickle, fix_imports, encoding)\u001B[0m\n\u001B[0;32m    438\u001B[0m                 \u001B[1;32mreturn\u001B[0m \u001B[0mformat\u001B[0m\u001B[1;33m.\u001B[0m\u001B[0mopen_memmap\u001B[0m\u001B[1;33m(\u001B[0m\u001B[0mfile\u001B[0m\u001B[1;33m,\u001B[0m \u001B[0mmode\u001B[0m\u001B[1;33m=\u001B[0m\u001B[0mmmap_mode\u001B[0m\u001B[1;33m)\u001B[0m\u001B[1;33m\u001B[0m\u001B[1;33m\u001B[0m\u001B[0m\n\u001B[0;32m    439\u001B[0m             \u001B[1;32melse\u001B[0m\u001B[1;33m:\u001B[0m\u001B[1;33m\u001B[0m\u001B[1;33m\u001B[0m\u001B[0m\n\u001B[1;32m--> 440\u001B[1;33m                 return format.read_array(fid, allow_pickle=allow_pickle,\n\u001B[0m\u001B[0;32m    441\u001B[0m                                          pickle_kwargs=pickle_kwargs)\n\u001B[0;32m    442\u001B[0m         \u001B[1;32melse\u001B[0m\u001B[1;33m:\u001B[0m\u001B[1;33m\u001B[0m\u001B[1;33m\u001B[0m\u001B[0m\n",
      "\u001B[1;32mJ:\\Smirnov\\miniconda3\\lib\\site-packages\\numpy\\lib\\format.py\u001B[0m in \u001B[0;36mread_array\u001B[1;34m(fp, allow_pickle, pickle_kwargs)\u001B[0m\n\u001B[0;32m    755\u001B[0m         \u001B[1;32mif\u001B[0m \u001B[0misfileobj\u001B[0m\u001B[1;33m(\u001B[0m\u001B[0mfp\u001B[0m\u001B[1;33m)\u001B[0m\u001B[1;33m:\u001B[0m\u001B[1;33m\u001B[0m\u001B[1;33m\u001B[0m\u001B[0m\n\u001B[0;32m    756\u001B[0m             \u001B[1;31m# We can use the fast fromfile() function.\u001B[0m\u001B[1;33m\u001B[0m\u001B[1;33m\u001B[0m\u001B[1;33m\u001B[0m\u001B[0m\n\u001B[1;32m--> 757\u001B[1;33m             \u001B[0marray\u001B[0m \u001B[1;33m=\u001B[0m \u001B[0mnumpy\u001B[0m\u001B[1;33m.\u001B[0m\u001B[0mfromfile\u001B[0m\u001B[1;33m(\u001B[0m\u001B[0mfp\u001B[0m\u001B[1;33m,\u001B[0m \u001B[0mdtype\u001B[0m\u001B[1;33m=\u001B[0m\u001B[0mdtype\u001B[0m\u001B[1;33m,\u001B[0m \u001B[0mcount\u001B[0m\u001B[1;33m=\u001B[0m\u001B[0mcount\u001B[0m\u001B[1;33m)\u001B[0m\u001B[1;33m\u001B[0m\u001B[1;33m\u001B[0m\u001B[0m\n\u001B[0m\u001B[0;32m    758\u001B[0m         \u001B[1;32melse\u001B[0m\u001B[1;33m:\u001B[0m\u001B[1;33m\u001B[0m\u001B[1;33m\u001B[0m\u001B[0m\n\u001B[0;32m    759\u001B[0m             \u001B[1;31m# This is not a real file. We have to read it the\u001B[0m\u001B[1;33m\u001B[0m\u001B[1;33m\u001B[0m\u001B[1;33m\u001B[0m\u001B[0m\n",
      "\u001B[1;31mKeyboardInterrupt\u001B[0m: "
     ]
    }
   ],
   "source": [
    "data_arrays = load_masked('../tfr_stat/data/TMS_RAW_DATASET.npy')\n",
    "bgr_data_array = load_masked('../tfr_stat/data/TMS_RAW_DATASET_BGR.npy')"
   ]
  },
  {
   "cell_type": "code",
   "execution_count": 6,
   "id": "relative-classification",
   "metadata": {
    "execution": {
     "iopub.execute_input": "2021-12-27T03:52:36.611975Z",
     "iopub.status.busy": "2021-12-27T03:52:36.610914Z",
     "iopub.status.idle": "2021-12-27T03:52:45.694001Z",
     "shell.execute_reply": "2021-12-27T03:52:45.694001Z",
     "shell.execute_reply.started": "2021-12-27T03:52:36.611975Z"
    },
    "tags": []
   },
   "outputs": [],
   "source": [
    "data_bgr = loadmat('../data/sub_all_bgr.mat')\n",
    "channel_labels = np.array(data_bgr['subs_ica_bgr'][0]['right_real']['label'].tolist())\n",
    "del data_bgr"
   ]
  },
  {
   "cell_type": "code",
   "execution_count": 16,
   "id": "confidential-oakland",
   "metadata": {
    "execution": {
     "iopub.execute_input": "2021-12-07T19:08:28.552291Z",
     "iopub.status.busy": "2021-12-07T19:08:28.552291Z",
     "iopub.status.idle": "2021-12-07T19:08:28.952679Z",
     "shell.execute_reply": "2021-12-07T19:08:28.952679Z",
     "shell.execute_reply.started": "2021-12-07T19:08:28.552291Z"
    },
    "tags": []
   },
   "outputs": [
    {
     "data": {
      "text/plain": [
       "array(['FP1', 'FP2', 'F7', 'F3', 'Fz', 'F4', 'F8', 'FT9', 'FC5', 'FC1',\n",
       "       'FC2', 'FC6', 'FT10', 'T7', 'C3', 'Cz', 'C4', 'T8', 'TP9', 'CP5',\n",
       "       'CP1', 'CP2', 'CP6', 'TP10', 'P7', 'P3', 'Pz', 'P4', 'P8', 'O1',\n",
       "       'Oz', 'O2'], dtype='<U4')"
      ]
     },
     "execution_count": 16,
     "metadata": {},
     "output_type": "execute_result"
    }
   ],
   "source": [
    "channel_labels"
   ]
  },
  {
   "cell_type": "code",
   "execution_count": 7,
   "id": "assisted-waterproof",
   "metadata": {
    "execution": {
     "iopub.execute_input": "2021-12-27T03:52:45.696993Z",
     "iopub.status.busy": "2021-12-27T03:52:45.695994Z",
     "iopub.status.idle": "2021-12-27T03:52:50.899324Z",
     "shell.execute_reply": "2021-12-27T03:52:50.899324Z",
     "shell.execute_reply.started": "2021-12-27T03:52:45.696993Z"
    },
    "tags": []
   },
   "outputs": [],
   "source": [
    "tfr_arr = load_masked('../tfr_stat/data/TMS_TFR_PROCESSED.npy')\n",
    "time = np.r_[1:9:0.004]"
   ]
  },
  {
   "cell_type": "markdown",
   "id": "oriental-peace",
   "metadata": {},
   "source": [
    "# Plotting"
   ]
  },
  {
   "cell_type": "code",
   "execution_count": null,
   "id": "reduced-seminar",
   "metadata": {
    "tags": []
   },
   "outputs": [],
   "source": [
    "erd_table_temp = erd_table.drop(['Bilateral', 'Contralateral', 'Ipsilateral'], axis=1)\n",
    "plot_jasp(erd_table_temp, '', line='Hand', plots=['Zone'], errors=False, kind='line', sharey=True);\n",
    "plt.tight_layout();"
   ]
  },
  {
   "cell_type": "code",
   "execution_count": 9,
   "id": "declared-enforcement",
   "metadata": {
    "execution": {
     "iopub.execute_input": "2021-06-21T16:31:51.167543Z",
     "iopub.status.busy": "2021-06-21T16:31:51.167543Z",
     "iopub.status.idle": "2021-06-21T16:31:51.242518Z",
     "shell.execute_reply": "2021-06-21T16:31:51.241521Z",
     "shell.execute_reply.started": "2021-06-21T16:31:51.167543Z"
    },
    "jupyter": {
     "source_hidden": true
    },
    "tags": []
   },
   "outputs": [],
   "source": [
    "\n",
    "# case = 0\n",
    "# subj = 1\n",
    "# band = 0\n",
    "# ch = 3\n",
    "def calculate_mbrt(data, threshold=1.4, block_start_th=3):\n",
    "    time = np.r_[1:9:0.004]\n",
    "    base = data[..., time < 5]\n",
    "    post = data[..., time >= 5]\n",
    "    base_mean = np.mean(base)\n",
    "    post_avgovertrials = post.mean(axis=0)\n",
    "    post_len = len(post_avgovertrials)\n",
    "    post_time_raw = time[time >= 5] - 5\n",
    "    \n",
    "    \n",
    "    # я взял это значение от балды, близко к 1.7, которое соответствует критическому уровню p_value = 0.05\n",
    "    # почему именно 1.4 -- лучше всех подходит\n",
    "#     threshold = 1.4 \n",
    "    T_obs, clusters, cluster_p_values, _ = \\\n",
    "        mne.stats.permutation_cluster_test([base, post], n_permutations=1000,\n",
    "                                 threshold=threshold, tail=1, n_jobs=10,\n",
    "                                 out_type='mask', stat_fun=lambda a, b: spst.ttest_rel(a, b).statistic, verbose=False)\n",
    "    raw_clusters = clusters\n",
    "    \n",
    "    if len(clusters) == 0:\n",
    "        return None\n",
    "\n",
    "    # берем только те кластеры, которые появляются до 8-й секунды (в первые три секунды после сигнала)\n",
    "    # также не берем слишком ранние кластеры\n",
    "    clusters_mask = np.array([c[0].start < post_time_raw[post_time_raw < block_start_th].shape[0]  and c[0].stop > 50  for c in clusters]) \n",
    "    clusters = [tuple(c) for c in np.array(clusters)[clusters_mask].tolist()]\n",
    "    if len(clusters) == 0:\n",
    "        return None\n",
    "    cluster_p_values = np.array(cluster_p_values)[clusters_mask].tolist()\n",
    "\n",
    "    # берем кластер из набора выше с минимальным p_value\n",
    "#     c = clusters[np.argmin(cluster_p_values)]\n",
    "    c = clusters[np.argmin(np.array([post_avgovertrials[c].mean() for c in clusters]))]\n",
    "#     c = clusters[0]\n",
    "\n",
    "    # average over trials and select points within cluster\n",
    "    poststimul_cluster_selection = post.mean(axis=0)[c]\n",
    "\n",
    "    selection_len = len(poststimul_cluster_selection)\n",
    "\n",
    "    # finding local minimumns within cluster\n",
    "    local_min_points_mask = np.diff((np.diff(poststimul_cluster_selection) < 0).astype(int)) < 0\n",
    "    local_min_points_inds = np.r_[2:selection_len][local_min_points_mask]\n",
    "    local_min_points_values = poststimul_cluster_selection[local_min_points_inds]\n",
    "\n",
    "    # ищем те минимумы, которые не сильно отличаются от средней минимумов (нужно для выбора первой точки, если вышло плато и точка выбирается в конце)\n",
    "    # то есть грубо говоря, если локальные минимумы находятся примерно на одном уровне, то останутся все.\n",
    "    # если же есть минимум который сильно выше, то он откидывается.\n",
    "    # не учитывается случай, если несколько высоких локальных минимумов и один с сильной просадкой\n",
    "    local_min_points_mean = local_min_points_values.mean()\n",
    "    mask = np.abs(local_min_points_values/local_min_points_mean - 1) < 0.05\n",
    "    local_min_points_inds = local_min_points_inds[mask]\n",
    "\n",
    "\n",
    "    if local_min_points_inds.shape == (0, ):\n",
    "        # на случай, если локальных минимумов вообще нет\n",
    "        min_point = np.argmin(poststimul_cluster_selection)\n",
    "    else:\n",
    "        min_point = local_min_points_inds[0]\n",
    "    \n",
    "    result_point_ind = np.r_[0:post_len][c][min_point]\n",
    "    result_point = post_avgovertrials[result_point_ind]\n",
    "    result_point_ind = len(time[time < 5]) + result_point_ind\n",
    "    \n",
    "    delta_e = base_mean - result_point\n",
    "    delta_t = time[result_point_ind] - 5\n",
    "    result = {}\n",
    "    result['delta_t'] = delta_t\n",
    "    result['delta_e'] = delta_e\n",
    "    result['point_ind'] = result_point_ind\n",
    "    result['cluster_slice'] = c\n",
    "    result['raw_clusters'] = raw_clusters\n",
    "    result['clusters'] = clusters\n",
    "    return result\n",
    "    "
   ]
  },
  {
   "cell_type": "code",
   "execution_count": 23,
   "id": "surgical-madagascar",
   "metadata": {
    "execution": {
     "iopub.execute_input": "2021-12-08T07:44:00.721190Z",
     "iopub.status.busy": "2021-12-08T07:44:00.721190Z",
     "iopub.status.idle": "2021-12-08T07:44:01.120071Z",
     "shell.execute_reply": "2021-12-08T07:44:01.119062Z",
     "shell.execute_reply.started": "2021-12-08T07:44:00.721190Z"
    },
    "tags": []
   },
   "outputs": [
    {
     "ename": "NameError",
     "evalue": "name 'mbrt_MA_all_first' is not defined",
     "output_type": "error",
     "traceback": [
      "\u001B[1;31m---------------------------------------------------------------------------\u001B[0m",
      "\u001B[1;31mNameError\u001B[0m                                 Traceback (most recent call last)",
      "\u001B[1;32m~\\AppData\\Local\\Temp/ipykernel_12560/778652286.py\u001B[0m in \u001B[0;36m<module>\u001B[1;34m\u001B[0m\n\u001B[0;32m      2\u001B[0m \u001B[1;31m# Left_side = (mbrt_MA_temp[0:3:2, ..., 1000:1500]).mean(axis=-1)\u001B[0m\u001B[1;33m\u001B[0m\u001B[1;33m\u001B[0m\u001B[1;33m\u001B[0m\u001B[0m\n\u001B[0;32m      3\u001B[0m \u001B[1;31m# Right_side = (mbrt_MA_temp[1:4:2, ..., 1000:1500]).mean(axis=-1)\u001B[0m\u001B[1;33m\u001B[0m\u001B[1;33m\u001B[0m\u001B[1;33m\u001B[0m\u001B[0m\n\u001B[1;32m----> 4\u001B[1;33m \u001B[0mmbrt_MA_temp\u001B[0m \u001B[1;33m=\u001B[0m \u001B[0mnp\u001B[0m\u001B[1;33m.\u001B[0m\u001B[0mrollaxis\u001B[0m\u001B[1;33m(\u001B[0m\u001B[0mmbrt_MA_all_first\u001B[0m\u001B[1;33m,\u001B[0m \u001B[1;36m2\u001B[0m\u001B[1;33m)\u001B[0m\u001B[1;33m.\u001B[0m\u001B[0mreshape\u001B[0m\u001B[1;33m(\u001B[0m\u001B[1;36m4\u001B[0m\u001B[1;33m,\u001B[0m \u001B[1;36m2\u001B[0m\u001B[1;33m,\u001B[0m \u001B[1;36m2\u001B[0m\u001B[1;33m,\u001B[0m \u001B[1;36m4\u001B[0m\u001B[1;33m,\u001B[0m \u001B[1;36m3\u001B[0m\u001B[1;33m,\u001B[0m \u001B[1;36m15\u001B[0m\u001B[1;33m,\u001B[0m \u001B[1;36m20\u001B[0m\u001B[1;33m,\u001B[0m \u001B[1;36m2\u001B[0m\u001B[1;33m)\u001B[0m\u001B[1;33m\u001B[0m\u001B[1;33m\u001B[0m\u001B[0m\n\u001B[0m\u001B[0;32m      5\u001B[0m \u001B[0mLeft_side\u001B[0m \u001B[1;33m=\u001B[0m \u001B[0mmbrt_MA_temp\u001B[0m\u001B[1;33m[\u001B[0m\u001B[1;36m0\u001B[0m\u001B[1;33m:\u001B[0m\u001B[1;36m3\u001B[0m\u001B[1;33m:\u001B[0m\u001B[1;36m2\u001B[0m\u001B[1;33m,\u001B[0m \u001B[1;33m...\u001B[0m\u001B[1;33m,\u001B[0m \u001B[1;36m0\u001B[0m\u001B[1;33m]\u001B[0m\u001B[1;33m\u001B[0m\u001B[1;33m\u001B[0m\u001B[0m\n\u001B[0;32m      6\u001B[0m \u001B[0mRight_side\u001B[0m \u001B[1;33m=\u001B[0m \u001B[0mmbrt_MA_temp\u001B[0m\u001B[1;33m[\u001B[0m\u001B[1;36m1\u001B[0m\u001B[1;33m:\u001B[0m\u001B[1;36m4\u001B[0m\u001B[1;33m:\u001B[0m\u001B[1;36m2\u001B[0m\u001B[1;33m,\u001B[0m \u001B[1;33m...\u001B[0m\u001B[1;33m,\u001B[0m \u001B[1;36m0\u001B[0m\u001B[1;33m]\u001B[0m\u001B[1;33m\u001B[0m\u001B[1;33m\u001B[0m\u001B[0m\n",
      "\u001B[1;31mNameError\u001B[0m: name 'mbrt_MA_all_first' is not defined"
     ]
    }
   ],
   "source": [
    "# mbrt_MA_temp = np.rollaxis(tfr_arr, 2).reshape(4, 2, 2, 4, 3, 15, 20, 2000)\n",
    "# Left_side = (mbrt_MA_temp[0:3:2, ..., 1000:1500]).mean(axis=-1)\n",
    "# Right_side = (mbrt_MA_temp[1:4:2, ..., 1000:1500]).mean(axis=-1)\n",
    "mbrt_MA_temp = np.rollaxis(mbrt_MA_all_first, 2).reshape(4, 2, 2, 4, 3, 15, 20, 2)\n",
    "Left_side = mbrt_MA_temp[0:3:2, ..., 0]\n",
    "Right_side = mbrt_MA_temp[1:4:2, ..., 0]\n",
    "\n",
    "Prop = Right_side/Left_side\n",
    "# Prop = 1/Prop\n",
    "\n",
    "data_mask = Left_side.mask\n",
    "\n",
    "threshold = 0.05\n",
    "\n",
    "contralateral_mask = (Prop - 1) < -threshold\n",
    "contralateral_mask.mask = data_mask\n",
    "\n",
    "ipsilateral_mask = (Prop - 1) > threshold\n",
    "ipsilateral_mask.mask = data_mask\n",
    "\n",
    "bilateral_mask = (-threshold <= (Prop - 1)) & ((Prop - 1) <= threshold)\n",
    "bilateral_mask.mask = data_mask\n",
    "\n",
    "Left_side_mask = ~np.isnan(Left_side)\n",
    "Right_side_mask = ~np.isnan(Right_side)\n",
    "\n",
    "\n",
    "bi_start = (Left_side_mask & Right_side_mask)\n",
    "bi = (bi_start & bilateral_mask)\n",
    "contr = ~(~Left_side_mask | Right_side_mask) | (bi_start & contralateral_mask)\n",
    "ipsi = ~(~Right_side_mask | Left_side_mask) | (bi_start & ipsilateral_mask)\n",
    "\n",
    "none = ~(bi | contr | ipsi)\n",
    "\n",
    "\n",
    "bi = bi.astype(float)\n",
    "contr = contr.astype(float)\n",
    "ipsi = ipsi.astype(float)\n",
    "none = none.astype(float)\n",
    "# bi_contr_prop = (bi + contr)/ma.stack([bi, contr, ipsi], axis=-1).sum(axis=-1)\n",
    "\n",
    "erd_cases = np.swapaxes(ma.stack([bi, contr, ipsi, none], axis=-1), 5, 6)\n",
    "variables = ['Bilateral', 'Contralateral', 'Ipsilateral', 'None']\n",
    "facs = {'Zone': ['Motor', 'Premotor'], 'Day': ['1', '2'], 'Hand': ['Right','Left'], 'Session': ['Im1', 'Im2', 'Real', 'Quasi'], 'Band':['Theta', 'Alpha', 'Beta'], 'Trial':range(1, 21)}\n",
    "\n",
    "\n",
    "erd_table = get_MANOVA_table(erd_cases, 6, facs, variables)\n",
    "erd_table['Bi + Contr Proportion'] = (erd_table['Bilateral'] + erd_table['Contralateral'])/(erd_table['Bilateral'] + erd_table['Contralateral'] + erd_table['Ipsilateral'])\n",
    "erd_agg = erd_table.groupby(['Zone', 'Hand', 'Session', 'Band']).mean().query('Band == \"Alpha\"')\n",
    "# erd_agg['Bi + Contr Proportion'] = (erd_agg['Bilateral'] + erd_agg['Contralateral'])/(erd_agg['Bilateral'] + erd_agg['Contralateral'] + erd_agg['Ipsilateral'])\n",
    "erd_agg *= 100\n",
    "erd_agg = erd_agg.round()\n",
    "erd_agg = erd_agg.droplevel(3)\n",
    "erd_agg = erd_agg.reorder_levels([1, 0, 2])\n",
    "erd_agg = erd_agg.sort_index()\n",
    "erd_agg\n",
    "# erd_cases = np.rollaxis(erd_cases, 0, len(erd_cases.shape))"
   ]
  },
  {
   "cell_type": "code",
   "execution_count": 60,
   "id": "third-defeat",
   "metadata": {
    "execution": {
     "iopub.execute_input": "2021-09-26T21:34:01.149299Z",
     "iopub.status.busy": "2021-09-26T21:34:01.148302Z",
     "iopub.status.idle": "2021-09-26T21:34:01.722113Z",
     "shell.execute_reply": "2021-09-26T21:34:01.721113Z",
     "shell.execute_reply.started": "2021-09-26T21:34:01.149299Z"
    },
    "tags": []
   },
   "outputs": [
    {
     "data": {
      "image/png": "[encoded data removed]",
      "text/plain": [
       "<Figure size 432x288 with 1 Axes>"
      ]
     },
     "metadata": {
      "needs_background": "light"
     },
     "output_type": "display_data"
    }
   ],
   "source": [
    "plot_jasp(erd_table.query('Session == \"Real\"')[['Subject', 'Zone', 'Day', 'Hand', 'Session', 'Band', 'Trial',\n",
    "       'Bi + Contr Proportion']], 'Hand', line='Zone');"
   ]
  },
  {
   "cell_type": "code",
   "execution_count": 210,
   "id": "little-passing",
   "metadata": {
    "collapsed": true,
    "execution": {
     "iopub.execute_input": "2021-08-23T11:11:39.964802Z",
     "iopub.status.busy": "2021-08-23T11:11:39.964802Z",
     "iopub.status.idle": "2021-08-23T11:11:40.361499Z",
     "shell.execute_reply": "2021-08-23T11:11:40.360435Z",
     "shell.execute_reply.started": "2021-08-23T11:11:39.964802Z"
    },
    "jupyter": {
     "outputs_hidden": true,
     "source_hidden": true
    },
    "tags": []
   },
   "outputs": [
    {
     "data": {
      "text/html": [
       "<div>\n",
       "<style scoped>\n",
       "    .dataframe tbody tr th:only-of-type {\n",
       "        vertical-align: middle;\n",
       "    }\n",
       "\n",
       "    .dataframe tbody tr th {\n",
       "        vertical-align: top;\n",
       "    }\n",
       "\n",
       "    .dataframe thead th {\n",
       "        text-align: right;\n",
       "    }\n",
       "</style>\n",
       "<table border=\"1\" class=\"dataframe\">\n",
       "  <thead>\n",
       "    <tr style=\"text-align: right;\">\n",
       "      <th></th>\n",
       "      <th></th>\n",
       "      <th></th>\n",
       "      <th>Bilateral</th>\n",
       "      <th>Contralateral</th>\n",
       "      <th>Ipsilateral</th>\n",
       "      <th>None</th>\n",
       "      <th>Bi + Contr Proportion</th>\n",
       "    </tr>\n",
       "    <tr>\n",
       "      <th>Group</th>\n",
       "      <th>Zone</th>\n",
       "      <th>Hand</th>\n",
       "      <th></th>\n",
       "      <th></th>\n",
       "      <th></th>\n",
       "      <th></th>\n",
       "      <th></th>\n",
       "    </tr>\n",
       "  </thead>\n",
       "  <tbody>\n",
       "    <tr>\n",
       "      <th rowspan=\"4\" valign=\"top\">EA</th>\n",
       "      <th rowspan=\"2\" valign=\"top\">Motor</th>\n",
       "      <th>Left</th>\n",
       "      <td>55.0</td>\n",
       "      <td>24.0</td>\n",
       "      <td>21.0</td>\n",
       "      <td>0.0</td>\n",
       "      <td>79.0</td>\n",
       "    </tr>\n",
       "    <tr>\n",
       "      <th>Right</th>\n",
       "      <td>53.0</td>\n",
       "      <td>22.0</td>\n",
       "      <td>25.0</td>\n",
       "      <td>0.0</td>\n",
       "      <td>75.0</td>\n",
       "    </tr>\n",
       "    <tr>\n",
       "      <th rowspan=\"2\" valign=\"top\">Premotor</th>\n",
       "      <th>Left</th>\n",
       "      <td>47.0</td>\n",
       "      <td>23.0</td>\n",
       "      <td>30.0</td>\n",
       "      <td>0.0</td>\n",
       "      <td>70.0</td>\n",
       "    </tr>\n",
       "    <tr>\n",
       "      <th>Right</th>\n",
       "      <td>44.0</td>\n",
       "      <td>25.0</td>\n",
       "      <td>32.0</td>\n",
       "      <td>0.0</td>\n",
       "      <td>68.0</td>\n",
       "    </tr>\n",
       "    <tr>\n",
       "      <th rowspan=\"4\" valign=\"top\">YA</th>\n",
       "      <th rowspan=\"2\" valign=\"top\">Motor</th>\n",
       "      <th>Left</th>\n",
       "      <td>59.0</td>\n",
       "      <td>22.0</td>\n",
       "      <td>18.0</td>\n",
       "      <td>0.0</td>\n",
       "      <td>82.0</td>\n",
       "    </tr>\n",
       "    <tr>\n",
       "      <th>Right</th>\n",
       "      <td>61.0</td>\n",
       "      <td>19.0</td>\n",
       "      <td>20.0</td>\n",
       "      <td>0.0</td>\n",
       "      <td>80.0</td>\n",
       "    </tr>\n",
       "    <tr>\n",
       "      <th rowspan=\"2\" valign=\"top\">Premotor</th>\n",
       "      <th>Left</th>\n",
       "      <td>50.0</td>\n",
       "      <td>22.0</td>\n",
       "      <td>28.0</td>\n",
       "      <td>0.0</td>\n",
       "      <td>72.0</td>\n",
       "    </tr>\n",
       "    <tr>\n",
       "      <th>Right</th>\n",
       "      <td>49.0</td>\n",
       "      <td>25.0</td>\n",
       "      <td>26.0</td>\n",
       "      <td>0.0</td>\n",
       "      <td>74.0</td>\n",
       "    </tr>\n",
       "  </tbody>\n",
       "</table>\n",
       "</div>"
      ],
      "text/plain": [
       "                      Bilateral  Contralateral  Ipsilateral  None  \\\n",
       "Group Zone     Hand                                                 \n",
       "EA    Motor    Left        55.0           24.0         21.0   0.0   \n",
       "               Right       53.0           22.0         25.0   0.0   \n",
       "      Premotor Left        47.0           23.0         30.0   0.0   \n",
       "               Right       44.0           25.0         32.0   0.0   \n",
       "YA    Motor    Left        59.0           22.0         18.0   0.0   \n",
       "               Right       61.0           19.0         20.0   0.0   \n",
       "      Premotor Left        50.0           22.0         28.0   0.0   \n",
       "               Right       49.0           25.0         26.0   0.0   \n",
       "\n",
       "                      Bi + Contr Proportion  \n",
       "Group Zone     Hand                          \n",
       "EA    Motor    Left                    79.0  \n",
       "               Right                   75.0  \n",
       "      Premotor Left                    70.0  \n",
       "               Right                   68.0  \n",
       "YA    Motor    Left                    82.0  \n",
       "               Right                   80.0  \n",
       "      Premotor Left                    72.0  \n",
       "               Right                   74.0  "
      ]
     },
     "execution_count": 210,
     "metadata": {},
     "output_type": "execute_result"
    }
   ],
   "source": [
    "# mbrt_MA_temp = np.rollaxis(tfr_arr, 2).reshape(4, 2, 2, 4, 3, 15, 20, 2000)\n",
    "# Left_side = np.min(tfr_data[0:3:2, ...], axis=-1)\n",
    "# Right_side = np.min(tfr_data[1:4:2, ...], axis=-1)\n",
    "# mbrt_MA_temp = np.rollaxis(mbrt_MA_all, 2).reshape(4, 2, 2, 4, 3, 15, 20, 2)\n",
    "Left_side = mbrt_MA_all[0:3:2, ..., 0]\n",
    "Right_side = mbrt_MA_all[1:4:2, ..., 0]\n",
    "\n",
    "Prop = Right_side/Left_side\n",
    "Prop = 1/Prop\n",
    "\n",
    "data_mask = Left_side.mask\n",
    "\n",
    "threshold = 0.1\n",
    "\n",
    "contralateral_mask = (Prop - 1) < -threshold\n",
    "contralateral_mask.mask = data_mask\n",
    "\n",
    "ipsilateral_mask = (Prop - 1) > threshold\n",
    "ipsilateral_mask.mask = data_mask\n",
    "\n",
    "bilateral_mask = (-threshold <= (Prop - 1)) & ((Prop - 1) <= threshold)\n",
    "bilateral_mask.mask = data_mask\n",
    "\n",
    "Left_side_mask = ~np.isnan(Left_side)\n",
    "Right_side_mask = ~np.isnan(Right_side)\n",
    "\n",
    "\n",
    "bi_start = (Left_side_mask & Right_side_mask)\n",
    "bi = (bi_start & bilateral_mask)\n",
    "contr = ~(~Left_side_mask | Right_side_mask) | (bi_start & contralateral_mask)\n",
    "ipsi = ~(~Right_side_mask | Left_side_mask) | (bi_start & ipsilateral_mask)\n",
    "\n",
    "none = ~(bi | contr | ipsi)\n",
    "\n",
    "\n",
    "bi = bi.astype(float)\n",
    "contr = contr.astype(float)\n",
    "ipsi = ipsi.astype(float)\n",
    "none = none.astype(float)\n",
    "# bi_contr_prop = (bi + contr)/ma.stack([bi, contr, ipsi], axis=-1).sum(axis=-1)\n",
    "\n",
    "erd_cases = np.swapaxes(ma.stack([bi, contr, ipsi, none], axis=-1), -2, -3)\n",
    "variables = ['Bilateral', 'Contralateral', 'Ipsilateral', 'None']\n",
    "facs = {'Zone': ['Motor', 'Premotor'], 'Group': ['EA', 'YA'], 'Hand': ['Right','Left'], 'Band':['Theta', 'Alpha', 'Beta'], 'Trial':range(1, 31)}\n",
    "\n",
    "\n",
    "erd_table = get_MANOVA_table(erd_cases, 5, facs, variables)\n",
    "erd_table['Bi + Contr Proportion'] = (erd_table['Bilateral'] + erd_table['Contralateral'])/(erd_table['Bilateral'] + erd_table['Contralateral'] + erd_table['Ipsilateral'])\n",
    "erd_agg = erd_table.groupby(['Zone', 'Group', 'Hand', 'Band']).mean().query('Band == \"Alpha\"')\n",
    "# erd_agg['Bi + Contr Proportion'] = (erd_agg['Bilateral'] + erd_agg['Contralateral'])/(erd_agg['Bilateral'] + erd_agg['Contralateral'] + erd_agg['Ipsilateral'])\n",
    "erd_agg *= 100\n",
    "erd_agg = erd_agg.round()\n",
    "erd_agg = erd_agg.droplevel(3)\n",
    "erd_agg = erd_agg.reorder_levels([1, 0, 2])\n",
    "erd_agg = erd_agg.sort_index()\n",
    "erd_agg\n",
    "# erd_cases = np.rollaxis(erd_cases, 0, len(erd_cases.shape))"
   ]
  },
  {
   "cell_type": "code",
   "execution_count": 689,
   "id": "meaningful-stretch",
   "metadata": {
    "collapsed": true,
    "execution": {
     "iopub.execute_input": "2021-08-20T11:30:46.558627Z",
     "iopub.status.busy": "2021-08-20T11:30:46.557626Z",
     "iopub.status.idle": "2021-08-20T11:30:46.955494Z",
     "shell.execute_reply": "2021-08-20T11:30:46.953579Z",
     "shell.execute_reply.started": "2021-08-20T11:30:46.558627Z"
    },
    "jupyter": {
     "outputs_hidden": true,
     "source_hidden": true
    },
    "tags": []
   },
   "outputs": [
    {
     "ename": "ValueError",
     "evalue": "All samples mush have the same size",
     "output_type": "error",
     "traceback": [
      "\u001B[1;31m---------------------------------------------------------------------------\u001B[0m",
      "\u001B[1;31mValueError\u001B[0m                                Traceback (most recent call last)",
      "\u001B[1;32m<ipython-input-689-ca6c79ec4f40>\u001B[0m in \u001B[0;36m<module>\u001B[1;34m\u001B[0m\n\u001B[0;32m     17\u001B[0m T_obs, clusters, cluster_p_values, H0  = mne.stats.permutation_cluster_test([b, a], n_permutations=10000,\n\u001B[0;32m     18\u001B[0m                          \u001B[0mthreshold\u001B[0m\u001B[1;33m=\u001B[0m\u001B[0mf_thresh\u001B[0m\u001B[1;33m,\u001B[0m \u001B[0mtail\u001B[0m\u001B[1;33m=\u001B[0m\u001B[1;33m-\u001B[0m\u001B[1;36m1\u001B[0m\u001B[1;33m,\u001B[0m \u001B[0mn_jobs\u001B[0m\u001B[1;33m=\u001B[0m\u001B[1;36m10\u001B[0m\u001B[1;33m,\u001B[0m\u001B[1;33m\u001B[0m\u001B[1;33m\u001B[0m\u001B[0m\n\u001B[1;32m---> 19\u001B[1;33m                          out_type='mask', stat_fun=stat_fun)\n\u001B[0m\u001B[0;32m     20\u001B[0m \u001B[0msortinds\u001B[0m \u001B[1;33m=\u001B[0m \u001B[0mnp\u001B[0m\u001B[1;33m.\u001B[0m\u001B[0margsort\u001B[0m\u001B[1;33m(\u001B[0m\u001B[0mcluster_p_values\u001B[0m\u001B[1;33m)\u001B[0m\u001B[1;33m\u001B[0m\u001B[1;33m\u001B[0m\u001B[0m\n\u001B[0;32m     21\u001B[0m \u001B[0mcluster_p_values\u001B[0m \u001B[1;33m=\u001B[0m \u001B[0mcluster_p_values\u001B[0m\u001B[1;33m[\u001B[0m\u001B[0msortinds\u001B[0m\u001B[1;33m]\u001B[0m\u001B[1;33m\u001B[0m\u001B[1;33m\u001B[0m\u001B[0m\n",
      "\u001B[1;32m<decorator-gen-270>\u001B[0m in \u001B[0;36mpermutation_cluster_test\u001B[1;34m(X, threshold, n_permutations, tail, stat_fun, adjacency, n_jobs, seed, max_step, exclude, step_down_p, t_power, out_type, check_disjoint, buffer_size, verbose)\u001B[0m\n",
      "\u001B[1;32mc:\\users\\nct\\appdata\\local\\programs\\python\\python36\\lib\\site-packages\\mne\\stats\\cluster_level.py\u001B[0m in \u001B[0;36mpermutation_cluster_test\u001B[1;34m(X, threshold, n_permutations, tail, stat_fun, adjacency, n_jobs, seed, max_step, exclude, step_down_p, t_power, out_type, check_disjoint, buffer_size, verbose)\u001B[0m\n\u001B[0;32m   1114\u001B[0m         \u001B[0mmax_step\u001B[0m\u001B[1;33m=\u001B[0m\u001B[0mmax_step\u001B[0m\u001B[1;33m,\u001B[0m \u001B[0mexclude\u001B[0m\u001B[1;33m=\u001B[0m\u001B[0mexclude\u001B[0m\u001B[1;33m,\u001B[0m \u001B[0mstep_down_p\u001B[0m\u001B[1;33m=\u001B[0m\u001B[0mstep_down_p\u001B[0m\u001B[1;33m,\u001B[0m\u001B[1;33m\u001B[0m\u001B[1;33m\u001B[0m\u001B[0m\n\u001B[0;32m   1115\u001B[0m         \u001B[0mt_power\u001B[0m\u001B[1;33m=\u001B[0m\u001B[0mt_power\u001B[0m\u001B[1;33m,\u001B[0m \u001B[0mout_type\u001B[0m\u001B[1;33m=\u001B[0m\u001B[0mout_type\u001B[0m\u001B[1;33m,\u001B[0m \u001B[0mcheck_disjoint\u001B[0m\u001B[1;33m=\u001B[0m\u001B[0mcheck_disjoint\u001B[0m\u001B[1;33m,\u001B[0m\u001B[1;33m\u001B[0m\u001B[1;33m\u001B[0m\u001B[0m\n\u001B[1;32m-> 1116\u001B[1;33m         buffer_size=buffer_size)\n\u001B[0m\u001B[0;32m   1117\u001B[0m \u001B[1;33m\u001B[0m\u001B[0m\n\u001B[0;32m   1118\u001B[0m \u001B[1;33m\u001B[0m\u001B[0m\n",
      "\u001B[1;32mc:\\users\\nct\\appdata\\local\\programs\\python\\python36\\lib\\site-packages\\mne\\stats\\cluster_level.py\u001B[0m in \u001B[0;36m_permutation_cluster_test\u001B[1;34m(X, threshold, n_permutations, tail, stat_fun, adjacency, n_jobs, seed, max_step, exclude, step_down_p, t_power, out_type, check_disjoint, buffer_size)\u001B[0m\n\u001B[0;32m    846\u001B[0m     \u001B[1;32mfor\u001B[0m \u001B[0mx\u001B[0m \u001B[1;32min\u001B[0m \u001B[0mX\u001B[0m\u001B[1;33m:\u001B[0m\u001B[1;33m\u001B[0m\u001B[1;33m\u001B[0m\u001B[0m\n\u001B[0;32m    847\u001B[0m         \u001B[1;32mif\u001B[0m \u001B[0mx\u001B[0m\u001B[1;33m.\u001B[0m\u001B[0mshape\u001B[0m\u001B[1;33m[\u001B[0m\u001B[1;36m1\u001B[0m\u001B[1;33m:\u001B[0m\u001B[1;33m]\u001B[0m \u001B[1;33m!=\u001B[0m \u001B[0msample_shape\u001B[0m\u001B[1;33m:\u001B[0m\u001B[1;33m\u001B[0m\u001B[1;33m\u001B[0m\u001B[0m\n\u001B[1;32m--> 848\u001B[1;33m             \u001B[1;32mraise\u001B[0m \u001B[0mValueError\u001B[0m\u001B[1;33m(\u001B[0m\u001B[1;34m'All samples mush have the same size'\u001B[0m\u001B[1;33m)\u001B[0m\u001B[1;33m\u001B[0m\u001B[1;33m\u001B[0m\u001B[0m\n\u001B[0m\u001B[0;32m    849\u001B[0m \u001B[1;33m\u001B[0m\u001B[0m\n\u001B[0;32m    850\u001B[0m     \u001B[1;31m# flatten the last dimensions in case the data is high dimensional\u001B[0m\u001B[1;33m\u001B[0m\u001B[1;33m\u001B[0m\u001B[1;33m\u001B[0m\u001B[0m\n",
      "\u001B[1;31mValueError\u001B[0m: All samples mush have the same size"
     ]
    }
   ],
   "source": [
    "from scipy import stats\n",
    "\n",
    "a = tfr_data[0, 0, 0, 1, sub, :, :375]\n",
    "\n",
    "b = tfr_data[0, 0, 0, 1, sub, :, 375:375 + 375]\n",
    "\n",
    "f_thresh = stats.t.ppf(0.025, 29)\n",
    "\n",
    "mean = tfr_data[0, 0, 0, 1, sub, ...].mean(axis=-1).min(axis=-1)\n",
    "\n",
    "def stat_fun(*args):\n",
    "#     print(args[0].shape)\n",
    "    temp = stats.ttest_rel(*args, axis=0).statistic\n",
    "#     print(temp.shape)\n",
    "    return temp\n",
    "sub = 0\n",
    "a = tfr_data[0, 0, 0, 1, sub, :, :375]\n",
    "\n",
    "b = tfr_data[0, 0, 0, 1, sub, :, 375:]\n",
    "\n",
    "T_obs, clusters, cluster_p_values, H0  = mne.stats.permutation_cluster_test([b, a], n_permutations=10000,\n",
    "                         threshold=f_thresh, tail=-1, n_jobs=10,\n",
    "                         out_type='mask', stat_fun=stat_fun)\n",
    "sortinds = np.argsort(cluster_p_values)\n",
    "cluster_p_values = cluster_p_values[sortinds]\n",
    "clusters = np.array(clusters)[sortinds]\n",
    "print(cluster_p_values)"
   ]
  },
  {
   "cell_type": "code",
   "execution_count": 405,
   "id": "bulgarian-sailing",
   "metadata": {
    "collapsed": true,
    "execution": {
     "iopub.execute_input": "2021-08-23T16:15:55.115888Z",
     "iopub.status.busy": "2021-08-23T16:15:55.114889Z",
     "iopub.status.idle": "2021-08-23T16:16:10.049588Z",
     "shell.execute_reply": "2021-08-23T16:16:10.048610Z",
     "shell.execute_reply.started": "2021-08-23T16:15:55.115888Z"
    },
    "jupyter": {
     "outputs_hidden": true,
     "source_hidden": true
    },
    "tags": []
   },
   "outputs": [
    {
     "name": "stdout",
     "output_type": "stream",
     "text": [
      "(2, 2, 2, 4, 3, 15, 20, 1)\n",
      "(4, 2, 2, 4, 3, 15, 20, 2000)\n"
     ]
    }
   ],
   "source": [
    "# times = ma.min(ma.stack( [mbrt_MA_temp[0:3:2, ..., 1], mbrt_MA_temp[1:4:2, ..., 1]], axis=-1), axis=-1)\n",
    "\n",
    "times = ma.max(ma.stack( [mbrt_MA_temp[0:3:2, ..., 1], mbrt_MA_temp[1:4:2, ..., 1]], axis=-1), axis=-1, keepdims=True)\n",
    "print(times.shape)\n",
    "times = np.tile(times, [2] + [1]*(times.ndim - 2) + [2000])\n",
    "times[[0, 1, 2, 3]] = times[[0, 2, 1, 3]]\n",
    "print(times.shape)\n",
    "times_tile = np.tile(time.reshape( *([1]*(times.ndim - 1) + [-1]) ), list(times.shape[:-1]) + [1])\n",
    "erd_mask = (times == times_tile).reshape(-1, 2000)\n",
    "for i in range(erd_mask.shape[0]):\n",
    "    if np.all(erd_mask[i].mask):\n",
    "        erd_mask[i].mask &= False\n",
    "        erd_mask[i] &= False\n",
    "        erd_mask[i][0] = True\n",
    "erd_mask = erd_mask.reshape(*times.shape)\n",
    "tfr_arr_norm = np.rollaxis(tfr_arr, 2, 6).reshape(-1, 4000)\n",
    "tfr_arr_norm_min = tfr_arr_norm.min(axis=-1, keepdims=True)\n",
    "tfr_arr_norm_max = tfr_arr_norm.max(axis=-1, keepdims=True)\n",
    "tfr_arr_norm = (tfr_arr_norm - tfr_arr_norm_min)/(tfr_arr_norm_max - tfr_arr_norm_min)\n",
    "tfr_arr_norm = np.rollaxis(tfr_arr_norm.reshape(2, 2, 4, 3, 15, 20, 4, 2000), 6)\n",
    "mbrt = tfr_arr_norm[erd_mask].reshape(*times.shape[:-1])\n",
    "# mbrt = tfr_arr.reshape(2, 2, )[erd_mask]"
   ]
  },
  {
   "cell_type": "code",
   "execution_count": 33,
   "id": "floral-portfolio",
   "metadata": {
    "collapsed": true,
    "execution": {
     "iopub.execute_input": "2021-09-26T20:57:19.967339Z",
     "iopub.status.busy": "2021-09-26T20:57:19.966335Z",
     "iopub.status.idle": "2021-09-26T20:57:20.439059Z",
     "shell.execute_reply": "2021-09-26T20:57:20.438046Z",
     "shell.execute_reply.started": "2021-09-26T20:57:19.967339Z"
    },
    "jupyter": {
     "outputs_hidden": true,
     "source_hidden": true
    },
    "tags": []
   },
   "outputs": [
    {
     "ename": "NameError",
     "evalue": "name 'mbrt' is not defined",
     "output_type": "error",
     "traceback": [
      "\u001B[1;31m---------------------------------------------------------------------------\u001B[0m",
      "\u001B[1;31mNameError\u001B[0m                                 Traceback (most recent call last)",
      "\u001B[1;32m<ipython-input-33-8b0c9cb8f5ad>\u001B[0m in \u001B[0;36m<module>\u001B[1;34m\u001B[0m\n\u001B[0;32m      3\u001B[0m \u001B[1;31m# times = np.tile(times, [1]*times.ndims + [2000])\u001B[0m\u001B[1;33m\u001B[0m\u001B[1;33m\u001B[0m\u001B[1;33m\u001B[0m\u001B[0m\n\u001B[0;32m      4\u001B[0m \u001B[1;31m# times_tile = np.tile(time.reshape( *([1]*times.ndims + [-1]) ), list(times.shape[:-1]) + [1])\u001B[0m\u001B[1;33m\u001B[0m\u001B[1;33m\u001B[0m\u001B[1;33m\u001B[0m\u001B[0m\n\u001B[1;32m----> 5\u001B[1;33m \u001B[0mLeft_side\u001B[0m \u001B[1;33m=\u001B[0m \u001B[0mmbrt\u001B[0m\u001B[1;33m[\u001B[0m\u001B[1;36m0\u001B[0m\u001B[1;33m:\u001B[0m\u001B[1;36m3\u001B[0m\u001B[1;33m:\u001B[0m\u001B[1;36m2\u001B[0m\u001B[1;33m,\u001B[0m \u001B[1;33m...\u001B[0m\u001B[1;33m]\u001B[0m\u001B[1;33m\u001B[0m\u001B[1;33m\u001B[0m\u001B[0m\n\u001B[0m\u001B[0;32m      6\u001B[0m \u001B[0mRight_side\u001B[0m \u001B[1;33m=\u001B[0m \u001B[0mmbrt\u001B[0m\u001B[1;33m[\u001B[0m\u001B[1;36m1\u001B[0m\u001B[1;33m:\u001B[0m\u001B[1;36m4\u001B[0m\u001B[1;33m:\u001B[0m\u001B[1;36m2\u001B[0m\u001B[1;33m,\u001B[0m \u001B[1;33m...\u001B[0m\u001B[1;33m]\u001B[0m\u001B[1;33m\u001B[0m\u001B[1;33m\u001B[0m\u001B[0m\n\u001B[0;32m      7\u001B[0m \u001B[1;33m\u001B[0m\u001B[0m\n",
      "\u001B[1;31mNameError\u001B[0m: name 'mbrt' is not defined"
     ]
    }
   ],
   "source": [
    "# mbrt_MA_temp = np.rollaxis(mbrt_MA_all_first, 2).reshape(4, 2, 2, 4, 3, 15, 20, 2)\n",
    "# times = ma.max(ma.stack( [mbrt_MA_temp[0:3:2, ..., 1], mbrt_MA_temp[1:4:2, ..., 1]], axis=-1), axis=-1)\n",
    "# times = np.tile(times, [1]*times.ndims + [2000])\n",
    "# times_tile = np.tile(time.reshape( *([1]*times.ndims + [-1]) ), list(times.shape[:-1]) + [1])\n",
    "Left_side = mbrt[0:3:2, ...]\n",
    "Right_side = mbrt[1:4:2, ...]\n",
    "\n",
    "\n",
    "Prop = Left_side - Right_side\n",
    "Prop = -Prop\n",
    "\n",
    "data_mask = Left_side.mask\n",
    "\n",
    "threshold = 0.01\n",
    "\n",
    "contralateral_mask = Prop > threshold\n",
    "contralateral_mask.mask = data_mask\n",
    "\n",
    "ipsilateral_mask = Prop < -threshold\n",
    "ipsilateral_mask.mask = data_mask\n",
    "\n",
    "bilateral_mask = (-threshold <= Prop) & ( Prop <= threshold)\n",
    "bilateral_mask.mask = data_mask\n",
    "\n",
    "# Left_side_mask = ~np.isnan(Left_side)\n",
    "# Right_side_mask = ~np.isnan(Right_side)\n",
    "\n",
    "bi = bilateral_mask\n",
    "contr = contralateral_mask\n",
    "ipsi = ipsilateral_mask\n",
    "\n",
    "# none = ~(bi | contr | ipsi)\n",
    "\n",
    "bi = bi.astype(float)\n",
    "contr = contr.astype(float)\n",
    "ipsi = ipsi.astype(float)\n",
    "none = none.astype(float)\n",
    "\n",
    "erd_cases = np.swapaxes(ma.stack([contr, ipsi, bi], axis=-1), 5, 6)\n",
    "variables = ['Contralateral', 'Ipsilateral', 'Bilateral']\n",
    "facs = {'Zone': ['Motor', 'Premotor'], 'Day': ['1', '2'], 'Hand': ['Right','Left'], 'Session': ['Im1', 'Im2', 'Real', 'Quasi'], 'Band':['Theta', 'Alpha', 'Beta'], 'Trial':range(1, 21)}\n",
    "\n",
    "\n",
    "erd_table = get_MANOVA_table(erd_cases, 6, facs, variables)\n",
    "erd_table['Bi + Contr Proportion'] = (erd_table['Contralateral'])/(erd_table['Contralateral'] + erd_table['Ipsilateral'])\n",
    "erd_agg = erd_table.groupby(['Zone', 'Hand', 'Session', 'Band']).mean().query('Band == \"Alpha\"')\n",
    "# erd_agg['Bi + Contr Proportion'] = (erd_agg['Bilateral'] + erd_agg['Contralateral'])/(erd_agg['Bilateral'] + erd_agg['Contralateral'] + erd_agg['Ipsilateral'])\n",
    "erd_agg *= 100\n",
    "erd_agg = erd_agg.round()\n",
    "erd_agg = erd_agg.droplevel(3)\n",
    "erd_agg = erd_agg.reorder_levels([1, 0, 2])\n",
    "erd_agg = erd_agg.sort_index()\n",
    "erd_agg"
   ]
  },
  {
   "cell_type": "code",
   "execution_count": 46,
   "id": "a528c654-9f5e-4ca8-8d99-7af4eb549289",
   "metadata": {
    "execution": {
     "iopub.execute_input": "2021-12-08T07:59:16.619062Z",
     "iopub.status.busy": "2021-12-08T07:59:16.619062Z",
     "iopub.status.idle": "2021-12-08T07:59:16.987954Z",
     "shell.execute_reply": "2021-12-08T07:59:16.987954Z",
     "shell.execute_reply.started": "2021-12-08T07:59:16.619062Z"
    }
   },
   "outputs": [
    {
     "data": {
      "text/plain": [
       "(2, 8, 4, 3, 15, 20, 2)"
      ]
     },
     "execution_count": 46,
     "metadata": {},
     "output_type": "execute_result"
    }
   ],
   "source": [
    "mbrt_KDE_all_first.shape"
   ]
  },
  {
   "cell_type": "code",
   "execution_count": 63,
   "id": "wicked-laptop",
   "metadata": {
    "execution": {
     "iopub.execute_input": "2021-12-09T00:49:10.639478Z",
     "iopub.status.busy": "2021-12-09T00:49:10.639478Z",
     "iopub.status.idle": "2021-12-09T00:49:11.708134Z",
     "shell.execute_reply": "2021-12-09T00:49:11.707135Z",
     "shell.execute_reply.started": "2021-12-09T00:49:10.639478Z"
    },
    "tags": []
   },
   "outputs": [
    {
     "data": {
      "text/html": [
       "<div>\n",
       "<style scoped>\n",
       "    .dataframe tbody tr th:only-of-type {\n",
       "        vertical-align: middle;\n",
       "    }\n",
       "\n",
       "    .dataframe tbody tr th {\n",
       "        vertical-align: top;\n",
       "    }\n",
       "\n",
       "    .dataframe thead th {\n",
       "        text-align: right;\n",
       "    }\n",
       "</style>\n",
       "<table border=\"1\" class=\"dataframe\">\n",
       "  <thead>\n",
       "    <tr style=\"text-align: right;\">\n",
       "      <th></th>\n",
       "      <th></th>\n",
       "      <th></th>\n",
       "      <th>Bilateral</th>\n",
       "      <th>Contralateral</th>\n",
       "      <th>Ipsilateral</th>\n",
       "      <th>None</th>\n",
       "      <th>Bi + Contr Proportion</th>\n",
       "    </tr>\n",
       "    <tr>\n",
       "      <th>Hand</th>\n",
       "      <th>Zone</th>\n",
       "      <th>Session</th>\n",
       "      <th></th>\n",
       "      <th></th>\n",
       "      <th></th>\n",
       "      <th></th>\n",
       "      <th></th>\n",
       "    </tr>\n",
       "  </thead>\n",
       "  <tbody>\n",
       "    <tr>\n",
       "      <th rowspan=\"8\" valign=\"top\">Left</th>\n",
       "      <th rowspan=\"4\" valign=\"top\">Motor</th>\n",
       "      <th>Im1</th>\n",
       "      <td>52.0</td>\n",
       "      <td>25.0</td>\n",
       "      <td>25.0</td>\n",
       "      <td>1.0</td>\n",
       "      <td>84.0</td>\n",
       "    </tr>\n",
       "    <tr>\n",
       "      <th>Im2</th>\n",
       "      <td>50.0</td>\n",
       "      <td>25.0</td>\n",
       "      <td>25.0</td>\n",
       "      <td>0.0</td>\n",
       "      <td>83.0</td>\n",
       "    </tr>\n",
       "    <tr>\n",
       "      <th>Quasi</th>\n",
       "      <td>54.0</td>\n",
       "      <td>25.0</td>\n",
       "      <td>25.0</td>\n",
       "      <td>1.0</td>\n",
       "      <td>84.0</td>\n",
       "    </tr>\n",
       "    <tr>\n",
       "      <th>Real</th>\n",
       "      <td>61.0</td>\n",
       "      <td>24.0</td>\n",
       "      <td>24.0</td>\n",
       "      <td>0.0</td>\n",
       "      <td>86.0</td>\n",
       "    </tr>\n",
       "    <tr>\n",
       "      <th rowspan=\"4\" valign=\"top\">Premotor</th>\n",
       "      <th>Im1</th>\n",
       "      <td>54.0</td>\n",
       "      <td>30.0</td>\n",
       "      <td>30.0</td>\n",
       "      <td>1.0</td>\n",
       "      <td>82.0</td>\n",
       "    </tr>\n",
       "    <tr>\n",
       "      <th>Im2</th>\n",
       "      <td>50.0</td>\n",
       "      <td>28.0</td>\n",
       "      <td>28.0</td>\n",
       "      <td>1.0</td>\n",
       "      <td>82.0</td>\n",
       "    </tr>\n",
       "    <tr>\n",
       "      <th>Quasi</th>\n",
       "      <td>60.0</td>\n",
       "      <td>23.0</td>\n",
       "      <td>23.0</td>\n",
       "      <td>2.0</td>\n",
       "      <td>86.0</td>\n",
       "    </tr>\n",
       "    <tr>\n",
       "      <th>Real</th>\n",
       "      <td>60.0</td>\n",
       "      <td>20.0</td>\n",
       "      <td>20.0</td>\n",
       "      <td>2.0</td>\n",
       "      <td>87.0</td>\n",
       "    </tr>\n",
       "    <tr>\n",
       "      <th rowspan=\"8\" valign=\"top\">Right</th>\n",
       "      <th rowspan=\"4\" valign=\"top\">Motor</th>\n",
       "      <th>Im1</th>\n",
       "      <td>54.0</td>\n",
       "      <td>26.0</td>\n",
       "      <td>19.0</td>\n",
       "      <td>1.0</td>\n",
       "      <td>81.0</td>\n",
       "    </tr>\n",
       "    <tr>\n",
       "      <th>Im2</th>\n",
       "      <td>55.0</td>\n",
       "      <td>25.0</td>\n",
       "      <td>18.0</td>\n",
       "      <td>1.0</td>\n",
       "      <td>81.0</td>\n",
       "    </tr>\n",
       "    <tr>\n",
       "      <th>Quasi</th>\n",
       "      <td>58.0</td>\n",
       "      <td>22.0</td>\n",
       "      <td>19.0</td>\n",
       "      <td>0.0</td>\n",
       "      <td>81.0</td>\n",
       "    </tr>\n",
       "    <tr>\n",
       "      <th>Real</th>\n",
       "      <td>64.0</td>\n",
       "      <td>21.0</td>\n",
       "      <td>14.0</td>\n",
       "      <td>0.0</td>\n",
       "      <td>85.0</td>\n",
       "    </tr>\n",
       "    <tr>\n",
       "      <th rowspan=\"4\" valign=\"top\">Premotor</th>\n",
       "      <th>Im1</th>\n",
       "      <td>54.0</td>\n",
       "      <td>26.0</td>\n",
       "      <td>18.0</td>\n",
       "      <td>1.0</td>\n",
       "      <td>82.0</td>\n",
       "    </tr>\n",
       "    <tr>\n",
       "      <th>Im2</th>\n",
       "      <td>54.0</td>\n",
       "      <td>25.0</td>\n",
       "      <td>21.0</td>\n",
       "      <td>1.0</td>\n",
       "      <td>79.0</td>\n",
       "    </tr>\n",
       "    <tr>\n",
       "      <th>Quasi</th>\n",
       "      <td>61.0</td>\n",
       "      <td>20.0</td>\n",
       "      <td>19.0</td>\n",
       "      <td>0.0</td>\n",
       "      <td>81.0</td>\n",
       "    </tr>\n",
       "    <tr>\n",
       "      <th>Real</th>\n",
       "      <td>69.0</td>\n",
       "      <td>15.0</td>\n",
       "      <td>15.0</td>\n",
       "      <td>0.0</td>\n",
       "      <td>85.0</td>\n",
       "    </tr>\n",
       "  </tbody>\n",
       "</table>\n",
       "</div>"
      ],
      "text/plain": [
       "                        Bilateral  Contralateral  Ipsilateral  None  \\\n",
       "Hand  Zone     Session                                                \n",
       "Left  Motor    Im1           52.0           25.0         25.0   1.0   \n",
       "               Im2           50.0           25.0         25.0   0.0   \n",
       "               Quasi         54.0           25.0         25.0   1.0   \n",
       "               Real          61.0           24.0         24.0   0.0   \n",
       "      Premotor Im1           54.0           30.0         30.0   1.0   \n",
       "               Im2           50.0           28.0         28.0   1.0   \n",
       "               Quasi         60.0           23.0         23.0   2.0   \n",
       "               Real          60.0           20.0         20.0   2.0   \n",
       "Right Motor    Im1           54.0           26.0         19.0   1.0   \n",
       "               Im2           55.0           25.0         18.0   1.0   \n",
       "               Quasi         58.0           22.0         19.0   0.0   \n",
       "               Real          64.0           21.0         14.0   0.0   \n",
       "      Premotor Im1           54.0           26.0         18.0   1.0   \n",
       "               Im2           54.0           25.0         21.0   1.0   \n",
       "               Quasi         61.0           20.0         19.0   0.0   \n",
       "               Real          69.0           15.0         15.0   0.0   \n",
       "\n",
       "                        Bi + Contr Proportion  \n",
       "Hand  Zone     Session                         \n",
       "Left  Motor    Im1                       84.0  \n",
       "               Im2                       83.0  \n",
       "               Quasi                     84.0  \n",
       "               Real                      86.0  \n",
       "      Premotor Im1                       82.0  \n",
       "               Im2                       82.0  \n",
       "               Quasi                     86.0  \n",
       "               Real                      87.0  \n",
       "Right Motor    Im1                       81.0  \n",
       "               Im2                       81.0  \n",
       "               Quasi                     81.0  \n",
       "               Real                      85.0  \n",
       "      Premotor Im1                       82.0  \n",
       "               Im2                       79.0  \n",
       "               Quasi                     81.0  \n",
       "               Real                      85.0  "
      ]
     },
     "execution_count": 63,
     "metadata": {},
     "output_type": "execute_result"
    }
   ],
   "source": [
    "# mbrt_MA_temp = np.rollaxis(tfr_arr, 2).reshape(4, 2, 2, 4, 3, 15, 20, 2000)\n",
    "# Left_side = (mbrt_MA_temp[0:3:2, ..., 1000:1500]).mean(axis=-1)\n",
    "# Right_side = (mbrt_MA_temp[1:4:2, ..., 1000:1500]).mean(axis=-1)\n",
    "mbrt_MA_temp = np.rollaxis(mbrt_MA_all_mean, 2).reshape(4, 2, 2, 4, 3, 15, 20, 2)\n",
    "# mbrt_MA_temp = np.rollaxis(mbrt_KDE_all_first, 2).reshape(4, 2, 2, 4, 3, 15, 20)[..., None]\n",
    "Left_side = mbrt_MA_temp[0:3:2, ..., 0]\n",
    "Right_side = mbrt_MA_temp[1:4:2, ..., 0]\n",
    "\n",
    "Prop = Right_side/Left_side\n",
    "# Prop = 1/Prop\n",
    "\n",
    "data_mask = Left_side.mask\n",
    "\n",
    "threshold = 0.1\n",
    "\n",
    "contralateral_mask = (Prop - 1) < -threshold\n",
    "contralateral_mask.mask = data_mask\n",
    "\n",
    "ipsilateral_mask = (Prop - 1) > threshold\n",
    "ipsilateral_mask.mask = data_mask\n",
    "\n",
    "bilateral_mask = (-threshold <= (Prop - 1)) & ((Prop - 1) <= threshold)\n",
    "bilateral_mask.mask = data_mask\n",
    "\n",
    "Left_side_mask = ~np.isnan(Left_side)\n",
    "Right_side_mask = ~np.isnan(Right_side)\n",
    "\n",
    "\n",
    "bi_start = (Left_side_mask & Right_side_mask)\n",
    "bi = (bi_start & bilateral_mask)\n",
    "contr = ~(~Left_side_mask | Right_side_mask) | (bi_start & contralateral_mask)\n",
    "ipsi = ~(~Right_side_mask | Left_side_mask) | (bi_start & ipsilateral_mask)\n",
    "\n",
    "none = ~(bi | contr | ipsi)\n",
    "\n",
    "\n",
    "bi = bi.astype(float)\n",
    "contr = contr.astype(float)\n",
    "ipsi = ipsi.astype(float)\n",
    "none = none.astype(float)\n",
    "# bi_contr_prop = (bi + contr)/ma.stack([bi, contr, ipsi], axis=-1).sum(axis=-1)\n",
    "\n",
    "erd_cases = np.swapaxes(ma.stack([bi, contr, ipsi, none], axis=-1), 5, 6)\n",
    "variables = ['Bilateral', 'Contralateral', 'Ipsilateral', 'None']\n",
    "facs = {'Zone': ['Motor', 'Premotor'], 'Day': ['1', '2'], 'Hand': ['Right','Left'], 'Session': ['Im1', 'Im2', 'Real', 'Quasi'], 'Band':['Theta', 'Alpha', 'Beta'], 'Trial':range(1, 21)}\n",
    "\n",
    "\n",
    "erd_table = get_MANOVA_table(erd_cases, 6, facs, variables)\n",
    "\n",
    "# swap contralateral and ipsilateral column for left hand, since mask is swapped due to my stupidity\n",
    "temp = erd_table.query('Hand == \"Left\"')\n",
    "temp['Contralateral'], temp['Ipsilateral'] = temp['Ipsilateral'], temp['Contralateral']\n",
    "erd_table = pd.concat([erd_table_new.query('Hand == \"Right\"'), temp])\n",
    "\n",
    "erd_table['Bi + Contr Proportion'] = (erd_table['Bilateral'] + erd_table['Contralateral'])/(erd_table['Bilateral'] + erd_table['Contralateral'] + erd_table['Ipsilateral'])\n",
    "erd_agg = erd_table.groupby(['Zone', 'Hand', 'Session', 'Band']).mean().query('Band == \"Alpha\"')\n",
    "# erd_agg['Bi + Contr Proportion'] = (erd_agg['Bilateral'] + erd_agg['Contralateral'])/(erd_agg['Bilateral'] + erd_agg['Contralateral'] + erd_agg['Ipsilateral'])\n",
    "erd_agg *= 100\n",
    "erd_agg = erd_agg.round()\n",
    "erd_agg = erd_agg.droplevel(3)\n",
    "erd_agg = erd_agg.reorder_levels([1, 0, 2])\n",
    "erd_agg = erd_agg.sort_index()\n",
    "erd_agg\n",
    "# erd_cases = np.rollaxis(erd_cases, 0, len(erd_cases.shape))"
   ]
  },
  {
   "cell_type": "code",
   "execution_count": null,
   "id": "aerial-minimum",
   "metadata": {},
   "outputs": [],
   "source": [
    "erd_agg.to_html()"
   ]
  },
  {
   "cell_type": "code",
   "execution_count": 64,
   "id": "prompt-unemployment",
   "metadata": {
    "execution": {
     "iopub.execute_input": "2021-12-09T00:49:15.403950Z",
     "iopub.status.busy": "2021-12-09T00:49:15.402949Z",
     "iopub.status.idle": "2021-12-09T00:49:16.415625Z",
     "shell.execute_reply": "2021-12-09T00:49:16.414626Z",
     "shell.execute_reply.started": "2021-12-09T00:49:15.403950Z"
    },
    "tags": []
   },
   "outputs": [
    {
     "data": {
      "image/png": "[encoded data removed]",
      "text/plain": [
       "<Figure size 432x288 with 1 Axes>"
      ]
     },
     "metadata": {
      "needs_background": "light"
     },
     "output_type": "display_data"
    }
   ],
   "source": [
    "fig = plot_jasp(erd_table.query('Session == \"Real\"')[['Subject', 'Zone', 'Day', 'Hand', 'Session', 'Band', 'Trial',\n",
    "       'Bi + Contr Proportion']], 'Hand', line='Zone')\n",
    "fig.tight_layout()"
   ]
  },
  {
   "cell_type": "code",
   "execution_count": 65,
   "id": "architectural-islam",
   "metadata": {
    "execution": {
     "iopub.execute_input": "2021-12-09T00:49:45.276366Z",
     "iopub.status.busy": "2021-12-09T00:49:45.276366Z",
     "iopub.status.idle": "2021-12-09T00:49:45.757211Z",
     "shell.execute_reply": "2021-12-09T00:49:45.756218Z",
     "shell.execute_reply.started": "2021-12-09T00:49:45.276366Z"
    },
    "tags": []
   },
   "outputs": [
    {
     "name": "stderr",
     "output_type": "stream",
     "text": [
      "The PostScript backend does not support transparency; partially transparent artists will be rendered opaque.\n",
      "The PostScript backend does not support transparency; partially transparent artists will be rendered opaque.\n"
     ]
    }
   ],
   "source": [
    "fig.savefig('plots/MBRT_MA_mean_real_plot.eps')"
   ]
  },
  {
   "cell_type": "markdown",
   "id": "parliamentary-spokesman",
   "metadata": {
    "execution": {
     "iopub.execute_input": "2021-06-21T15:22:29.950464Z",
     "iopub.status.busy": "2021-06-21T15:22:29.950464Z",
     "iopub.status.idle": "2021-06-21T15:22:29.968454Z",
     "shell.execute_reply": "2021-06-21T15:22:29.966461Z",
     "shell.execute_reply.started": "2021-06-21T15:22:29.950464Z"
    },
    "tags": []
   },
   "source": [
    "# MBRT Test"
   ]
  },
  {
   "cell_type": "markdown",
   "id": "southern-paste",
   "metadata": {},
   "source": [
    "## Functions"
   ]
  },
  {
   "cell_type": "markdown",
   "id": "victorian-delicious",
   "metadata": {},
   "source": [
    "### MBRT KDE"
   ]
  },
  {
   "cell_type": "code",
   "execution_count": 8,
   "id": "convertible-disaster",
   "metadata": {
    "execution": {
     "iopub.execute_input": "2021-12-27T03:52:50.901326Z",
     "iopub.status.busy": "2021-12-27T03:52:50.901326Z",
     "iopub.status.idle": "2021-12-27T03:52:51.211226Z",
     "shell.execute_reply": "2021-12-27T03:52:51.211226Z",
     "shell.execute_reply.started": "2021-12-27T03:52:50.901326Z"
    },
    "tags": []
   },
   "outputs": [],
   "source": [
    "def shift5(arr, num, fill_value=np.nan):\n",
    "    result = np.empty_like(arr)\n",
    "    if num > 0:\n",
    "        result[:num] = fill_value\n",
    "        result[num:] = arr[:-num]\n",
    "    elif num < 0:\n",
    "        result[num:] = fill_value\n",
    "        result[:num] = arr[-num:]\n",
    "    else:\n",
    "        result[:] = arr\n",
    "    return result\n",
    "\n",
    "def pick_first_group(sig, thresh):\n",
    "    sas = shift5(sig<=thresh, 1).astype(int) + (sig<=thresh).astype(int)\n",
    "    sas[sas == 2] *= 0\n",
    "    np.cumsum(sas)\n",
    "\n",
    "def mbrt_calc_kde(sig, bandwidth=0.15, baseline_time=2, scores_span_samples=1000, choose='biggest'):\n",
    "    assert choose in ['biggest', 'first']\n",
    "    \n",
    "    if hasattr(sig, 'mask'):\n",
    "        if np.all(sig.mask):\n",
    "            temp = ma.empty(2)\n",
    "            temp.mask = True\n",
    "            return temp\n",
    "    \n",
    "    temp_time = time[time>baseline_time]\n",
    "    temp = sig[time>baseline_time]\n",
    "    \n",
    "    X = temp[:, None]\n",
    "    scores_span = np.linspace(temp.min(), temp.max(), 1000)[:, None]\n",
    "    \n",
    "    kde = KernelDensity(kernel='epanechnikov', bandwidth=bandwidth).fit(X)\n",
    "    scores = np.exp(kde.score_samples(scores_span))\n",
    "    \n",
    "    inds, maxes = local_maxes(scores)\n",
    "    thresh = scores_span[inds[0]]\n",
    "    \n",
    "    mask = temp<=thresh\n",
    "    \n",
    "    groups = shift5(mask, 1, False).astype(int) + (mask).astype(int)\n",
    "    groups[groups == 2] *= 0\n",
    "    groups = np.cumsum(groups)\n",
    "    \n",
    "    ngroups = groups[-1] + 1\n",
    "    valid_groups = [ [i, np.sum(groups == i)] for i in range(ngroups) if np.any(mask & (groups == i) )]\n",
    "#     print(np.array(valid_groups).T.shape)\n",
    "    valid_groups, valid_group_sizes = np.array(valid_groups).T\n",
    "    \n",
    "    \n",
    "    if choose == 'biggest':\n",
    "        chosen_group = valid_groups[np.argmax(valid_group_sizes)]\n",
    "    else:\n",
    "        chosen_group = valid_groups[0]\n",
    "    \n",
    "    group_mask = groups == chosen_group\n",
    "    \n",
    "    erd_ind = np.argmin(temp[group_mask])\n",
    "    erd_time = temp_time[group_mask][erd_ind]\n",
    "    erd_val = temp[group_mask][erd_ind]\n",
    "    \n",
    "    return ma.array([erd_val, erd_time])\n",
    "    "
   ]
  },
  {
   "cell_type": "markdown",
   "id": "chief-buying",
   "metadata": {},
   "source": [
    "### MBRT MA"
   ]
  },
  {
   "cell_type": "code",
   "execution_count": 9,
   "id": "bibliographic-catholic",
   "metadata": {
    "execution": {
     "iopub.execute_input": "2021-12-27T03:52:51.214226Z",
     "iopub.status.busy": "2021-12-27T03:52:51.213227Z",
     "iopub.status.idle": "2021-12-27T03:52:51.506130Z",
     "shell.execute_reply": "2021-12-27T03:52:51.506130Z",
     "shell.execute_reply.started": "2021-12-27T03:52:51.214226Z"
    },
    "tags": []
   },
   "outputs": [],
   "source": [
    "def mbrt_calc(trial, time, blevel=0.95, conv_num=260, b_mean=None, baseline_time=5.):\n",
    "    middle = baseline_time\n",
    "    if isinstance(trial, ma.core.MaskedArray):\n",
    "        if np.all(trial.mask):\n",
    "            return ma.array([np.nan, np.nan], mask=True)\n",
    "    \n",
    "    base_arr_module = ma if isinstance(trial, ma.core.MaskedArray) else np\n",
    "    \n",
    "#     time = np.r_[1:9:0.004]\n",
    "    post_time = time[time > baseline_time]\n",
    "    base_mean_level = trial[time <= baseline_time].mean() if b_mean is None else b_mean\n",
    "    base_mean_level *= blevel\n",
    "    \n",
    "    temp_conv = np.convolve(trial, np.ones(conv_num), 'same')/conv_num\n",
    "    post_conv = temp_conv[time > baseline_time]\n",
    "    post_trial = trial[time > baseline_time]\n",
    "    \n",
    "    min_inds, min_points = local_mins(post_conv)\n",
    "    \n",
    "    points_mask_th = (min_inds > 20)\n",
    "    \n",
    "    min_inds, min_points = min_inds[points_mask_th], min_points[points_mask_th]\n",
    "    test_min_points = min_points + np.abs(np.min(min_points, initial=np.nan))\n",
    "    min_mean = np.mean(test_min_points)\n",
    "    min_inds_mask = ( (np.abs(test_min_points/min_mean) - 1) < 0.05)\n",
    "\n",
    "    min_inds = min_inds[min_inds_mask]\n",
    "    if len(min_inds) == 0:\n",
    "        argmin = np.argmin(post_trial)\n",
    "    else:\n",
    "        argmin = min_inds[0]\n",
    "    minrange = 0.5\n",
    "    p = post_time[argmin]\n",
    "    p1 = p - minrange if p - minrange >= middle else middle\n",
    "    p2 = p + minrange if p + minrange < time[-1] else time[-1]\n",
    "    time_mask = (time >= p1) & (time <= p2)\n",
    "    trial_slice = trial[time_mask]\n",
    "    try:\n",
    "        desync_val = np.min(trial_slice)\n",
    "    except ValueError:\n",
    "        print(p1, p2)\n",
    "        raise ValueError('sas')\n",
    "    \n",
    "    if base_mean_level - desync_val < 0:\n",
    "        return base_arr_module.array([np.nan, np.nan])\n",
    "    \n",
    "    desync_delta_time = time[time_mask][np.argmin(trial_slice)]\n",
    "    \n",
    "    if desync_delta_time - middle < 0.15:\n",
    "        return base_arr_module.array([np.nan, np.nan])\n",
    "    \n",
    "    return base_arr_module.array([desync_val, desync_delta_time])"
   ]
  },
  {
   "cell_type": "markdown",
   "id": "natural-panel",
   "metadata": {},
   "source": [
    "## Calc"
   ]
  },
  {
   "cell_type": "markdown",
   "id": "suspended-sector",
   "metadata": {},
   "source": [
    "### KDE"
   ]
  },
  {
   "cell_type": "code",
   "execution_count": null,
   "id": "alive-detroit",
   "metadata": {
    "execution": {
     "iopub.execute_input": "2021-12-27T03:52:51.508132Z",
     "iopub.status.busy": "2021-12-27T03:52:51.508132Z"
    },
    "tags": []
   },
   "outputs": [],
   "source": [
    "baseline = 5.\n",
    "time = np.r_[1:9:0.004]\n",
    "\n",
    "mbrt_KDE_all = [mbrt_calc_kde(i, baseline_time=baseline) for i in tfr_arr.reshape(-1, 2000)]\n",
    "mbrt_KDE_all = ma.stack(mbrt_KDE_all).reshape(*tfr_arr.shape[:-1], 2)\n",
    "\n",
    "mbrt_KDE_all_first = [mbrt_calc_kde(i, choose='first', baseline_time=baseline) for i in tfr_arr.reshape(-1, 2000)]\n",
    "mbrt_KDE_all_first = ma.stack(mbrt_KDE_all_first).reshape(*tfr_arr.shape[:-1], 2)\n",
    "\n",
    "mbrt_KDE_mean = [mbrt_calc_kde(i, baseline_time=baseline) for i in tfr_arr.mean(axis=-2).reshape(-1, 2000)]\n",
    "mbrt_KDE_mean = ma.stack(mbrt_KDE_mean).reshape(*tfr_arr.mean(axis=-2).shape[:-1], 2)\n",
    "\n",
    "mbrt_KDE_mean_first = [mbrt_calc_kde(i, choose='first', baseline_time=baseline) for i in tfr_arr.mean(axis=-2).reshape(-1, 2000)]\n",
    "mbrt_KDE_mean_first = ma.stack(mbrt_KDE_mean_first).reshape(*tfr_arr.mean(axis=-2).shape[:-1], 2)"
   ]
  },
  {
   "cell_type": "markdown",
   "id": "french-humanity",
   "metadata": {},
   "source": [
    "### MA"
   ]
  },
  {
   "cell_type": "code",
   "execution_count": null,
   "id": "global-trust",
   "metadata": {
    "tags": []
   },
   "outputs": [],
   "source": [
    "baseline = 5.\n",
    "time = np.r_[1:9:0.004]\n",
    "\n",
    "mbrt_MA_all_mean = [ma.stack([mbrt_calc(j, time, blevel=0.95, b_mean=i[:, :1000].mean()) for j in i]) for i in tfr_arr.reshape(-1, 20, 2000)]\n",
    "mbrt_MA_all_mean = ma.stack(mbrt_MA_all_mean).reshape(*tfr_arr.shape[:-2], 20, 2)\n",
    "\n",
    "mbrt_MA_all = [mbrt_calc(i, time, blevel=0.95, b_mean=i[:1000].mean()) for i in tfr_arr.reshape(-1, 2000)]\n",
    "mbrt_MA_all = ma.stack(mbrt_MA_all).reshape(*tfr_arr.shape[:-1], 2)"
   ]
  },
  {
   "cell_type": "markdown",
   "id": "international-bride",
   "metadata": {},
   "source": [
    "# Y/O Dataset packing"
   ]
  },
  {
   "cell_type": "code",
   "execution_count": 5,
   "id": "mechanical-dover",
   "metadata": {
    "execution": {
     "iopub.execute_input": "2021-08-23T07:34:26.828141Z",
     "iopub.status.busy": "2021-08-23T07:34:26.828141Z",
     "iopub.status.idle": "2021-08-23T07:34:40.233830Z",
     "shell.execute_reply": "2021-08-23T07:34:40.232835Z",
     "shell.execute_reply.started": "2021-08-23T07:34:26.828141Z"
    },
    "tags": []
   },
   "outputs": [],
   "source": [
    "from os.path import basename\n",
    "\n",
    "def true_meshgrid(*arr):\n",
    "    \"\"\"\n",
    "    создает из массивов условий массив комбинаций всех условий (типа [a, b], [c, d] -> [[a, c], [a, d], [b, c], [b, d]])\n",
    "    \"\"\"\n",
    "    if len(arr) == 1:\n",
    "        return np.array(arr[0])[:, None]\n",
    "    return np.swapaxes(np.array(np.meshgrid(*arr)), 1, 2).reshape(len(arr), -1).T\n",
    "\n",
    "#собирает все пути фифок в лист\n",
    "filenames = glob('old_young_dataset/*')\n",
    "\n",
    "# выделяем имя файла из полного пути\n",
    "names = [basename(i).split('.')[0].split('_') for i in filenames]\n",
    "\n",
    "# собираем все в кучу (в один нампай массив4ик)\n",
    "data = []\n",
    "groups = ['EA', 'YA']\n",
    "hands = ['RH', 'LH']\n",
    "subs = np.r_[1:11]\n",
    "conds = true_meshgrid(groups, hands, subs)\n",
    "for gr, hand, sub in conds:\n",
    "    filename = f'old_young_dataset/{gr}_subject{sub}_{hand}_condition.epo.fif'\n",
    "    #читаем фифку, вытаскиваем сами time series и в массив пихаем\n",
    "    data.append(mne.read_epochs(filename, verbose=False).get_data())\n",
    "\n",
    "# достаем названия каналов\n",
    "channel_labels = np.array(mne.read_epochs(filenames[0], verbose=False).ch_names)\n",
    "# красиво все организовываем\n",
    "data = marray_from_lists(data).reshape(2, 2, 10, 30, 31, 2501)\n",
    "#                                      G  H  S   T   C   E\n",
    "# G - groups, H - hands, S - subjects, T - trials, C - channels, E - eeg signal"
   ]
  },
  {
   "cell_type": "code",
   "execution_count": 7,
   "id": "robust-entity",
   "metadata": {
    "execution": {
     "iopub.execute_input": "2021-08-23T07:35:26.349612Z",
     "iopub.status.busy": "2021-08-23T07:35:26.348609Z",
     "iopub.status.idle": "2021-08-23T07:36:36.025062Z",
     "shell.execute_reply": "2021-08-23T07:36:36.024079Z",
     "shell.execute_reply.started": "2021-08-23T07:35:26.349612Z"
    },
    "tags": []
   },
   "outputs": [
    {
     "name": "stderr",
     "output_type": "stream",
     "text": [
      "100%|██████████████████████████████████████████████████████████████████████████████████| 40/40 [01:09<00:00,  1.73s/it]\n"
     ]
    }
   ],
   "source": [
    "picks = ['C3', 'C4', 'F3', 'F4']\n",
    "\n",
    "\n",
    "conds = true_meshgrid(np.r_[:2], np.r_[:2], np.r_[:10])\n",
    "freqs = np.r_[5.:30.:.4]\n",
    "theta = freqs < 8\n",
    "alpha = (freqs >= 8) & (freqs <= 14)\n",
    "beta = (freqs >= 15) & (freqs <= 30)\n",
    "tfr_data = []\n",
    "for gr, hand, sub in tqdm(conds):\n",
    "    filename = f'old_young_dataset/{gr}_subject{sub}_{hand}_condition.epo.fif'\n",
    "    channel_labels = np.array(mne.read_epochs(filenames[0], verbose=False).ch_names)\n",
    "    mask = np.sum(np.array([channel_labels == i for i in picks]), dtype=bool, axis=0)\n",
    "    temp = data[gr, hand, sub, :, :, :][..., mask, :]\n",
    "    mask = np.all(temp.mask.reshape(temp.shape[0], -1), axis=-1)\n",
    "    temp = mne.time_frequency.tfr_array_morlet(temp, 250, freqs, freqs, output='power', verbose=False, n_jobs=10)\n",
    "    temp = ma.array(temp, mask=np.zeros(temp.shape, dtype=bool))\n",
    "    temp.mask[mask] |= True\n",
    "    temp = temp[..., 125:1501]\n",
    "    temp = ma.stack([temp[..., theta, :].mean(axis=-2), temp[..., alpha, :].mean(axis=-2), temp[..., beta, :].mean(axis=-2)])\n",
    "    bgr = temp[:376].mean(axis=-1, keepdims=True)\n",
    "    temp = (temp - bgr)/bgr\n",
    "    tfr_data.append(temp)\n",
    "\n",
    "time = np.linspace(0, 10, 2501, endpoint=True)[125:1501]\n",
    "tfr_data = ma.stack(tfr_data).reshape(2, 2, 10, 3, 30, 4, 1376)\n",
    "tfr_data = np.rollaxis(np.swapaxes(tfr_data, -2, 2), 2)\n",
    "tfr_data = np.swapaxes(tfr_data, -2, -3)"
   ]
  },
  {
   "cell_type": "code",
   "execution_count": 298,
   "id": "distant-catholic",
   "metadata": {
    "execution": {
     "iopub.execute_input": "2021-08-23T13:15:20.942359Z",
     "iopub.status.busy": "2021-08-23T13:15:20.941360Z",
     "iopub.status.idle": "2021-08-23T13:24:16.852197Z",
     "shell.execute_reply": "2021-08-23T13:24:16.851189Z",
     "shell.execute_reply.started": "2021-08-23T13:15:20.942359Z"
    },
    "tags": []
   },
   "outputs": [],
   "source": [
    "baseline = 2.1\n",
    "time = np.linspace(0, 10, 2501, endpoint=True)[125:1501]\n",
    "\n",
    "mbrt_MA_all = [mbrt_calc_kde(i, baseline_time=baseline) for i in tfr_data.reshape(-1, 1376)]\n",
    "mbrt_MA_all = ma.stack(mbrt_MA_all).reshape(*tfr_data.shape[:-1], 2)\n",
    "\n",
    "mbrt_MA_all_first = [mbrt_calc_kde(i, choose='first', baseline_time=baseline) for i in tfr_data.reshape(-1, 1376)]\n",
    "mbrt_MA_all_first = ma.stack(mbrt_MA_all_first).reshape(*tfr_data.shape[:-1], 2)\n",
    "\n",
    "mbrt_MA_mean = [mbrt_calc_kde(i, baseline_time=baseline) for i in tfr_data.mean(axis=-2).reshape(-1, 1376)]\n",
    "mbrt_MA_mean = ma.stack(mbrt_MA_mean).reshape(*tfr_data.mean(axis=-2).shape[:-1], 2)\n",
    "\n",
    "mbrt_MA_mean_first = [mbrt_calc_kde(i, choose='first', baseline_time=baseline) for i in tfr_data.mean(axis=-2).reshape(-1, 1376)]\n",
    "mbrt_MA_mean_first = ma.stack(mbrt_MA_mean_first).reshape(*tfr_data.mean(axis=-2).shape[:-1], 2)"
   ]
  },
  {
   "cell_type": "code",
   "execution_count": 82,
   "id": "elegant-heavy",
   "metadata": {
    "execution": {
     "iopub.execute_input": "2021-09-27T12:06:27.977021Z",
     "iopub.status.busy": "2021-09-27T12:06:27.976015Z",
     "iopub.status.idle": "2021-09-27T12:06:28.290058Z",
     "shell.execute_reply": "2021-09-27T12:06:28.288987Z",
     "shell.execute_reply.started": "2021-09-27T12:06:27.977021Z"
    }
   },
   "outputs": [
    {
     "data": {
      "text/plain": [
       "(2, 8, 4, 3, 15, 20, 2)"
      ]
     },
     "execution_count": 82,
     "metadata": {},
     "output_type": "execute_result"
    }
   ],
   "source": [
    "mbrt_MA_all_first.shape"
   ]
  },
  {
   "cell_type": "code",
   "execution_count": 32,
   "id": "orange-bennett",
   "metadata": {
    "execution": {
     "iopub.execute_input": "2021-09-26T19:47:40.566354Z",
     "iopub.status.busy": "2021-09-26T19:47:40.565355Z",
     "iopub.status.idle": "2021-09-26T19:47:42.123407Z",
     "shell.execute_reply": "2021-09-26T19:47:42.103414Z",
     "shell.execute_reply.started": "2021-09-26T19:47:40.566354Z"
    },
    "tags": []
   },
   "outputs": [
    {
     "data": {
      "text/plain": [
       "Text(0.5, 1.0, 'Im2 Time')"
      ]
     },
     "execution_count": 32,
     "metadata": {},
     "output_type": "execute_result"
    },
    {
     "data": {
      "image/png": "[encoded data removed]",
      "text/plain": [
       "<Figure size 864x720 with 4 Axes>"
      ]
     },
     "metadata": {
      "needs_background": "light"
     },
     "output_type": "display_data"
    }
   ],
   "source": [
    "\n",
    "a, b = 0, 4\n",
    "\n",
    "\n",
    "plt.figure(figsize=(12, 10))\n",
    "\n",
    "temp = np.rollaxis(mbrt_MA_all_first, 2)\n",
    "\n",
    "times_first = (temp[:2, :, 0, 1, ..., 0]).reshape(4, 300, 1)\n",
    "scores_span = np.linspace(times_first.min(), times_first.max(), 1000)\n",
    "labels = ['C3 1D', 'C3 2D', 'C4 1D', 'C4 2D']\n",
    "for obj, lab in zip(times_first, labels):\n",
    "    kde = KernelDensity(kernel='gaussian', bandwidth=0.1).fit(obj)\n",
    "    scores = np.exp(kde.score_samples(scores_span[:, None]))\n",
    "    plt.subplot(221).plot(scores_span, scores, label=lab)\n",
    "    plt.legend()\n",
    "    plt.xlabel('MBRT (sec)')\n",
    "    plt.ylabel('prob.')\n",
    "plt.title('Im1 ERD')\n",
    "\n",
    "\n",
    "times_first = (temp[:2, :, 1, 1, ..., 0]).reshape(4, 300, 1)\n",
    "scores_span = np.linspace(times_first.min(), times_first.max(), 1000)\n",
    "\n",
    "for obj, lab in zip(times_first, labels):\n",
    "    kde = KernelDensity(kernel='gaussian', bandwidth=0.1).fit(obj)\n",
    "    scores = np.exp(kde.score_samples(scores_span[:, None]))\n",
    "    plt.subplot(222).plot(scores_span, scores, label=lab)\n",
    "    plt.legend()\n",
    "    plt.xlabel('MBRT (sec)')\n",
    "    plt.ylabel('prob.')\n",
    "plt.title('Im2 ERD')\n",
    "\n",
    "\n",
    "times_first = (temp[:2, :, 0, 1, ..., 1] - 5).reshape(4, 300, 1)\n",
    "scores_span = np.linspace(times_first.min(), times_first.max(), 1000)\n",
    "\n",
    "for obj, lab in zip(times_first, labels):\n",
    "    kde = KernelDensity(kernel='gaussian', bandwidth=0.25).fit(obj)\n",
    "    scores = np.exp(kde.score_samples(scores_span[:, None]))\n",
    "    plt.subplot(223).plot(scores_span, scores, label=lab)\n",
    "    plt.legend()\n",
    "    plt.xlabel('MBRT (sec)')\n",
    "    plt.ylabel('prob.')\n",
    "plt.title('Im1 Time')\n",
    "\n",
    "\n",
    "times_first = (temp[:2, :, 1, 1, ..., 1] - 5).reshape(4, 300, 1)\n",
    "scores_span = np.linspace(times_first.min(), times_first.max(), 1000)\n",
    "\n",
    "for obj, lab in zip(times_first, labels):\n",
    "    kde = KernelDensity(kernel='gaussian', bandwidth=0.25).fit(obj)\n",
    "    scores = np.exp(kde.score_samples(scores_span[:, None]))\n",
    "    plt.subplot(224).plot(scores_span, scores, label=lab)\n",
    "    plt.legend()\n",
    "    plt.xlabel('MBRT (sec)')\n",
    "    plt.ylabel('prob.')\n",
    "plt.title('Im2 Time')"
   ]
  },
  {
   "cell_type": "code",
   "execution_count": 51,
   "id": "interpreted-longitude",
   "metadata": {
    "execution": {
     "iopub.execute_input": "2021-12-08T15:00:10.392791Z",
     "iopub.status.busy": "2021-12-08T15:00:10.392791Z",
     "iopub.status.idle": "2021-12-08T15:00:10.749656Z",
     "shell.execute_reply": "2021-12-08T15:00:10.748658Z",
     "shell.execute_reply.started": "2021-12-08T15:00:10.392791Z"
    },
    "tags": []
   },
   "outputs": [
    {
     "data": {
      "text/plain": [
       "array([1.   , 1.004, 1.008, ..., 8.988, 8.992, 8.996])"
      ]
     },
     "execution_count": 51,
     "metadata": {},
     "output_type": "execute_result"
    }
   ],
   "source": [
    "time"
   ]
  },
  {
   "cell_type": "code",
   "execution_count": 59,
   "id": "interim-cleanup",
   "metadata": {
    "execution": {
     "iopub.execute_input": "2021-12-09T00:48:01.360702Z",
     "iopub.status.busy": "2021-12-09T00:48:01.359702Z",
     "iopub.status.idle": "2021-12-09T00:48:03.265091Z",
     "shell.execute_reply": "2021-12-09T00:48:03.264090Z",
     "shell.execute_reply.started": "2021-12-09T00:48:01.360702Z"
    },
    "tags": []
   },
   "outputs": [
    {
     "name": "stderr",
     "output_type": "stream",
     "text": [
      "The PostScript backend does not support transparency; partially transparent artists will be rendered opaque.\n",
      "The PostScript backend does not support transparency; partially transparent artists will be rendered opaque.\n",
      "The PostScript backend does not support transparency; partially transparent artists will be rendered opaque.\n",
      "The PostScript backend does not support transparency; partially transparent artists will be rendered opaque.\n",
      "The PostScript backend does not support transparency; partially transparent artists will be rendered opaque.\n",
      "The PostScript backend does not support transparency; partially transparent artists will be rendered opaque.\n",
      "The PostScript backend does not support transparency; partially transparent artists will be rendered opaque.\n",
      "The PostScript backend does not support transparency; partially transparent artists will be rendered opaque.\n"
     ]
    },
    {
     "data": {
      "image/png": "[encoded data removed]",
      "text/plain": [
       "<Figure size 720x720 with 2 Axes>"
      ]
     },
     "metadata": {
      "needs_background": "light"
     },
     "output_type": "display_data"
    }
   ],
   "source": [
    "sub = 0\n",
    "tr = 0\n",
    "bins=50\n",
    "temp_tr = tfr_arr[0, 2, 0, 1, sub, :, :].mean(axis=0)\n",
    "time_old = time\n",
    "temp = temp_tr[time_old > 5]\n",
    "\n",
    "\n",
    "# a, b = np.histogram(tfr_data[0, 0, 0, 1, sub, tr, :][time > 2], bins=bins)\n",
    "X = temp[:, None]\n",
    "scores_span = np.linspace(temp.min(), temp.max(), 1000)[:, None]\n",
    "kde = KernelDensity(kernel='epanechnikov', bandwidth=.15).fit(X)\n",
    "scores = np.exp(kde.score_samples(scores_span))\n",
    "inds, maxes = local_maxes(scores)\n",
    "thresh = scores_span[inds[0]]\n",
    "mask = (time_old > 5) & (temp_tr <= thresh)\n",
    "\n",
    "# thresh = b[np.argmax(a)]\n",
    "\n",
    "fig = plt.figure(figsize = (10, 10))\n",
    "ax1 = plt.subplot(211)\n",
    "ax2 = plt.subplot(212)\n",
    "ax1.plot(time_old, temp_tr, label='Trial energy')\n",
    "ax1.axvline(5, color='green', alpha=0.5, label='Stimulus presentation')\n",
    "ax1.axhline(thresh, color='red', alpha=0.5, label='Threshold')\n",
    "ax1.plot(time_old[mask], temp_tr[mask], 'or', label='Detected ERD')\n",
    "ax1.legend()\n",
    "ax1.set_xlabel('Time (s)')\n",
    "ax1.set_ylabel('Energy')\n",
    "ax1.set_title('Alpha band energy')\n",
    "ax1.grid()\n",
    "\n",
    "# ax2.hist(tfr_data[0, 0, 0, 1, sub, tr, :][time > 2], bins=bins, density=True);\n",
    "ax2.plot(scores_span, scores)\n",
    "\n",
    "ax2.plot(scores_span[inds], maxes, 'or', label='Local maxima')\n",
    "ax2.set_xlabel('Energy')\n",
    "ax2.legend()\n",
    "ax2.set_title('Estimated energy distribution')\n",
    "ax2.grid()\n",
    "\n",
    "fig.tight_layout()\n",
    "fig.savefig('plots/MBRT_KDE_example.eps')"
   ]
  },
  {
   "cell_type": "code",
   "execution_count": 60,
   "id": "rocky-stockholm",
   "metadata": {
    "execution": {
     "iopub.execute_input": "2021-12-09T00:48:20.267636Z",
     "iopub.status.busy": "2021-12-09T00:48:20.267636Z",
     "iopub.status.idle": "2021-12-09T00:48:21.621202Z",
     "shell.execute_reply": "2021-12-09T00:48:21.620202Z",
     "shell.execute_reply.started": "2021-12-09T00:48:20.267636Z"
    },
    "tags": []
   },
   "outputs": [
    {
     "data": {
      "image/png": "[encoded data removed]",
      "text/plain": [
       "<Figure size 720x360 with 1 Axes>"
      ]
     },
     "metadata": {
      "needs_background": "light"
     },
     "output_type": "display_data"
    }
   ],
   "source": [
    "fig = plt.figure(figsize=(10, 5))\n",
    "\n",
    "sub = 0\n",
    "tr = 0\n",
    "bins=260\n",
    "b_mean = None\n",
    "blevel=0.95\n",
    "trial = tfr_arr[0, 2, 0, 1, sub, :, :].mean(axis=0)\n",
    "\n",
    "baseline_time = 5.0\n",
    "middle = 5.0\n",
    "\n",
    "base_arr_module = ma if isinstance(trial, ma.core.MaskedArray) else np\n",
    "\n",
    "post_time = time[time > baseline_time]\n",
    "base_mean_level = trial[time <= baseline_time].mean() if b_mean is None else b_mean\n",
    "base_mean_level *= blevel\n",
    "\n",
    "temp_conv = np.convolve(trial, np.ones(bins), 'same')/bins\n",
    "post_conv = temp_conv[time > baseline_time]\n",
    "post_trial = trial[time > baseline_time]\n",
    "\n",
    "min_inds, min_points = local_mins(post_conv)\n",
    "\n",
    "points_mask_th = (min_inds > 20)\n",
    "\n",
    "min_inds, min_points = min_inds[points_mask_th], min_points[points_mask_th]\n",
    "plt.plot(post_time[min_inds], post_conv[min_inds], 'ro', label='Local minima')\n",
    "\n",
    "\n",
    "test_min_points = min_points + np.abs(np.min(min_points))\n",
    "min_mean = np.mean(test_min_points)\n",
    "\n",
    "min_inds_mask = ( (np.abs(test_min_points/min_mean) - 1) < 0.01)\n",
    "min_inds = min_inds[min_inds_mask]\n",
    "\n",
    "plt.plot(post_time[min_inds], post_conv[min_inds], 'go', label='Selected minima candidates')\n",
    "\n",
    "if len(min_inds) == 0:\n",
    "    argmin = np.argmin(post_trial)\n",
    "else:\n",
    "    argmin = min_inds[0]\n",
    "minrange = 0.5\n",
    "p = post_time[argmin]\n",
    "p1 = p - minrange if p - minrange >= middle else middle\n",
    "p2 = p + minrange if p + minrange < time[-1] else time[-1]\n",
    "plt.axvspan(p1, p2, color='red', alpha=0.1, label='ERD Span')\n",
    "time_mask = (time >= p1) & (time <= p2)\n",
    "trial_slice = trial[time_mask]\n",
    "\n",
    "desync_delta_time = time[time_mask][np.argmin(trial_slice)]\n",
    "plt.plot(time[time_mask][np.argmin(trial_slice)], trial[time_mask][np.argmin(trial_slice)], 'bo', label='Chosen ERD point')\n",
    "\n",
    "plt.plot(time, trial, label='Trial energy')\n",
    "plt.plot(time, temp_conv, label='Filtered energy')\n",
    "plt.xlabel('Time (s)')\n",
    "plt.ylabel('Energy')\n",
    "plt.axvline(5, color='green', alpha=0.5, label='Stimulus presentation')\n",
    "plt.legend()\n",
    "plt.grid()\n",
    "plt.tight_layout()\n",
    "fig.savefig('plots/MBRT_MA_example.pdf')"
   ]
  },
  {
   "cell_type": "code",
   "execution_count": 118,
   "id": "sustained-journey",
   "metadata": {
    "execution": {
     "iopub.execute_input": "2021-09-28T08:10:05.504135Z",
     "iopub.status.busy": "2021-09-28T08:10:05.504135Z",
     "iopub.status.idle": "2021-09-28T08:10:05.828029Z",
     "shell.execute_reply": "2021-09-28T08:10:05.827026Z",
     "shell.execute_reply.started": "2021-09-28T08:10:05.504135Z"
    }
   },
   "outputs": [
    {
     "data": {
      "text/plain": [
       "array([], dtype=int32)"
      ]
     },
     "execution_count": 118,
     "metadata": {},
     "output_type": "execute_result"
    }
   ],
   "source": []
  },
  {
   "cell_type": "code",
   "execution_count": 221,
   "id": "golden-laugh",
   "metadata": {
    "execution": {
     "iopub.execute_input": "2021-08-23T11:24:45.693972Z",
     "iopub.status.busy": "2021-08-23T11:24:45.693972Z",
     "iopub.status.idle": "2021-08-23T11:24:46.369758Z",
     "shell.execute_reply": "2021-08-23T11:24:46.368757Z",
     "shell.execute_reply.started": "2021-08-23T11:24:45.693972Z"
    },
    "tags": []
   },
   "outputs": [
    {
     "data": {
      "text/plain": [
       "[<matplotlib.lines.Line2D at 0x239cbaf6748>]"
      ]
     },
     "execution_count": 221,
     "metadata": {},
     "output_type": "execute_result"
    },
    {
     "data": {
      "image/png": "[encoded data removed]",
      "text/plain": [
       "<Figure size 864x720 with 2 Axes>"
      ]
     },
     "metadata": {
      "needs_background": "light"
     },
     "output_type": "display_data"
    }
   ],
   "source": [
    "sub = 3\n",
    "tr = 2\n",
    "bins=50\n",
    "temp_tr = tfr_data[0, 0, 0, 1, sub, :, :].mean(axis=0)\n",
    "temp = temp_tr[time > 2]\n",
    "\n",
    "\n",
    "# a, b = np.histogram(tfr_data[0, 0, 0, 1, sub, tr, :][time > 2], bins=bins)\n",
    "X = temp[:, None]\n",
    "scores_span = np.linspace(temp.min(), temp.max(), 1000)[:, None]\n",
    "kde = KernelDensity(kernel='epanechnikov', bandwidth=.15).fit(X)\n",
    "scores = np.exp(kde.score_samples(scores_span))\n",
    "inds, maxes = local_maxes(scores)\n",
    "thresh = scores_span[inds[0]]\n",
    "\n",
    "\n",
    "# thresh = b[np.argmax(a)]\n",
    "\n",
    "plt.figure(figsize = (12, 10))\n",
    "ax1 = plt.subplot(211)\n",
    "ax2 = plt.subplot(212)\n",
    "ax1.plot(time, temp_tr)\n",
    "ax1.axhline(thresh, color='red', alpha=0.5)\n",
    "ax1.axvline(2, color='red', alpha=0.5)\n",
    "\n",
    "# ax2.hist(tfr_data[0, 0, 0, 1, sub, tr, :][time > 2], bins=bins, density=True);\n",
    "ax2.plot(scores_span, scores)\n",
    "\n",
    "ax2.plot(scores_span[inds], maxes, 'or')\n"
   ]
  },
  {
   "cell_type": "code",
   "execution_count": 5,
   "id": "2fcf0913-5743-4b1f-9212-96d762ac95a4",
   "metadata": {
    "execution": {
     "iopub.execute_input": "2021-12-06T22:17:01.504028Z",
     "iopub.status.busy": "2021-12-06T22:17:01.504028Z",
     "iopub.status.idle": "2021-12-06T22:17:04.067606Z",
     "shell.execute_reply": "2021-12-06T22:17:04.066581Z",
     "shell.execute_reply.started": "2021-12-06T22:17:01.504028Z"
    },
    "tags": []
   },
   "outputs": [
    {
     "name": "stdout",
     "output_type": "stream",
     "text": [
      "5 4 3 2 1 "
     ]
    }
   ],
   "source": [
    "from time import sleep\n",
    "\n",
    "a = 5\n",
    "while a > 0:\n",
    "    print(a, end=' ')\n",
    "    a -= 1\n",
    "    sleep(0.5)\n"
   ]
  },
  {
   "cell_type": "code",
   "execution_count": null,
   "id": "2960a78b-1e63-410a-949a-7679d88dcefd",
   "metadata": {},
   "outputs": [],
   "source": []
  }
 ],
 "metadata": {
  "interpreter": {
   "hash": "d79cc769fa22effb9c61b717a5aaf272c1e668eb794c3216da622f5f6f41a1a7"
  },
  "kernelspec": {
   "display_name": "Python 3",
   "language": "python",
   "name": "python3"
  },
  "language_info": {
   "codemirror_mode": {
    "name": "ipython",
    "version": 3
   },
   "file_extension": ".py",
   "mimetype": "text/x-python",
   "name": "python",
   "nbconvert_exporter": "python",
   "pygments_lexer": "ipython3",
   "version": "3.9.5"
  }
 },
 "nbformat": 4,
 "nbformat_minor": 5
}