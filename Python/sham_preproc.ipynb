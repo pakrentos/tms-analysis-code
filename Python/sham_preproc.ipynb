{
 "cells": [
  {
   "cell_type": "code",
   "execution_count": null,
   "id": "a336cf9f-5942-4d54-b9f3-41400fe3b0b6",
   "metadata": {
    "execution": {
     "iopub.execute_input": "2022-02-24T14:23:17.039683Z",
     "iopub.status.busy": "2022-02-24T14:23:17.039683Z",
     "iopub.status.idle": "2022-02-24T14:23:17.058683Z",
     "shell.execute_reply": "2022-02-24T14:23:17.057690Z",
     "shell.execute_reply.started": "2022-02-24T14:23:17.039683Z"
    },
    "tags": []
   },
   "outputs": [],
   "source": [
    "import numpy as np\n",
    "from blab.array import loadmat\n",
    "from blab.array import marray_from_lists\n",
    "from blab.itertools import true_meshgrid\n",
    "from tqdm import tqdm\n",
    "from numpy import ma\n",
    "import mne\n",
    "from scipy import stats\n",
    "from matplotlib import pyplot as plt"
   ]
  },
  {
   "cell_type": "code",
   "execution_count": null,
   "id": "58cc90e5-96d1-4e8b-972b-eae6890fc0fe",
   "metadata": {
    "execution": {
     "iopub.execute_input": "2022-02-22T16:22:01.099083Z",
     "iopub.status.busy": "2022-02-22T16:22:01.099083Z",
     "iopub.status.idle": "2022-02-22T16:22:16.764057Z",
     "shell.execute_reply": "2022-02-22T16:22:16.763057Z",
     "shell.execute_reply.started": "2022-02-22T16:22:01.099083Z"
    },
    "tags": []
   },
   "outputs": [],
   "source": [
    "cases = ['right_im1', 'right_im2', 'right_real', 'right_quasi']\n",
    "bgr_case = 'right_real'\n",
    "\n",
    "# res = loadmat('../data/TMS_EEG_RAW_D3_SHAM_PART1.mat')['res']\n",
    "# res += loadmat('../data/TMS_EEG_RAW_D3_SHAM_PART2.mat')['res']\n",
    "# res = data['res']\n",
    "# res_bgr = data['res_bgr']\n",
    "\n",
    "channels = np.array(res[0]['right_im1']['label']).flatten().tolist()\n",
    "\n",
    "coi = ['FC5', 'FC1', 'FC2', 'FC6', 'C3', 'Cz', 'C4', 'CP5', 'CP1', 'CP2', 'CP6', 'T7', 'T8']\n",
    "coi_mask = np.sum([np.array(channels) == i for i in coi], 0).astype(bool)\n",
    "picks = np.r_[:len(channels)][coi_mask]\n",
    "\n",
    "data_arrays = []\n",
    "bgr_data_arrays_after = marray_from_lists([j[bgr_case]['trial'] if j is not None else None for j in res_bgr])\n",
    "for case in tqdm(cases):\n",
    "    temp = marray_from_lists([j[case]['trial'] if j is not None else None for j in res])[..., :9500:4][..., coi_mask, :]\n",
    "    data_arrays.append(temp)\n",
    "\n",
    "data_arrays = ma.stack(data_arrays)[:2] #cropped to only im1/im2"
   ]
  },
  {
   "cell_type": "code",
   "execution_count": null,
   "id": "2567d045-2145-4fc8-9c10-0782eb217bbf",
   "metadata": {
    "execution": {
     "iopub.execute_input": "2022-02-24T14:23:23.195619Z",
     "iopub.status.busy": "2022-02-24T14:23:23.195619Z",
     "iopub.status.idle": "2022-02-24T14:23:23.202619Z",
     "shell.execute_reply": "2022-02-24T14:23:23.201614Z",
     "shell.execute_reply.started": "2022-02-24T14:23:23.195619Z"
    },
    "tags": []
   },
   "outputs": [],
   "source": [
    "data_arrays.shape"
   ]
  },
  {
   "cell_type": "code",
   "execution_count": null,
   "id": "fadf6ddc-80fa-4810-b6fa-9800a7df7fc4",
   "metadata": {
    "execution": {
     "iopub.execute_input": "2022-02-24T14:24:33.805538Z",
     "iopub.status.busy": "2022-02-24T14:24:33.805538Z",
     "iopub.status.idle": "2022-02-24T14:24:34.018546Z",
     "shell.execute_reply": "2022-02-24T14:24:34.017536Z",
     "shell.execute_reply.started": "2022-02-24T14:24:33.805538Z"
    },
    "tags": []
   },
   "outputs": [],
   "source": [
    "montage = mne.channels.make_standard_montage('standard_1020')\n",
    "info = mne.create_info(coi, 250, ch_types='eeg')\n",
    "info.set_montage(montage)\n",
    "\n",
    "sensor_adjacency, ch_names = mne.channels.find_ch_adjacency(\n",
    "    info, 'eeg')\n",
    "\n",
    "res_epochs = [mne.EpochsArray(i, info, verbose=False) for i in data_arrays.reshape(30, 20, 13, -1)]"
   ]
  },
  {
   "cell_type": "code",
   "execution_count": null,
   "id": "b08bdf1f-8e33-4ab4-9b9c-cbc15f247f2a",
   "metadata": {
    "execution": {
     "iopub.execute_input": "2022-02-24T14:25:07.131710Z",
     "iopub.status.busy": "2022-02-24T14:25:07.131710Z",
     "iopub.status.idle": "2022-02-24T14:25:18.020708Z",
     "shell.execute_reply": "2022-02-24T14:25:18.019706Z",
     "shell.execute_reply.started": "2022-02-24T14:25:07.131710Z"
    },
    "tags": []
   },
   "outputs": [],
   "source": [
    "freqs = np.r_[10.5:14.5:0.4]\n",
    "\n",
    "# theta = (freqs < 8)* (freqs >= 4)\n",
    "# alpha1 = (freqs < 11)* (freqs >= 8)\n",
    "# alpha2 = (freqs < 14)* (freqs >= 11)\n",
    "# beta = (freqs < 30) * (freqs >= 15)\n",
    "\n",
    "def transform_func(x):\n",
    "    temp = mne.time_frequency.tfr_morlet(x, freqs, freqs, use_fft=True, return_itc=False, n_jobs=10, average=False, verbose=False)\n",
    "    temp = temp.crop(1, 9).apply_baseline((1, 5), mode='percent', verbose=False)\n",
    "    temp = temp.average(dim='freqs')\n",
    "    return temp\n",
    "\n",
    "res_tfr = [transform_func(i) for i in tqdm(res_epochs)]\n",
    "all_data = np.array([np.rollaxis(np.squeeze(i.data), 1, 3) for i in res_tfr]).reshape(1, 2, 15, 20, 2001, 13)[..., 1001:, :]"
   ]
  },
  {
   "cell_type": "code",
   "execution_count": null,
   "id": "a90cab9e-c261-4c9d-8705-6dc2f1eede53",
   "metadata": {
    "execution": {
     "iopub.execute_input": "2022-02-24T14:28:41.834339Z",
     "iopub.status.busy": "2022-02-24T14:28:41.833341Z",
     "iopub.status.idle": "2022-02-24T14:28:42.479360Z",
     "shell.execute_reply": "2022-02-24T14:28:42.479360Z",
     "shell.execute_reply.started": "2022-02-24T14:28:41.834339Z"
    },
    "tags": []
   },
   "outputs": [],
   "source": [
    "np.save('../data/TMS_TIME-CH-TRIAL_DAY3_IM1-2_MOTOR-AREA_BCORR_POST.npy', all_data)"
   ]
  },
  {
   "cell_type": "code",
   "execution_count": null,
   "id": "ca77de90-b39f-481d-967b-83d4b824c685",
   "metadata": {
    "execution": {
     "iopub.execute_input": "2022-01-30T11:43:36.748577Z",
     "iopub.status.busy": "2022-01-30T11:43:36.747576Z",
     "iopub.status.idle": "2022-01-30T11:55:27.383860Z",
     "shell.execute_reply": "2022-01-30T11:55:27.382823Z",
     "shell.execute_reply.started": "2022-01-30T11:43:36.748577Z"
    },
    "tags": []
   },
   "outputs": [],
   "source": [
    "montage = mne.channels.make_standard_montage('standard_1020')\n",
    "info = mne.create_info(np.array(channels)[coi_mask].tolist(), 250, ch_types='eeg')\n",
    "info.set_montage(montage)\n",
    "\n",
    "\n",
    "sensor_adjacency, ch_names = mne.channels.find_ch_adjacency(\n",
    "    info, 'eeg')\n",
    "\n",
    "results = []\n",
    "for i in tqdm(all_data):\n",
    "    for crit_mul in [0, 2, 5, 10]:\n",
    "        alpha = 0.05/(2**int(crit_mul))\n",
    "        thresh = stats.t.ppf(q=1 - alpha, df= 20 - 1)\n",
    "        res = mne.stats.spatio_temporal_cluster_1samp_test(i[:, 1000:], n_permutations=2000,\n",
    "                                                                 tail=0, n_jobs=15, out_type='mask',\n",
    "                                                                 threshold=thresh,\n",
    "                                                                 adjacency=sensor_adjacency, stat_fun=mne.stats.ttest_1samp_no_p,\n",
    "                                                                 verbose=False)\n",
    "        results.append(res)"
   ]
  },
  {
   "cell_type": "code",
   "execution_count": null,
   "id": "3298f1ba-32b6-41f0-9207-1d3b32a57437",
   "metadata": {
    "execution": {
     "iopub.execute_input": "2022-01-30T11:19:54.856445Z",
     "iopub.status.busy": "2022-01-30T11:19:54.856445Z",
     "iopub.status.idle": "2022-01-30T11:19:54.868450Z",
     "shell.execute_reply": "2022-01-30T11:19:54.868450Z",
     "shell.execute_reply.started": "2022-01-30T11:19:54.856445Z"
    },
    "tags": []
   },
   "outputs": [],
   "source": [
    "time = res_im_data[0].times"
   ]
  },
  {
   "cell_type": "code",
   "execution_count": null,
   "id": "3b4d4b1a-afcb-40cf-a5fc-e90c64f9761a",
   "metadata": {
    "execution": {
     "iopub.execute_input": "2022-01-30T11:58:58.095313Z",
     "iopub.status.busy": "2022-01-30T11:58:58.094320Z",
     "iopub.status.idle": "2022-01-30T11:58:58.107311Z",
     "shell.execute_reply": "2022-01-30T11:58:58.106310Z",
     "shell.execute_reply.started": "2022-01-30T11:58:58.095313Z"
    },
    "tags": []
   },
   "outputs": [],
   "source": [
    "npresults = np.array(results, dtype=object).reshape(2, 10, 4, -1)"
   ]
  },
  {
   "cell_type": "code",
   "execution_count": null,
   "id": "e17939cb-72f4-44f4-b9b6-c1f18476723a",
   "metadata": {
    "execution": {
     "iopub.execute_input": "2022-01-30T15:25:23.457098Z",
     "iopub.status.busy": "2022-01-30T15:25:23.457098Z",
     "iopub.status.idle": "2022-01-30T15:25:24.261281Z",
     "shell.execute_reply": "2022-01-30T15:25:24.260287Z",
     "shell.execute_reply.started": "2022-01-30T15:25:23.457098Z"
    },
    "tags": []
   },
   "outputs": [],
   "source": [
    "sub = 10\n",
    "sub_real_ind = sub - 1\n",
    "session = 2\n",
    "session_ind = session - 1\n",
    "session_names = ['Im1', 'Im2']\n",
    "crit_mul_ind = 2\n",
    "\n",
    "a = res_im_data[session_ind*10 + sub_real_ind].data\n",
    "a = np.squeeze(a)\n",
    "# a = np.swapaxes(a, 0, -1)\n",
    "# a_std = np.squeeze(np.apply_over_axes(np.nanstd, a, [1, 2]))\n",
    "a_std = a.std(0).mean(0)[..., 1000:]\n",
    "# a = np.nanmean(a, -2)\n",
    "a_mean = a.mean(0).mean(0)[..., 1000:]\n",
    "mbrt_mean = 1.425\n",
    "\n",
    "T_obs, clusters, cluster_p_values, _ = npresults[session_ind, sub_real_ind, crit_mul_ind]\n",
    "\n",
    "inds = np.arange(len(cluster_p_values), dtype=int)[cluster_p_values < 0.05][::][:]\n",
    "clusters_num = len(inds)\n",
    "print(cluster_p_values)\n",
    "\n",
    "fig, axes = plt.subplots(clusters_num, 2, figsize=(12, 4*clusters_num))\n",
    "\n",
    "if clusters_num == 1:\n",
    "    axes = [axes]\n",
    "    \n",
    "for temp_ind, (ax1, ax2) in enumerate(axes):\n",
    "    ind = inds[temp_ind]\n",
    "    ax1.plot(time[1000:], np.mean(T_obs*clusters[ind], axis=-1))\n",
    "    ax1.plot(time[1000:], a_mean)\n",
    "    ax1.fill_between(time[1000:], a_mean - a_std, a_mean + a_std, color='orange', alpha=0.1)\n",
    "#     ax1.axvline(mbrt_mean + 5, color='red')\n",
    "#     mbrt_std = 0.15\n",
    "#     ax1.axvspan(mbrt_mean + 5 - mbrt_std, mbrt_mean + 5 + mbrt_std, color='red', alpha=0.1)\n",
    "    ax1.set_ylabel('T value')\n",
    "    ax1.set_xlabel('Time (sec)')\n",
    "    ax1.grid()\n",
    "    im, _ = plot_stat_topomap(T_obs, clusters[ind], info, axes=ax2)\n",
    "    plt.colorbar(im, ax=ax2)\n",
    "    ax1.set_title(f'Cluster p-value = {cluster_p_values[ind]} #{ind}')\n",
    "fig.suptitle(f'Base vs Post: Subject {sub_real_ind + 1} Sham; {[\"Im1\", \"Im2\"][session_ind]} session; High Alpha band', fontsize=20)\n",
    "fig.tight_layout()"
   ]
  },
  {
   "cell_type": "code",
   "execution_count": null,
   "id": "31b85ff6-e1e3-4a23-8b95-464e0d19762c",
   "metadata": {
    "execution": {
     "iopub.execute_input": "2022-01-30T11:34:31.559641Z",
     "iopub.status.busy": "2022-01-30T11:34:31.558634Z",
     "iopub.status.idle": "2022-01-30T11:34:31.567622Z",
     "shell.execute_reply": "2022-01-30T11:34:31.566629Z",
     "shell.execute_reply.started": "2022-01-30T11:34:31.558634Z"
    },
    "tags": []
   },
   "outputs": [],
   "source": [
    "def plot_stat_topomap(T_obs, clus, info, axes=None, cl_ind=0):\n",
    "    timefreq_mask = np.any(clus, axis=-1)\n",
    "    nanmask = np.zeros(clus.shape)\n",
    "    nanmask[~clus] = np.nan\n",
    "    T_obs_filt = T_obs + nanmask\n",
    "    topo = np.nanmean((T_obs_filt).T[:,timefreq_mask], axis=-1)\n",
    "    topo[np.isnan(topo)] = 0\n",
    "    return mne.viz.plot_topomap(topo, info, axes=axes, show=False, names=info.ch_names, show_names=True)"
   ]
  },
  {
   "cell_type": "code",
   "execution_count": null,
   "id": "219decd7-f020-49c5-b74b-ffe7d637f610",
   "metadata": {
    "execution": {
     "iopub.execute_input": "2022-01-30T15:36:51.570857Z",
     "iopub.status.busy": "2022-01-30T15:36:51.570857Z",
     "iopub.status.idle": "2022-01-30T15:36:51.585439Z",
     "shell.execute_reply": "2022-01-30T15:36:51.584415Z",
     "shell.execute_reply.started": "2022-01-30T15:36:51.570857Z"
    }
   },
   "outputs": [],
   "source": [
    "a = [8.7, 6.75, 6.0, 8.5, 9.0, 8.5, 6.5]\n",
    "b = [6.5, 7.75, 7.23, 6.75, 6.5, 5.75, 6.2]"
   ]
  },
  {
   "cell_type": "code",
   "execution_count": null,
   "id": "bdcbb69e-1297-4a1a-8405-4ceea51fdd1c",
   "metadata": {
    "execution": {
     "iopub.execute_input": "2022-01-30T15:37:35.808067Z",
     "iopub.status.busy": "2022-01-30T15:37:35.808067Z",
     "iopub.status.idle": "2022-01-30T15:37:35.934795Z",
     "shell.execute_reply": "2022-01-30T15:37:35.934795Z",
     "shell.execute_reply.started": "2022-01-30T15:37:35.808067Z"
    },
    "tags": []
   },
   "outputs": [],
   "source": [
    "stats.ttest_ind(a, b, equal_var=False, permutations=10000)"
   ]
  },
  {
   "cell_type": "code",
   "execution_count": null,
   "id": "8b4fe97a-e223-461a-aec7-683780d3a3d3",
   "metadata": {
    "execution": {
     "iopub.execute_input": "2022-01-31T17:42:43.802146Z",
     "iopub.status.busy": "2022-01-31T17:42:43.801143Z",
     "iopub.status.idle": "2022-01-31T17:42:43.871035Z",
     "shell.execute_reply": "2022-01-31T17:42:43.870024Z",
     "shell.execute_reply.started": "2022-01-31T17:42:43.802146Z"
    },
    "tags": []
   },
   "outputs": [],
   "source": [
    "data = np.array(all_data).reshape(2, 10, 20, 2001, 13)\n",
    "data = data[..., 1001:, :]"
   ]
  },
  {
   "cell_type": "code",
   "execution_count": null,
   "id": "30f68041-726e-40f7-99f0-88d28ed3b971",
   "metadata": {
    "execution": {
     "iopub.execute_input": "2022-01-31T19:02:16.349254Z",
     "iopub.status.busy": "2022-01-31T19:02:16.348273Z",
     "iopub.status.idle": "2022-01-31T19:02:16.423211Z",
     "shell.execute_reply": "2022-01-31T19:02:16.422217Z",
     "shell.execute_reply.started": "2022-01-31T19:02:16.349254Z"
    },
    "tags": []
   },
   "outputs": [],
   "source": [
    "montage = mne.channels.make_standard_montage('standard_1020')\n",
    "info = mne.create_info(np.array(channels)[coi_mask].tolist(), 250, ch_types='eeg')\n",
    "info.set_montage(montage)\n",
    "\n",
    "\n",
    "sensor_adjacency, ch_names = mne.channels.find_ch_adjacency(\n",
    "    info, 'eeg')\n",
    "\n",
    "test_func = lambda x, y: stats.ttest_rel(x, y, axis=0).statistic #lambda *x: stats.ttest_rel(x[0], x[1], axis=0).statistic\n",
    "\n",
    "mul = 2\n",
    "alpha = 0.05/(2**mul)\n",
    "thresh = stats.t.ppf(q=1 - alpha, df= 10 - 1)\n",
    "T_obs, clusters, cluster_p_values, _ = mne.stats.spatio_temporal_cluster_test(data.mean(2), n_permutations=2000,\n",
    "                                                                                 tail=0, n_jobs=15, out_type='mask',\n",
    "                                                                                 threshold=thresh,\n",
    "                                                                                 adjacency=sensor_adjacency, stat_fun=test_func,\n",
    "                                                                                 verbose=True)"
   ]
  },
  {
   "cell_type": "code",
   "execution_count": null,
   "id": "e63b6c84-2f4e-41a9-836e-6dbad4ff77a5",
   "metadata": {
    "execution": {
     "iopub.execute_input": "2022-01-31T19:02:07.777555Z",
     "iopub.status.busy": "2022-01-31T19:02:07.777555Z",
     "iopub.status.idle": "2022-01-31T19:02:07.797188Z",
     "shell.execute_reply": "2022-01-31T19:02:07.796176Z",
     "shell.execute_reply.started": "2022-01-31T19:02:07.777555Z"
    },
    "tags": []
   },
   "outputs": [],
   "source": [
    "cluster_p_values"
   ]
  },
  {
   "cell_type": "code",
   "execution_count": null,
   "id": "f90a82a0-06f2-42bf-9eed-17f2aaf519fc",
   "metadata": {
    "execution": {
     "iopub.execute_input": "2022-02-01T12:09:08.814373Z",
     "iopub.status.busy": "2022-02-01T12:09:08.814373Z",
     "iopub.status.idle": "2022-02-01T12:09:08.827487Z",
     "shell.execute_reply": "2022-02-01T12:09:08.826464Z",
     "shell.execute_reply.started": "2022-02-01T12:09:08.814373Z"
    },
    "tags": []
   },
   "outputs": [],
   "source": [
    "data.shape"
   ]
  },
  {
   "cell_type": "code",
   "execution_count": null,
   "id": "7531ab5a-06f2-44f1-a480-df8f2952f6b5",
   "metadata": {
    "execution": {
     "iopub.execute_input": "2022-02-01T12:09:33.720094Z",
     "iopub.status.busy": "2022-02-01T12:09:33.720094Z",
     "iopub.status.idle": "2022-02-01T12:09:33.773089Z",
     "shell.execute_reply": "2022-02-01T12:09:33.772058Z",
     "shell.execute_reply.started": "2022-02-01T12:09:33.720094Z"
    },
    "tags": []
   },
   "outputs": [],
   "source": [
    "a = np.nanmean(data, 2) # averaging over trials\n",
    "a = np.swapaxes(a, 2, 3)\n",
    "a = a.mean(2)"
   ]
  },
  {
   "cell_type": "code",
   "execution_count": null,
   "id": "2a7a96b0-63f8-4cab-a510-4d7d62515c47",
   "metadata": {
    "execution": {
     "iopub.execute_input": "2022-02-01T12:09:37.441166Z",
     "iopub.status.busy": "2022-02-01T12:09:37.441166Z",
     "iopub.status.idle": "2022-02-01T12:09:37.450194Z",
     "shell.execute_reply": "2022-02-01T12:09:37.450194Z",
     "shell.execute_reply.started": "2022-02-01T12:09:37.441166Z"
    }
   },
   "outputs": [],
   "source": [
    "a.shape"
   ]
  },
  {
   "cell_type": "code",
   "execution_count": null,
   "id": "857c1d80-79ae-46be-9cd8-0c5af3a5426f",
   "metadata": {
    "execution": {
     "iopub.execute_input": "2022-02-01T12:16:55.013523Z",
     "iopub.status.busy": "2022-02-01T12:16:55.013523Z",
     "iopub.status.idle": "2022-02-01T12:16:55.246343Z",
     "shell.execute_reply": "2022-02-01T12:16:55.246343Z",
     "shell.execute_reply.started": "2022-02-01T12:16:55.013523Z"
    },
    "tags": []
   },
   "outputs": [],
   "source": [
    "time = np.r_[1:9:0.004][1000:]\n",
    "submask = np.r_[:10] > -1\n",
    "submask[0] = False\n",
    "submask[7] = False\n",
    "submask[9] = False\n",
    "plt.plot(time, a[0, submask].mean(0), label='im1')\n",
    "plt.plot(time, a[1, submask].mean(0), label='im2')\n",
    "plt.legend();\n",
    "plt.title('Sham (day 3), except 1st, 8th, 10th subs');"
   ]
  },
  {
   "cell_type": "code",
   "execution_count": null,
   "id": "b6bffeaa-0810-4c3f-86fd-0f8261c41b88",
   "metadata": {
    "execution": {
     "iopub.execute_input": "2022-02-01T12:41:18.386176Z",
     "iopub.status.busy": "2022-02-01T12:41:18.385171Z",
     "iopub.status.idle": "2022-02-01T12:41:18.754029Z",
     "shell.execute_reply": "2022-02-01T12:41:18.754029Z",
     "shell.execute_reply.started": "2022-02-01T12:41:18.386176Z"
    },
    "tags": []
   },
   "outputs": [],
   "source": [
    "d3im1_mbrt = [np.nan, 6.58, 6.25, np.nan, 6.0, np.nan, 5.8, 5.9,    6.4,  7.5]\n",
    "d3im2_mbrt = [6.1,    6.4,  7.5,  5.75,   6.0, 6.0,    5.8, np.nan, 6.15, 5.4]\n",
    "sub = 9\n",
    "\n",
    "fig, (ax1, ax2) = plt.subplots(1, 2, figsize=(13, 4.2), sharey=True)\n",
    "center = 5.4\n",
    "span = 0.25\n",
    "\n",
    "temp = a[:, sub]\n",
    "\n",
    "time_mask = (time < center + span) & (time > center - span)\n",
    "time_masked = time[time_mask]\n",
    "temp_masked = temp[..., time_mask]\n",
    "\n",
    "ax1.plot(time_masked, temp_masked[0], label='im1')\n",
    "ax1.plot(time_masked, temp_masked[1], label='im2')\n",
    "ax1.legend();\n",
    "\n",
    "ax2.axhline(color='red', alpha=0.3)\n",
    "ax2.plot(time, temp[0], label='im1')\n",
    "ax2.plot(time, temp[1], label='im2')\n",
    "ax2.legend();\n"
   ]
  },
  {
   "cell_type": "code",
   "execution_count": null,
   "id": "4c163e2a-c944-4791-8c90-195056ed1125",
   "metadata": {},
   "outputs": [],
   "source": [
    "df = np.stack([d3im1_mbrt, d3im2_mbrt])\n",
    "dfmask = ~np.isnan"
   ]
  }
 ],
 "metadata": {
  "kernelspec": {
   "display_name": "Python 3",
   "language": "python",
   "name": "python3"
  },
  "language_info": {
   "codemirror_mode": {
    "name": "ipython",
    "version": 3
   },
   "file_extension": ".py",
   "mimetype": "text/x-python",
   "name": "python",
   "nbconvert_exporter": "python",
   "pygments_lexer": "ipython3",
   "version": "3.9.5"
  }
 },
 "nbformat": 4,
 "nbformat_minor": 5
}
