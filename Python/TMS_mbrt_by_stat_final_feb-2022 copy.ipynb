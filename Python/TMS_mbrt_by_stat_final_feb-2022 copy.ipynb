{
 "cells": [
  {
   "cell_type": "code",
   "execution_count": 1,
   "id": "f2352808-b362-4abe-8f6d-2d51788fa0d7",
   "metadata": {
    "execution": {
     "iopub.execute_input": "2022-02-02T11:22:50.800256Z",
     "iopub.status.busy": "2022-02-02T11:22:50.800256Z",
     "iopub.status.idle": "2022-02-02T11:22:50.809253Z",
     "shell.execute_reply": "2022-02-02T11:22:50.808257Z",
     "shell.execute_reply.started": "2022-02-02T11:22:50.800256Z"
    },
    "tags": []
   },
   "outputs": [],
   "source": [
    "import numpy as np\n",
    "import scipy.stats as stats\n",
    "import matplotlib.pyplot as plt\n",
    "import pandas as pd\n",
    "import mne\n",
    "from tqdm import tqdm\n",
    "from blab.itertools import true_meshgrid"
   ]
  },
  {
   "cell_type": "markdown",
   "id": "5ed2d424-51cf-43f0-bad3-386962372ec8",
   "metadata": {},
   "source": [
    "# Load data"
   ]
  },
  {
   "cell_type": "code",
   "execution_count": 10,
   "id": "2c5d5994-9e73-4636-805d-c0a3bd4885f3",
   "metadata": {
    "execution": {
     "iopub.execute_input": "2022-02-02T11:15:45.162917Z",
     "iopub.status.busy": "2022-02-02T11:15:45.162917Z",
     "iopub.status.idle": "2022-02-02T11:15:45.279667Z",
     "shell.execute_reply": "2022-02-02T11:15:45.278659Z",
     "shell.execute_reply.started": "2022-02-02T11:15:45.162917Z"
    }
   },
   "outputs": [
    {
     "name": "stdout",
     "output_type": "stream",
     "text": [
      "Could not find a adjacency matrix for the data. Computing adjacency based on Delaunay triangulations.\n",
      "-- number of adjacent vertices : 13\n"
     ]
    }
   ],
   "source": [
    "chlist = np.load('../data/TMS_MOTOR_CHANNELS.npy')\n",
    "data = np.load('../data/eeg_tfr/TMS_TIME-CH-TRIAL_DAY2_IM1-2_SHAM_MOTOR-AREA_BCORR_POST.npy')\n",
    "time = np.r_[1:9:0.004][1000:]\n",
    "\n",
    "montage = mne.channels.make_standard_montage('standard_1020')\n",
    "info = mne.create_info(chlist.tolist(), 1000, ch_types='eeg',)\n",
    "info.set_montage(montage)\n",
    "\n",
    "sensor_adjacency, ch_names = mne.channels.find_ch_adjacency(\n",
    "    info, 'eeg')"
   ]
  },
  {
   "cell_type": "code",
   "execution_count": 11,
   "id": "a9b63834",
   "metadata": {},
   "outputs": [
    {
     "data": {
      "text/plain": [
       "(1, 2, 15, 20, 1000, 13)"
      ]
     },
     "execution_count": 11,
     "metadata": {},
     "output_type": "execute_result"
    }
   ],
   "source": [
    "data.shape"
   ]
  },
  {
   "cell_type": "code",
   "execution_count": 13,
   "id": "ab4d70fd-63df-4b4d-86dd-df809d29c26e",
   "metadata": {
    "execution": {
     "iopub.execute_input": "2022-02-07T12:44:18.260539Z",
     "iopub.status.busy": "2022-02-07T12:44:18.260539Z",
     "iopub.status.idle": "2022-02-07T12:44:24.981384Z",
     "shell.execute_reply": "2022-02-07T12:44:24.980384Z",
     "shell.execute_reply.started": "2022-02-07T12:44:18.260539Z"
    },
    "tags": []
   },
   "outputs": [
    {
     "name": "stderr",
     "output_type": "stream",
     "text": [
      "  2%|▏         | 2/120 [00:25<23:59, 12.20s/it]/var/folders/tj/lr6p2mw95bqcmgs698v6nqx40000gn/T/ipykernel_9862/4279788985.py:30: RuntimeWarning: No clusters found, returning empty H0, clusters, and cluster_pv\n",
      "  res = mne.stats.spatio_temporal_cluster_1samp_test(a, n_permutations=2000,\n",
      "/var/folders/tj/lr6p2mw95bqcmgs698v6nqx40000gn/T/ipykernel_9862/4279788985.py:30: RuntimeWarning: No clusters found, returning empty H0, clusters, and cluster_pv\n",
      "  res = mne.stats.spatio_temporal_cluster_1samp_test(a, n_permutations=2000,\n",
      " 69%|██████▉   | 83/120 [14:26<06:21, 10.31s/it]/var/folders/tj/lr6p2mw95bqcmgs698v6nqx40000gn/T/ipykernel_9862/4279788985.py:30: RuntimeWarning: No clusters found, returning empty H0, clusters, and cluster_pv\n",
      "  res = mne.stats.spatio_temporal_cluster_1samp_test(a, n_permutations=2000,\n",
      " 86%|████████▌ | 103/120 [17:47<02:29,  8.77s/it]/var/folders/tj/lr6p2mw95bqcmgs698v6nqx40000gn/T/ipykernel_9862/4279788985.py:30: RuntimeWarning: No clusters found, returning empty H0, clusters, and cluster_pv\n",
      "  res = mne.stats.spatio_temporal_cluster_1samp_test(a, n_permutations=2000,\n",
      "100%|██████████| 120/120 [20:32<00:00, 10.27s/it]\n"
     ]
    }
   ],
   "source": [
    "sessions = {\n",
    "    'Im1': 0,\n",
    "    'Im2': 1\n",
    "}\n",
    "\n",
    "subs = np.r_[:15]\n",
    "# days = np.r_[:2]\n",
    "sessions = np.r_[:2]\n",
    "crit_muls = [0, 1, 2, 5]\n",
    "\n",
    "index = pd.MultiIndex.from_product([sessions, subs, crit_muls])\n",
    "conds = np.array(index.to_list())\n",
    "results = []\n",
    "\n",
    "for session, sub, crit_mul in tqdm(conds):\n",
    "    day = 0\n",
    "    a = data[day, session, sub]\n",
    "    # a = np.rollaxis(a, 1)\n",
    "    # a = np.rollaxis(a, 1, 3)\n",
    "    a_mask = ~(np.isnan(a).any(-1).any(-1))\n",
    "    a = a[a_mask]\n",
    "    # print(f'{day} {session} {sub}: {np.isnan(a).any()}')\n",
    "    \n",
    "    alpha = 0.05/(2**int(crit_mul))\n",
    "    thresh = -stats.t.ppf(q=1 - alpha, df=a.shape[0] - 1)\n",
    "    \n",
    "    if a.shape[0] == 0:\n",
    "        res = None\n",
    "    else:\n",
    "        res = mne.stats.spatio_temporal_cluster_1samp_test(a, n_permutations=2000,\n",
    "                                                         tail=-1, n_jobs=4, out_type='mask',\n",
    "                                                         threshold=thresh,\n",
    "                                                         adjacency=sensor_adjacency, stat_fun=mne.stats.ttest_1samp_no_p,\n",
    "                                                         verbose=False)\n",
    "    results.append(res)\n",
    "\n",
    "# new_results = []\n",
    "# for i in results:\n",
    "#     if i is None:\n",
    "#         new_results.append(None)\n",
    "#     else:\n",
    "#         T_obs, clusters, cluster_p_values, H0 = i\n",
    "#         new_results.append((T_obs, cluster_p_values, H0))\n",
    "\n",
    "npresults = np.array(results, dtype=object)\n",
    "npresults = npresults.reshape(2, 15, 4, -1)\n",
    "np.save('../data/TMS_TIME-CH-TRIAL_DAY2_IM1-2_SHAM_MOTOR-AREA_BCORR_POST_STAT-BY-SUB_NEG.npy', npresults)"
   ]
  },
  {
   "cell_type": "code",
   "execution_count": 167,
   "id": "0b04b3b2-b320-41d6-a70a-e348991c0449",
   "metadata": {
    "execution": {
     "iopub.execute_input": "2022-02-08T10:08:12.110295Z",
     "iopub.status.busy": "2022-02-08T10:08:12.110295Z",
     "iopub.status.idle": "2022-02-08T10:12:07.768688Z",
     "shell.execute_reply": "2022-02-08T10:12:07.767640Z",
     "shell.execute_reply.started": "2022-02-08T10:08:12.110295Z"
    }
   },
   "outputs": [],
   "source": [
    "sas = mne.stats.spatio_temporal_cluster_1samp_test(a, n_permutations=2000,\n",
    "                                                         tail=1, n_jobs=15, out_type='mask',\n",
    "                                                         threshold=dict(start=0, step=0.2),\n",
    "                                                         adjacency=sensor_adjacency, stat_fun=mne.stats.ttest_1samp_no_p,\n",
    "                                                         verbose=False)"
   ]
  },
  {
   "cell_type": "code",
   "execution_count": 69,
   "id": "cfb7f328-e221-4c25-8db2-6a34dd8ecb0c",
   "metadata": {
    "execution": {
     "iopub.execute_input": "2022-02-04T00:16:05.347733Z",
     "iopub.status.busy": "2022-02-04T00:16:05.347733Z",
     "iopub.status.idle": "2022-02-04T00:16:05.365715Z",
     "shell.execute_reply": "2022-02-04T00:16:05.364732Z",
     "shell.execute_reply.started": "2022-02-04T00:16:05.347733Z"
    }
   },
   "outputs": [],
   "source": [
    "npresults = np.array(new_results, dtype=object)\n",
    "npresults = npresults.reshape(2, 2, 15, -1)"
   ]
  },
  {
   "cell_type": "code",
   "execution_count": 9,
   "id": "b59e5cef-cf2b-4ebb-8b53-6401b67b6b4d",
   "metadata": {
    "execution": {
     "iopub.execute_input": "2022-02-04T00:15:53.219278Z",
     "iopub.status.busy": "2022-02-04T00:15:53.218278Z",
     "iopub.status.idle": "2022-02-04T00:15:53.236550Z",
     "shell.execute_reply": "2022-02-04T00:15:53.235533Z",
     "shell.execute_reply.started": "2022-02-04T00:15:53.219278Z"
    }
   },
   "outputs": [
    {
     "data": {
      "text/plain": [
       "(2, 15, 4, 4)"
      ]
     },
     "execution_count": 9,
     "metadata": {},
     "output_type": "execute_result"
    }
   ],
   "source": [
    "npresults.shape"
   ]
  },
  {
   "cell_type": "code",
   "execution_count": 70,
   "id": "3cdb0ca7-28e5-48a3-9a38-b7d8e2f76cca",
   "metadata": {
    "execution": {
     "iopub.execute_input": "2022-02-04T00:16:14.353279Z",
     "iopub.status.busy": "2022-02-04T00:16:14.352279Z",
     "iopub.status.idle": "2022-02-04T00:16:15.391963Z",
     "shell.execute_reply": "2022-02-04T00:16:15.390949Z",
     "shell.execute_reply.started": "2022-02-04T00:16:14.353279Z"
    },
    "tags": []
   },
   "outputs": [],
   "source": [
    "np.save('../data/TMS_TIME-CH-TRIAL_DAY1-2_IM1-2_MOTOR-AREA_BCORR_POST_STAT-BY-SUB_TFCE.npy', npresults[..., 0])"
   ]
  },
  {
   "cell_type": "code",
   "execution_count": 20,
   "id": "a670a06d-d807-4eb9-b372-2add0e5e9157",
   "metadata": {
    "execution": {
     "iopub.execute_input": "2022-02-02T14:08:42.884476Z",
     "iopub.status.busy": "2022-02-02T14:08:42.884476Z",
     "iopub.status.idle": "2022-02-02T14:08:42.904606Z",
     "shell.execute_reply": "2022-02-02T14:08:42.903599Z",
     "shell.execute_reply.started": "2022-02-02T14:08:42.884476Z"
    },
    "tags": []
   },
   "outputs": [],
   "source": [
    "def plot_stat_topomap(T_obs, clus, info, axes=None, cl_ind=0):\n",
    "    timefreq_mask = np.any(clus, axis=-1)\n",
    "    nanmask = np.zeros(clus.shape)\n",
    "    nanmask[~clus] = np.nan\n",
    "    T_obs_filt = T_obs + nanmask\n",
    "    topo = np.nanmean((T_obs_filt).T[:,timefreq_mask], axis=-1)\n",
    "    topo[np.isnan(topo)] = 0\n",
    "    return mne.viz.plot_topomap(topo, info, axes=axes, show=False, names=info.ch_names, show_names=True, extrapolate='local')\n",
    "\n",
    "def plot_topo_n_t(time, t_obs, cluster, info, time_tr_mask=None):\n",
    "    if time_tr_mask is None:\n",
    "        time_tr_mask = np.ones(time.shape, dtype=bool)\n",
    "        \n",
    "    fig, (ax1, ax2) = plt.subplots(1, 2, figsize=(12, 4))\n",
    "    ax1.plot(time_post[time_tr_mask], np.mean(T_obs*cluster, axis=-1)[time_tr_mask])\n",
    "    ax1.set_ylabel('T value')\n",
    "    ax1.set_xlabel('Time (sec)')\n",
    "    ax1.grid()\n",
    "    im, _ = plot_stat_topomap(t_obs[time_tr_mask], cluster[time_tr_mask], info, axes=ax2)\n",
    "    plt.colorbar(im, ax=ax2)\n",
    "#     ax1.set_title(f'Cluster p-value = {cluster_p_values[ind]} #{ind}')\n",
    "#     fig.suptitle(f'Base vs Post: Subject {sub + 1} Day {day}; {session_name} session; {band_name} band', fontsize=20)\n",
    "    fig.tight_layout()\n",
    "    return fig"
   ]
  },
  {
   "cell_type": "code",
   "execution_count": 39,
   "id": "497e34e8-87ff-4f50-9c58-ec7f74e03bce",
   "metadata": {
    "execution": {
     "iopub.execute_input": "2022-02-03T23:36:39.375758Z",
     "iopub.status.busy": "2022-02-03T23:36:39.375758Z",
     "iopub.status.idle": "2022-02-03T23:36:39.387806Z",
     "shell.execute_reply": "2022-02-03T23:36:39.386792Z",
     "shell.execute_reply.started": "2022-02-03T23:36:39.375758Z"
    }
   },
   "outputs": [
    {
     "name": "stdout",
     "output_type": "stream",
     "text": [
      "0\n"
     ]
    }
   ],
   "source": [
    "print(0)"
   ]
  },
  {
   "cell_type": "code",
   "execution_count": 47,
   "id": "7b38b370-c235-4382-8880-b5b0dd82cfb6",
   "metadata": {
    "execution": {
     "iopub.execute_input": "2022-02-03T23:40:19.192200Z",
     "iopub.status.busy": "2022-02-03T23:40:19.191158Z",
     "iopub.status.idle": "2022-02-03T23:40:19.201753Z",
     "shell.execute_reply": "2022-02-03T23:40:19.200743Z",
     "shell.execute_reply.started": "2022-02-03T23:40:19.192200Z"
    },
    "tags": []
   },
   "outputs": [],
   "source": []
  },
  {
   "cell_type": "code",
   "execution_count": 158,
   "id": "9d4c3da8-2f46-4468-b3ae-cf8a0cc0f5f5",
   "metadata": {
    "execution": {
     "iopub.execute_input": "2022-02-04T10:57:11.957658Z",
     "iopub.status.busy": "2022-02-04T10:57:11.957658Z",
     "iopub.status.idle": "2022-02-04T10:57:12.176995Z",
     "shell.execute_reply": "2022-02-04T10:57:12.176995Z",
     "shell.execute_reply.started": "2022-02-04T10:57:11.957658Z"
    },
    "tags": []
   },
   "outputs": [
    {
     "name": "stderr",
     "output_type": "stream",
     "text": [
      "C:\\Users\\NCT\\AppData\\Local\\Temp/ipykernel_12636/2239069646.py:11: RuntimeWarning: Mean of empty slice\n",
      "  T_obs = np.nanmean(T_obs, -1)\n"
     ]
    },
    {
     "data": {
      "text/plain": [
       "[<matplotlib.lines.Line2D at 0x201fd14e100>]"
      ]
     },
     "execution_count": 158,
     "metadata": {},
     "output_type": "execute_result"
    },
    {
     "data": {
      "image/png": "[encoded data removed]",
      "text/plain": [
       "<Figure size 432x288 with 1 Axes>"
      ]
     },
     "metadata": {
      "needs_background": "light"
     },
     "output_type": "display_data"
    }
   ],
   "source": [
    "day = 1\n",
    "sess = 1\n",
    "sub = 4\n",
    "test = npresults[day, sess, sub, 0]\n",
    "T_obs, cluster_p_values, _ = test\n",
    "cluster_p_values = cluster_p_values.reshape(1000, 13)\n",
    "p_mask = cluster_p_values > 0.1\n",
    "# cluster_p_values = cluster_p_values*np.sign(T_obs)\n",
    "T_obs = -np.log10(cluster_p_values)*T_obs\n",
    "T_obs[p_mask] = np.nan\n",
    "T_obs = np.nanmean(T_obs, -1)\n",
    "T_obs[np.isnan(T_obs)] = 0\n",
    "f = 50\n",
    "T_obs = np.convolve(T_obs, np.ones(f), mode='same')/f\n",
    "\n",
    "chmask = (~p_mask).any(0)\n",
    "a = data[day, sess, chmask, sub].mean(0)\n",
    "a = np.nanmean(a, 0)\n",
    "mm = np.max(np.abs(T_obs))\n",
    "plt.plot(time, T_obs/mm)\n",
    "plt.plot(time, a)"
   ]
  }
 ],
 "metadata": {
  "kernelspec": {
   "display_name": "Python 3",
   "language": "python",
   "name": "python3"
  },
  "language_info": {
   "codemirror_mode": {
    "name": "ipython",
    "version": 3
   },
   "file_extension": ".py",
   "mimetype": "text/x-python",
   "name": "python",
   "nbconvert_exporter": "python",
   "pygments_lexer": "ipython3",
   "version": "3.9.7"
  }
 },
 "nbformat": 4,
 "nbformat_minor": 5
}