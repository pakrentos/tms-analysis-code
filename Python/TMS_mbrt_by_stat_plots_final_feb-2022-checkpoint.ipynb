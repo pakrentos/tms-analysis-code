{
 "cells": [
  {
   "cell_type": "markdown",
   "id": "4d74b325",
   "metadata": {},
   "source": [
    "Imports"
   ]
  },
  {
   "cell_type": "code",
   "execution_count": 1,
   "id": "835e4e90-2dcb-4dc3-a79e-c25712c6aefd",
   "metadata": {
    "execution": {
     "iopub.execute_input": "2022-02-03T12:32:14.182109Z",
     "iopub.status.busy": "2022-02-03T12:32:14.182109Z",
     "iopub.status.idle": "2022-02-03T12:32:17.644003Z",
     "shell.execute_reply": "2022-02-03T12:32:17.643003Z",
     "shell.execute_reply.started": "2022-02-03T12:32:14.182109Z"
    },
    "tags": []
   },
   "outputs": [],
   "source": [
    "import numpy as np\n",
    "import scipy.stats as stats\n",
    "import matplotlib.pyplot as plt\n",
    "import pandas as pd\n",
    "import mne\n",
    "from tqdm import tqdm\n",
    "# from blab.itertools import true_meshgrid\n",
    "import matplotlib\n",
    "import seaborn as sns\n",
    "import pingouin as pg\n",
    "matplotlib.rcParams['pdf.fonttype'] = 42\n",
    "from ipywidgets import interact, interactive, fixed, interact_manual\n",
    "import ipywidgets as widgets"
   ]
  },
  {
   "cell_type": "markdown",
   "id": "823ef79c",
   "metadata": {},
   "source": [
    "Data loading"
   ]
  },
  {
   "cell_type": "code",
   "execution_count": 39,
   "id": "62cd3fe7-b045-44f9-89fc-f8291f51e89c",
   "metadata": {
    "execution": {
     "iopub.execute_input": "2022-02-07T11:39:19.321128Z",
     "iopub.status.busy": "2022-02-07T11:39:19.320125Z",
     "iopub.status.idle": "2022-02-07T11:39:19.430918Z",
     "shell.execute_reply": "2022-02-07T11:39:19.430918Z",
     "shell.execute_reply.started": "2022-02-07T11:39:19.321128Z"
    },
    "tags": []
   },
   "outputs": [
    {
     "name": "stdout",
     "output_type": "stream",
     "text": [
      "Could not find a adjacency matrix for the data. Computing adjacency based on Delaunay triangulations.\n",
      "-- number of adjacent vertices : 13\n"
     ]
    }
   ],
   "source": [
    "time = np.r_[1:9:0.004][1000:]\n",
    "chlist = np.load('../data/TMS_MOTOR_CHANNELS.npy')\n",
    "d1_data = np.load('../data/eeg_tfr/TMS_TIME-CH-TRIAL_DAY1_IM1-2_MOTOR-AREA_BCORR_POST.npy')\n",
    "d2tms_data = np.load('../data/eeg_tfr/TMS_TIME-CH-TRIAL_DAY2_IM1-2_MOTOR-AREA_BCORR_POST.npy')\n",
    "d2sham_data = np.load('../data/eeg_tfr/TMS_TIME-CH-TRIAL_DAY2_IM1-2_SHAM_MOTOR-AREA_BCORR_POST.npy')\n",
    "\n",
    "d1_stat = np.load('../data/TMS_TIME-CH-TRIAL_DAY1_IM1-2_MOTOR-AREA_BCORR_POST_STAT-BY-SUB_NEG.npy', allow_pickle=True)\n",
    "d2tms_stat = np.load('../data/TMS_TIME-CH-TRIAL_DAY2_IM1-2_MOTOR-AREA_BCORR_POST_STAT-BY-SUB_NEG.npy', allow_pickle=True)\n",
    "d2sham_stat = np.load('../data/TMS_TIME-CH-TRIAL_DAY2_IM1-2_SHAM_MOTOR-AREA_BCORR_POST_STAT-BY-SUB_NEG.npy', allow_pickle=True)\n",
    "\n",
    "res = {\n",
    "    'cont': (d1_data, d1_stat),\n",
    "    'TMS': (d2tms_data, d2tms_stat),\n",
    "    'Sham': (d2sham_data, d2sham_stat)\n",
    "}\n",
    "\n",
    "session_names = ['Im1', 'Im2']\n",
    "\n",
    "montage = mne.channels.make_standard_montage('standard_1020')\n",
    "info = mne.create_info(chlist.tolist(), 1000, ch_types='eeg',)\n",
    "info.set_montage(montage)\n",
    "\n",
    "sensor_adjacency, ch_names = mne.channels.find_ch_adjacency(\n",
    "    info, 'eeg')"
   ]
  },
  {
   "cell_type": "markdown",
   "id": "fe064398",
   "metadata": {},
   "source": [
    "Functions"
   ]
  },
  {
   "cell_type": "code",
   "execution_count": 3,
   "id": "7c94828e-b232-46ba-aeb0-20227a4a903d",
   "metadata": {
    "execution": {
     "iopub.execute_input": "2022-02-03T13:07:45.735863Z",
     "iopub.status.busy": "2022-02-03T13:07:45.735863Z",
     "iopub.status.idle": "2022-02-03T13:07:45.765853Z",
     "shell.execute_reply": "2022-02-03T13:07:45.764854Z",
     "shell.execute_reply.started": "2022-02-03T13:07:45.735863Z"
    },
    "tags": []
   },
   "outputs": [],
   "source": [
    "def plot_stat_topomap(T_obs, clus, info, axes=None, cl_ind=0):\n",
    "    timefreq_mask = np.any(clus, axis=-1)\n",
    "    nanmask = np.zeros(clus.shape)\n",
    "    nanmask[~clus] = np.nan\n",
    "    T_obs_filt = T_obs + nanmask\n",
    "    topo = np.nanmean((T_obs_filt).T[:,timefreq_mask], axis=-1)\n",
    "    topo[np.isnan(topo)] = 0\n",
    "    return mne.viz.plot_topomap(topo, info, axes=axes, show=False, names=info.ch_names, show_names=True, extrapolate='local')\n",
    "\n",
    "def plot_topo_n_t(time, t_obs, cluster, info, time_tr_mask=None):\n",
    "    if time_tr_mask is None:\n",
    "        time_tr_mask = np.ones(time.shape, dtype=bool)\n",
    "        \n",
    "    fig, (ax1, ax2) = plt.subplots(1, 2, figsize=(12, 4))\n",
    "    ax1.plot(time_post[time_tr_mask], np.mean(T_obs*cluster, axis=-1)[time_tr_mask])\n",
    "    ax1.set_ylabel('T value')\n",
    "    ax1.set_xlabel('Time (sec)')\n",
    "    ax1.grid()\n",
    "    im, _ = plot_stat_topomap(t_obs[time_tr_mask], cluster[time_tr_mask], info, axes=ax2)\n",
    "    plt.colorbar(im, ax=ax2)\n",
    "#     ax1.set_title(f'Cluster p-value = {cluster_p_values[ind]} #{ind}')\n",
    "#     fig.suptitle(f'Base vs Post: Subject {sub + 1} Day {day}; {session_name} session; {band_name} band', fontsize=20)\n",
    "    fig.tight_layout()\n",
    "    return fig\n",
    "\n",
    "def local_mins(sig):\n",
    "    sig_len = sig.shape[-1]\n",
    "    local_min_points_mask = np.diff((np.diff(sig) < 0).astype(int)) < 0\n",
    "    local_min_points_inds = np.r_[2:sig_len][local_min_points_mask]\n",
    "    local_min_points_values = sig[local_min_points_inds]\n",
    "    return local_min_points_inds, local_min_points_values\n",
    "\n",
    "def plot_mins(time, sig, ax):\n",
    "    tinds, vals = local_mins(sig)\n",
    "    print(vals)\n",
    "    mask = [True] + (np.diff(tinds) > 30).tolist()\n",
    "    for tind, val in zip(tinds[mask], vals[mask]):\n",
    "        timex = time[tind]\n",
    "        ax.text(timex - 0.4, val, f'{timex:.3f}')\n",
    "    "
   ]
  },
  {
   "cell_type": "code",
   "execution_count": 46,
   "id": "7cfcc032",
   "metadata": {},
   "outputs": [],
   "source": [
    "test = np.load('../data/old@TMS_TIME-CH-TRIAL_DAY1-2_IM1-2_MOTOR-AREA_BCORR_POST_STAT-BY-SUB.npy',allow_pickle=True)\n",
    "df_clusters = pd.read_csv('../data/mbrt_clusters_info/mbrt_clusters.csv')"
   ]
  },
  {
   "cell_type": "code",
   "execution_count": 31,
   "id": "46861f68",
   "metadata": {},
   "outputs": [],
   "source": [
    "# [0.05/(2**0), 0.05/(2**1), 0.05/(2**2), 0.05/(2**5)]\n"
   ]
  },
  {
   "cell_type": "markdown",
   "id": "f74e1be1",
   "metadata": {},
   "source": [
    "MBRT calculation"
   ]
  },
  {
   "cell_type": "code",
   "execution_count": 69,
   "id": "70c33a55-9d72-4703-a876-a4e8632def2b",
   "metadata": {
    "execution": {
     "iopub.execute_input": "2022-02-04T12:41:17.664138Z",
     "iopub.status.busy": "2022-02-04T12:41:17.663134Z",
     "iopub.status.idle": "2022-02-04T12:41:19.845793Z",
     "shell.execute_reply": "2022-02-04T12:41:19.845793Z",
     "shell.execute_reply.started": "2022-02-04T12:41:17.664138Z"
    },
    "tags": []
   },
   "outputs": [
    {
     "data": {
      "application/vnd.jupyter.widget-view+json": {
       "model_id": "7f475022ade144bd978e2eb6ea505805",
       "version_major": 2,
       "version_minor": 0
      },
      "text/plain": [
       "Button(description='Save fig', style=ButtonStyle())"
      ]
     },
     "metadata": {},
     "output_type": "display_data"
    },
    {
     "data": {
      "application/vnd.jupyter.widget-view+json": {
       "model_id": "dd3dacf0a4ca4e4a8562d92e4f0717e1",
       "version_major": 2,
       "version_minor": 0
      },
      "text/plain": [
       "interactive(children=(IntSlider(value=0, description='sub_real_ind', max=14), IntSlider(value=0, description='…"
      ]
     },
     "metadata": {},
     "output_type": "display_data"
    }
   ],
   "source": [
    "%matplotlib inline\n",
    "label = 'TMS'\n",
    "data, stat = res[label]\n",
    "# sub = 4\n",
    "name_dict = {}\n",
    "critmuls_dict = {\n",
    "    0.05/(2**0): 0,\n",
    "    0.05/(2**1): 1,\n",
    "    0.05/(2**2): 2,\n",
    "    0.05/(2**5): 3\n",
    "}\n",
    "\n",
    "def aboba(sub_real_ind, session, crit_mul_ind):\n",
    "    session_name = ['Im1', 'Im2'][session]\n",
    "    sub = sub_real_ind + 1\n",
    "    a = data[0, session, sub_real_ind]\n",
    "    a_s = np.nanstd(a, 0) # std over trials <(tr, time, ch) -> (time, ch)>\n",
    "    a = np.nanmean(a, 0) # average over trials <(tr, time, ch) -> (time, ch)>\n",
    "    # critmuls = [0.05/(2**0), 0.05/(2**1), 0.05/(2**2), 0.05/(2**5)]\n",
    "\n",
    "    _, _, _, critmul, clus_ind, sign_channels = df_clusters.query(f'Day == \"{label}\" and Session == \"{session_name}\" and Sub == {sub}').to_numpy()[0]\n",
    "    de_time = df.query(f'Day == \"{label}\" and Session == \"{session_name}\" and Subject == {sub}').to_numpy()[0, 1]\n",
    "\n",
    "    try:\n",
    "        clus_ind = int(clus_ind)\n",
    "    except ValueError:\n",
    "        return\n",
    "\n",
    "    crit_mul_ind = critmuls_dict[float(critmul)]\n",
    "\n",
    "    T_obs, clusters, cluster_p_values, _ = test[1, session, sub_real_ind, crit_mul_ind]\n",
    "\n",
    "    inds = np.arange(len(cluster_p_values), dtype=int)[cluster_p_values < 0.3][::][:]\n",
    "    clusters_num = len(inds)\n",
    "\n",
    "    print(cluster_p_values)\n",
    "\n",
    "    fig, axes = plt.subplots(clusters_num, 2, figsize=(12, 4*clusters_num))\n",
    "\n",
    "    if clusters_num == 1:\n",
    "        axes = [axes]\n",
    "\n",
    "    for temp_ind, (ax1, ax2) in enumerate(axes):\n",
    "        ind = inds[temp_ind]\n",
    "        cluster = clusters[ind]\n",
    "        pval = cluster_p_values[ind]\n",
    "\n",
    "        chmask = cluster.any(0)\n",
    "\n",
    "        t_obs_temp = T_obs.copy() # for averaging over channels\n",
    "        t_obs_temp = t_obs_temp*cluster\n",
    "        t_obs_temp[~cluster] = np.nan\n",
    "        t_obs_temp = np.nanmean(t_obs_temp, -1)\n",
    "        t_obs_temp[np.isnan(t_obs_temp)] = 0\n",
    "        f = 50\n",
    "        t_obs_temp = np.convolve(t_obs_temp, np.ones(f), mode='same')/f\n",
    "\n",
    "        a_mean = a[..., chmask].mean(-1)\n",
    "        a_std = a_s[..., chmask].mean(-1)\n",
    "\n",
    "        ax1_t = ax1.twinx()\n",
    "        ax1_t.plot(time, t_obs_temp)\n",
    "#         try:\n",
    "        if ind == clus_ind:\n",
    "#             plot_mins(time, t_obs_temp, ax1_t)\n",
    "            val = t_obs_temp[np.abs(time - de_time).argmin()]\n",
    "            ax1_t.text(de_time - 0.4, val, f'{de_time:.3f}')\n",
    "#         except IndexError:\n",
    "#             pass\n",
    "        \n",
    "\n",
    "        ax1.plot(time, a_mean, color='orange')\n",
    "        ax1.fill_between(time, a_mean - a_std, a_mean + a_std, color='orange', alpha=0.1)\n",
    "        ax1_t.set_ylabel('T значения')\n",
    "        ax1.set_xlabel('Время (сек)')\n",
    "        ax1.grid()\n",
    "        im, _ = plot_stat_topomap(T_obs, cluster, info, axes=ax2)\n",
    "        plt.colorbar(im, ax=ax2)\n",
    "        ax1.set_title(f'P-значение кластера = {pval} #{ind}')\n",
    "#     fig.suptitle(f'Постстимул - престимул: Субъект {sub} День {label}; {session_name} session; High Alpha band; clusteralpha = {critmul}', fontsize=20)\n",
    "    fig.tight_layout()\n",
    "    plt.show();\n",
    "    name_dict['dirname'] = f'../stat_by_subject_plots_may-2022-only-plot/{label}'\n",
    "    name_dict['fname'] = f'base-vs-post_day-{label}_session-{session_name}_sub-{sub}_clus_any.pdf'\n",
    "    name_dict['fig'] = fig\n",
    "\n",
    "def save_fig(description):\n",
    "    fig = name_dict['fig']\n",
    "    dirname = name_dict['dirname']\n",
    "    fname = name_dict['fname']\n",
    "    fig.savefig(f'{dirname}/{fname}')\n",
    "\n",
    "sub_slider = widgets.IntSlider(min=0, max=14, step=1, value=0)\n",
    "session_slider = widgets.IntSlider(min=0, max=1, step=1, value=0)\n",
    "crit_slider = widgets.IntSlider(min=0, max=3, step=1, value=0)\n",
    "save_button = widgets.Button(description=\"Save fig\")\n",
    "save_button.on_click(save_fig)\n",
    "display(save_button)\n",
    "\n",
    "interact(aboba,\n",
    "         sub_real_ind=sub_slider,\n",
    "         session=session_slider,\n",
    "         crit_mul_ind=crit_slider,\n",
    "         sas_button = save_button);"
   ]
  },
  {
   "cell_type": "code",
   "execution_count": 65,
   "id": "95dcd207",
   "metadata": {
    "pycharm": {
     "name": "#%%\n"
    }
   },
   "outputs": [
    {
     "name": "stdout",
     "output_type": "stream",
     "text": [
      "[ -5.28898348 -11.47563334 -13.21460879 -11.73041336 -11.10708277\n",
      " -10.04014016 -14.84552842 -15.18195427  -9.40481883 -10.34948398]\n"
     ]
    },
    {
     "data": {
      "image/png": "[encoded data removed]",
      "text/plain": [
       "<Figure size 864x288 with 4 Axes>"
      ]
     },
     "metadata": {
      "needs_background": "light"
     },
     "output_type": "display_data"
    }
   ],
   "source": [
    "label = 'tms'\n",
    "data, stat = res[label]\n",
    "a = data[0, 1, 10]\n",
    "a_s = np.nanstd(a, 0) # std over trials <(tr, time, ch) -> (time, ch)>\n",
    "a = np.nanmean(a, 0) # average over trials <(tr, time, ch) -> (time, ch)>\n",
    "\n",
    "critmuls = [0.05/(2**0), 0.05/(2**1), 0.05/(2**2), 0.05/(2**5)]\n",
    "T_obs, clusters, cluster_p_values, _ = test[1, 1, 10, 1]\n",
    "\n",
    "fig, (ax1, ax2) = plt.subplots(1, 2, figsize=(12, 4))\n",
    "\n",
    "ind = 1\n",
    "cluster = clusters[ind]\n",
    "pval = cluster_p_values[ind]\n",
    "\n",
    "chmask = cluster.any(0)\n",
    "\n",
    "t_obs_temp = T_obs.copy() # for averaging over channels\n",
    "t_obs_temp = t_obs_temp*cluster\n",
    "t_obs_temp[~cluster] = np.nan\n",
    "t_obs_temp = np.nanmean(t_obs_temp, -1)\n",
    "t_obs_temp[np.isnan(t_obs_temp)] = 0\n",
    "f = 50\n",
    "t_obs_temp = np.convolve(t_obs_temp, np.ones(f), mode='same')/f\n",
    "\n",
    "a_mean = a[..., chmask].mean(-1)\n",
    "a_std = a_s[..., chmask].mean(-1)\n",
    "\n",
    "ax1_t = ax1.twinx()\n",
    "ax1_t.plot(time, t_obs_temp, label='T статистика')\n",
    "try:\n",
    "    plot_mins(time, t_obs_temp, ax1_t)\n",
    "except IndexError:\n",
    "    pass\n",
    "\n",
    "\n",
    "ax1.plot(time, a_mean, color='orange')\n",
    "ax1.fill_between(time, a_mean - a_std, a_mean + a_std, color='orange', alpha=0.1, label='Средняя энергия в альфа')\n",
    "ax1.set_ylabel('Амплитуда')\n",
    "\n",
    "ax1_t.set_ylabel('T значения')\n",
    "ax1.set_xlabel('Время (сек)')\n",
    "ax1.grid()\n",
    "im, _ = plot_stat_topomap(T_obs, cluster, info, axes=ax2)\n",
    "plt.colorbar(im, ax=ax2)\n",
    "# ax1.set_title(f'Cluster p-value = {pval} #{ind}')\n",
    "# fig.suptitle(f'Base vs Post: Subject {sub_real_ind + 1} Day {label}; {[\"Im1\", \"Im2\"][session]} session; High Alpha band; clusteralpha = {critmuls[crit_mul_ind]}', fontsize=20)\n",
    "fig.tight_layout()\n",
    "plt.show();\n",
    "fig.savefig('tms_im2_sub11.pdf')"
   ]
  },
  {
   "cell_type": "code",
   "execution_count": 52,
   "id": "eb963088",
   "metadata": {
    "pycharm": {
     "name": "#%%\n"
    }
   },
   "outputs": [
    {
     "data": {
      "text/plain": [
       "array([[5.872, 8.304]])"
      ]
     },
     "execution_count": 52,
     "metadata": {},
     "output_type": "execute_result"
    }
   ],
   "source": []
  },
  {
   "cell_type": "code",
   "execution_count": 103,
   "id": "03674b57",
   "metadata": {},
   "outputs": [
    {
     "name": "stdout",
     "output_type": "stream",
     "text": [
      "FC5 FC1 FC2 FC6 T7 C3 Cz CP5 CP1 "
     ]
    }
   ],
   "source": [
    "label = 'tms'\n",
    "data, stat = res[label]\n",
    "[0.05, 0.025, 0.0125, 0.0015625]\n",
    "\n",
    "sub = 15\n",
    "crit_mul_ind = 1\n",
    "clus_ind = 1\n",
    "\n",
    "sub_real_ind = sub - 1\n",
    "session = 1\n",
    "_, clusters, _, _ = test[1, session, sub_real_ind, crit_mul_ind]\n",
    "[print(i, end=' ') for i in chlist[clusters[clus_ind].any(0)]];"
   ]
  },
  {
   "cell_type": "markdown",
   "id": "dde8b912",
   "metadata": {},
   "source": [
    "MBRT aggregation"
   ]
  },
  {
   "cell_type": "code",
   "execution_count": 51,
   "id": "6f438502-9b4b-41c7-bf59-9217cc6bc94d",
   "metadata": {
    "execution": {
     "iopub.execute_input": "2022-02-04T11:53:27.508173Z",
     "iopub.status.busy": "2022-02-04T11:53:27.508173Z",
     "iopub.status.idle": "2022-02-04T11:53:27.520838Z",
     "shell.execute_reply": "2022-02-04T11:53:27.519831Z",
     "shell.execute_reply.started": "2022-02-04T11:53:27.508173Z"
    },
    "tags": []
   },
   "outputs": [],
   "source": [
    "# low cluster alpha\n",
    "\n",
    "d1im1_mbrt = np.r_[5.980, 5.944, 5.908, 5.728, 5.584, 6.492,  np.nan, 7.456,  5.682, np.nan, 5.576, 6.488,  6.420, 5.612, np.nan]\n",
    "d1im2_mbrt = np.r_[6.120, 6.044, 6.008, 5.692, 8.088, 6.828,  np.nan, 8.264,  6.664, np.nan, 5.924, np.nan, 8.904, 5.864, 5.600 ]\n",
    "\n",
    "d2im1_mbrt = np.r_[6.420, 5.928, 8.060, 5.952, 7.832, np.nan, np.nan, np.nan, 6.060, np.nan, 5.796, 6.016,  6.592, 5.852, 5.616, 6.560, 5.604,  6.056, 5.544, 5.832]\n",
    "d2im2_mbrt = np.r_[6.096, 6.088, 8.884, 5.832, 6.408, np.nan, np.nan, np.nan, 6.464, np.nan, 5.608, 8.252,  6.144, 5.512, 5.604, np.nan, np.nan, 6.060, 5.504, 5.648]\n",
    "\n",
    "d3im1_mbrt = np.r_[np.nan, 6.596, 5.860, 5.996, 5.872, 8.904,  7.500, 5.816, 6.464, np.nan, 6.872, 5.536, 5.492, 6.256, 6.188]\n",
    "d3im2_mbrt = np.r_[5.876, 6.936, 5.780,  6.716, 7.668, np.nan, 6.196, 6.256, 6.316, 6.712, np.nan, 7.276, 6.492, 6.080, 6.096]\n",
    "\n",
    "# any\n",
    "\n",
    "d1im1_mbrt_any = np.r_[5.808, 5.936, 5.908, 5.888, 5.588, 6.212, np.nan, 5.984, 6.008, np.nan, 5.760, 6.540, 6.052, 5.388, 5.436]\n",
    "d1im2_mbrt_any = np.r_[6.196, 5.756, 5.380, 6.036, 8.100, 5.688, 5.304,  6.056, 5.708, np.nan, 6.048, 6.584, 5.900, 5.784, 5.464]\n",
    "d2im1_mbrt_any = np.r_[6.420, 6.092, 6.120, 5.924, 6.572, 6.744,  7.408, 6.728, 6.168, np.nan, 5.984, 6.764, 5.968, 5.880, 5.508, 5.512,  6.356,  6.004, 8.904, 5.888]\n",
    "#                                                                 7.112\n",
    "d2im2_mbrt_any = np.r_[5.544, 6.080, 6.608, 5.868, 6.400, np.nan, 6.476, np.nan, 6.488, np.nan, 6.076, 7.468, 6.344, 5.520, 5.572, np.nan, np.nan, 6.032, np.nan, 5.648]\n",
    "\n",
    "d3im1_mbrt_any = np.r_[np.nan, 6.628, 6.692, 6.016, 8.304, 8.904,  7.492, 5.844,  6.252, 5.360, 6.872,  5.560, 5.500, 6.272, 6.164]\n",
    "d3im2_mbrt_any = np.r_[5.876,  6.936, 5.764, 6.716, 8.904, np.nan, 6.148, np.nan, 6.300, 7.736, np.nan, 7.276, 6.492, 6.064, 6.112]\n",
    "\n",
    "d1_any = d1im1_mbrt_any.tolist() + d1im2_mbrt_any.tolist()\n",
    "d2_any = d2im1_mbrt_any.tolist() + d2im2_mbrt_any.tolist()\n",
    "d3_any = d3im1_mbrt_any.tolist() + d3im2_mbrt_any.tolist()\n",
    "\n",
    "d1 = d1im1_mbrt.tolist() + d1im2_mbrt.tolist()\n",
    "d2 = d2im1_mbrt.tolist() + d2im2_mbrt.tolist()\n",
    "d3 = d3im1_mbrt.tolist() + d3im2_mbrt.tolist()\n",
    "\n",
    "# ind1 = pd.MultiIndex.from_product([['D1'], ['Im1', 'Im2'], list(range(1, 16))], names=['Day', 'Session', 'Subject'])\n",
    "ind2 = pd.MultiIndex.from_product([['TMS'], ['Im1', 'Im2'], list(range(1, 1 + len(d2im1_mbrt_any)))], names=['Day', 'Session', 'Subject'])\n",
    "ind3 = pd.MultiIndex.from_product([['Sham'], ['Im1', 'Im2'], list(range(1, 1 + 15))], names=['Day', 'Session', 'Subject'])\n",
    "\n",
    "# df1_any = pd.DataFrame(d1_any, index=ind1, columns=['MBRT ANY'])\n",
    "df2_any = pd.DataFrame(d2_any, index=ind2, columns=['MBRT ANY'])\n",
    "df3_any = pd.DataFrame(d3_any, index=ind3, columns=['MBRT ANY'])\n",
    "df_any = pd.concat([df2_any, df3_any])\n",
    "\n",
    "# df1 = pd.DataFrame(d1, index=ind1, columns=['MBRT'])\n",
    "df2 = pd.DataFrame(d2, index=ind2, columns=['MBRT'])\n",
    "df3 = pd.DataFrame(d3, index=ind3, columns=['MBRT'])\n",
    "df = pd.concat([df2, df3])\n",
    "df['MBRT ANY'] = df_any['MBRT ANY']\n",
    "\n",
    "\n"
   ]
  },
  {
   "cell_type": "code",
   "execution_count": 9,
   "id": "c778416f",
   "metadata": {
    "pycharm": {
     "name": "#%%\n"
    }
   },
   "outputs": [],
   "source": [
    "df.to_csv('mbrt_all.csv')"
   ]
  },
  {
   "cell_type": "code",
   "execution_count": 3,
   "id": "9954821f",
   "metadata": {
    "pycharm": {
     "name": "#%%\n"
    }
   },
   "outputs": [],
   "source": [
    "frontal_src = pd.read_csv('../data/src_baseline_dfs/alpha_frontal.csv')\n",
    "precuneus_src = pd.read_csv('../data/src_baseline_dfs/theta_precuneusr_maxt.csv')\n",
    "\n",
    "frontal_src.set_index(['Day', 'Session', 'Subject'], inplace=True)\n",
    "precuneus_src.set_index(['Day', 'Session', 'Subject'], inplace=True)\n",
    "df['Precuneus_Theta'] = precuneus_src['Power']\n",
    "df['Frontal_Alpha'] = frontal_src['Power']"
   ]
  },
  {
   "cell_type": "code",
   "execution_count": 4,
   "id": "8dc36a41",
   "metadata": {
    "pycharm": {
     "name": "#%%\n"
    }
   },
   "outputs": [],
   "source": [
    "df.to_csv('mbrt_mbrtany_precuneus_frontal_src.csv')"
   ]
  },
  {
   "cell_type": "markdown",
   "id": "ff6decbd",
   "metadata": {},
   "source": [
    "Loading and packing baseline level data"
   ]
  },
  {
   "cell_type": "code",
   "execution_count": 34,
   "id": "fd655516",
   "metadata": {},
   "outputs": [
    {
     "name": "stderr",
     "output_type": "stream",
     "text": [
      "/var/folders/tj/lr6p2mw95bqcmgs698v6nqx40000gn/T/ipykernel_36771/1564133322.py:12: ParserWarning: Falling back to the 'python' engine because the 'c' engine does not support regex separators (separators > 1 char and different from '\\s+' are interpreted as regex); you can avoid this warning by specifying engine='python'.\n",
      "  temp_df = pd.read_csv(path, sep='  ', header=None).iloc[:15].unstack()\n",
      "/var/folders/tj/lr6p2mw95bqcmgs698v6nqx40000gn/T/ipykernel_36771/1564133322.py:12: ParserWarning: Falling back to the 'python' engine because the 'c' engine does not support regex separators (separators > 1 char and different from '\\s+' are interpreted as regex); you can avoid this warning by specifying engine='python'.\n",
      "  temp_df = pd.read_csv(path, sep='  ', header=None).iloc[:15].unstack()\n",
      "/var/folders/tj/lr6p2mw95bqcmgs698v6nqx40000gn/T/ipykernel_36771/1564133322.py:12: ParserWarning: Falling back to the 'python' engine because the 'c' engine does not support regex separators (separators > 1 char and different from '\\s+' are interpreted as regex); you can avoid this warning by specifying engine='python'.\n",
      "  temp_df = pd.read_csv(path, sep='  ', header=None).iloc[:15].unstack()\n",
      "/var/folders/tj/lr6p2mw95bqcmgs698v6nqx40000gn/T/ipykernel_36771/1564133322.py:12: ParserWarning: Falling back to the 'python' engine because the 'c' engine does not support regex separators (separators > 1 char and different from '\\s+' are interpreted as regex); you can avoid this warning by specifying engine='python'.\n",
      "  temp_df = pd.read_csv(path, sep='  ', header=None).iloc[:15].unstack()\n",
      "/var/folders/tj/lr6p2mw95bqcmgs698v6nqx40000gn/T/ipykernel_36771/1564133322.py:12: ParserWarning: Falling back to the 'python' engine because the 'c' engine does not support regex separators (separators > 1 char and different from '\\s+' are interpreted as regex); you can avoid this warning by specifying engine='python'.\n",
      "  temp_df = pd.read_csv(path, sep='  ', header=None).iloc[:15].unstack()\n",
      "/var/folders/tj/lr6p2mw95bqcmgs698v6nqx40000gn/T/ipykernel_36771/1564133322.py:12: ParserWarning: Falling back to the 'python' engine because the 'c' engine does not support regex separators (separators > 1 char and different from '\\s+' are interpreted as regex); you can avoid this warning by specifying engine='python'.\n",
      "  temp_df = pd.read_csv(path, sep='  ', header=None).iloc[:15].unstack()\n",
      "/var/folders/tj/lr6p2mw95bqcmgs698v6nqx40000gn/T/ipykernel_36771/1564133322.py:12: ParserWarning: Falling back to the 'python' engine because the 'c' engine does not support regex separators (separators > 1 char and different from '\\s+' are interpreted as regex); you can avoid this warning by specifying engine='python'.\n",
      "  temp_df = pd.read_csv(path, sep='  ', header=None).iloc[:15].unstack()\n",
      "/var/folders/tj/lr6p2mw95bqcmgs698v6nqx40000gn/T/ipykernel_36771/1564133322.py:12: ParserWarning: Falling back to the 'python' engine because the 'c' engine does not support regex separators (separators > 1 char and different from '\\s+' are interpreted as regex); you can avoid this warning by specifying engine='python'.\n",
      "  temp_df = pd.read_csv(path, sep='  ', header=None).iloc[:15].unstack()\n",
      "/var/folders/tj/lr6p2mw95bqcmgs698v6nqx40000gn/T/ipykernel_36771/1564133322.py:12: ParserWarning: Falling back to the 'python' engine because the 'c' engine does not support regex separators (separators > 1 char and different from '\\s+' are interpreted as regex); you can avoid this warning by specifying engine='python'.\n",
      "  temp_df = pd.read_csv(path, sep='  ', header=None).iloc[:15].unstack()\n"
     ]
    }
   ],
   "source": [
    "def base_path(day, zone, opt=''):\n",
    "    assert zone in {'PrecuneusR', 'TempMidL', 'PrecuneusR_maxt'}\n",
    "    dirname = '../data/baseline_level/'\n",
    "    return f'{dirname}pow_avg_{day}_base1_base2_f0=6Hz_df=2Hz_eloreta_Norm_to_Im1_Bgr_{zone}.txt'\n",
    "\n",
    "days = {'D1':range(1, 16), 'D2': range(1, 16), 'D3': range(16, 16+15)}\n",
    "zones = ['PrecuneusR', 'TempMidL', 'PrecuneusR_maxt']\n",
    "dfs = []\n",
    "for day, drange in days.items():\n",
    "    for zone in zones:\n",
    "        path = base_path(day, zone)\n",
    "        temp_df = pd.read_csv(path, sep='  ', header=None).iloc[:15].unstack()\n",
    "        temp_df = pd.DataFrame(temp_df)\n",
    "        ind = pd.MultiIndex.from_product([[f'SRC_Theta_{zone}'], [day], ['Im1', 'Im2'], list(drange)], names=['Zone', 'Day', 'Session', 'Subject'])\n",
    "        # temp_df.columns = [f'SRC_Theta_{zone}']\n",
    "        temp_df.index = ind\n",
    "        dfs.append(temp_df)\n",
    "new_df = pd.concat(dfs)\n",
    "new_df = new_df.unstack(0)\n",
    "new_df.columns = new_df.columns.get_level_values(1).to_list()\n",
    "\n",
    "new_df = pd.merge(df.reset_index(), new_df.reset_index(), on=['Day', 'Session', 'Subject'])\n",
    "new_df.set_index(['Day', 'Session', 'Subject'], inplace=True)\n",
    "# new_df = new_df.query('Subject <= 15 or Subject >= 21')\n",
    "\n",
    "df_delta = new_df.unstack(1).reorder_levels([1, 0], axis=1)\n",
    "df_delta = df_delta['Im2'] - df_delta['Im1']\n",
    "new_df.reset_index(inplace=True)\n",
    "df_delta.reset_index(inplace=True)\n",
    "\n",
    "df_delta_alpha = pd.read_csv('src_dpow_avg_D2_D3_Im2-Im1_f0=10Hz_df=2Hz_eloreta_Norm_to_Im1_Bgr_Front.txt')\n",
    "df_delta = df_delta.merge(df_delta_alpha)"
   ]
  },
  {
   "cell_type": "code",
   "execution_count": 169,
   "id": "06bbc50f",
   "metadata": {},
   "outputs": [],
   "source": [
    "new_df.to_csv('mbrt_all_march10_stat_cluster.csv')\n",
    "df_delta.to_csv('mbrt_all_march10_stat_cluster_delta.csv')"
   ]
  },
  {
   "cell_type": "code",
   "execution_count": 13,
   "id": "6c6cd9a9",
   "metadata": {},
   "outputs": [
    {
     "name": "stderr",
     "output_type": "stream",
     "text": [
      "/var/folders/tj/lr6p2mw95bqcmgs698v6nqx40000gn/T/ipykernel_1426/1701872962.py:2: ParserWarning: Falling back to the 'python' engine because the 'c' engine does not support regex separators (separators > 1 char and different from '\\s+' are interpreted as regex); you can avoid this warning by specifying engine='python'.\n",
      "  pd.read_csv(sas, sep='  ', header=None).unstack()\n"
     ]
    },
    {
     "data": {
      "text/plain": [
       "0  0    -0.307350\n",
       "   1    -0.254311\n",
       "   2    -0.152517\n",
       "   3    -0.334555\n",
       "   4    -0.192477\n",
       "   5    -0.298992\n",
       "   6    -0.477927\n",
       "   7     0.216319\n",
       "   8    -0.168316\n",
       "   9     0.000000\n",
       "   10    0.068581\n",
       "   11   -0.222844\n",
       "   12    0.077569\n",
       "   13   -0.041278\n",
       "   14   -0.114082\n",
       "1  0    -0.041968\n",
       "   1    -0.124428\n",
       "   2    -0.125081\n",
       "   3    -0.247127\n",
       "   4     0.060173\n",
       "   5    -0.184293\n",
       "   6    -0.106897\n",
       "   7     0.462181\n",
       "   8    -0.211636\n",
       "   9     0.000000\n",
       "   10    0.095453\n",
       "   11   -0.198904\n",
       "   12    0.189958\n",
       "   13    0.130386\n",
       "   14    0.055025\n",
       "dtype: float64"
      ]
     },
     "execution_count": 13,
     "metadata": {},
     "output_type": "execute_result"
    }
   ],
   "source": [
    "sas = base_path('D2', 'PrecuneusR')\n",
    "pd.read_csv(sas, sep='  ', header=None).unstack()"
   ]
  },
  {
   "cell_type": "code",
   "execution_count": 65,
   "id": "b0852a93",
   "metadata": {},
   "outputs": [
    {
     "data": {
      "text/plain": [
       "<seaborn.axisgrid.FacetGrid at 0x1740e6d90>"
      ]
     },
     "execution_count": 65,
     "metadata": {},
     "output_type": "execute_result"
    },
    {
     "data": {
      "image/png": "[encoded data removed]",
      "text/plain": [
       "<Figure size 360x360 with 1 Axes>"
      ]
     },
     "metadata": {
      "needs_background": "light"
     },
     "output_type": "display_data"
    }
   ],
   "source": [
    "sns.catplot(data=df_delta, x='Day', y='MBRT', kind='point', capsize=0.1, estimator=np.nanmedian)"
   ]
  },
  {
   "cell_type": "code",
   "execution_count": 68,
   "id": "9b79ebce",
   "metadata": {},
   "outputs": [
    {
     "data": {
      "text/plain": [
       "MannwhitneyuResult(statistic=58.0, pvalue=0.21291190281150452)"
      ]
     },
     "execution_count": 68,
     "metadata": {},
     "output_type": "execute_result"
    }
   ],
   "source": [
    "a = d1im2_mbrt - d1im1_mbrt\n",
    "b = d2im2_mbrt - d2im1_mbrt\n",
    "c = d3im2_mbrt - d3im1_mbrt\n",
    "a = a[~np.isnan(a)]\n",
    "b = b[~np.isnan(b)]\n",
    "c = c[~np.isnan(c)]\n",
    "\n",
    "stats.mannwhitneyu(b, c)"
   ]
  },
  {
   "cell_type": "code",
   "execution_count": 76,
   "id": "b55550fd",
   "metadata": {},
   "outputs": [
    {
     "data": {
      "text/plain": [
       "-0.4064624310156152"
      ]
     },
     "execution_count": 76,
     "metadata": {},
     "output_type": "execute_result"
    }
   ],
   "source": [
    "def cohen_d(x,y):\n",
    "        return (np.mean(x) - np.mean(y)) / np.sqrt((np.std(x, ddof=1) ** 2 + np.std(y, ddof=1) ** 2) / 2.0)\n",
    "\n",
    "cohen_d(b, c)"
   ]
  },
  {
   "cell_type": "code",
   "execution_count": 26,
   "id": "1a73e136",
   "metadata": {},
   "outputs": [
    {
     "data": {
      "text/html": [
       "<div>\n",
       "<style scoped>\n",
       "    .dataframe tbody tr th:only-of-type {\n",
       "        vertical-align: middle;\n",
       "    }\n",
       "\n",
       "    .dataframe tbody tr th {\n",
       "        vertical-align: top;\n",
       "    }\n",
       "\n",
       "    .dataframe thead th {\n",
       "        text-align: right;\n",
       "    }\n",
       "</style>\n",
       "<table border=\"1\" class=\"dataframe\">\n",
       "  <thead>\n",
       "    <tr style=\"text-align: right;\">\n",
       "      <th></th>\n",
       "      <th>Source</th>\n",
       "      <th>SS</th>\n",
       "      <th>DF1</th>\n",
       "      <th>DF2</th>\n",
       "      <th>MS</th>\n",
       "      <th>F</th>\n",
       "      <th>p-unc</th>\n",
       "      <th>np2</th>\n",
       "      <th>eps</th>\n",
       "    </tr>\n",
       "  </thead>\n",
       "  <tbody>\n",
       "    <tr>\n",
       "      <th>0</th>\n",
       "      <td>Day</td>\n",
       "      <td>0.136208</td>\n",
       "      <td>2</td>\n",
       "      <td>34</td>\n",
       "      <td>0.068104</td>\n",
       "      <td>0.073909</td>\n",
       "      <td>0.928905</td>\n",
       "      <td>0.004329</td>\n",
       "      <td>NaN</td>\n",
       "    </tr>\n",
       "    <tr>\n",
       "      <th>1</th>\n",
       "      <td>Session</td>\n",
       "      <td>2.245995</td>\n",
       "      <td>1</td>\n",
       "      <td>34</td>\n",
       "      <td>2.245995</td>\n",
       "      <td>6.072173</td>\n",
       "      <td>0.018946</td>\n",
       "      <td>0.151531</td>\n",
       "      <td>1.0</td>\n",
       "    </tr>\n",
       "    <tr>\n",
       "      <th>2</th>\n",
       "      <td>Interaction</td>\n",
       "      <td>1.505392</td>\n",
       "      <td>2</td>\n",
       "      <td>34</td>\n",
       "      <td>0.752696</td>\n",
       "      <td>2.034955</td>\n",
       "      <td>0.146302</td>\n",
       "      <td>0.106906</td>\n",
       "      <td>NaN</td>\n",
       "    </tr>\n",
       "  </tbody>\n",
       "</table>\n",
       "</div>"
      ],
      "text/plain": [
       "        Source        SS  DF1  DF2        MS         F     p-unc       np2  \\\n",
       "0          Day  0.136208    2   34  0.068104  0.073909  0.928905  0.004329   \n",
       "1      Session  2.245995    1   34  2.245995  6.072173  0.018946  0.151531   \n",
       "2  Interaction  1.505392    2   34  0.752696  2.034955  0.146302  0.106906   \n",
       "\n",
       "   eps  \n",
       "0  NaN  \n",
       "1  1.0  \n",
       "2  NaN  "
      ]
     },
     "execution_count": 26,
     "metadata": {},
     "output_type": "execute_result"
    }
   ],
   "source": [
    "pg.mixed_anova(df, dv='MBRT', within='Session', subject='Subject', between='Day', correction)"
   ]
  },
  {
   "cell_type": "code",
   "execution_count": 21,
   "id": "cc261b58",
   "metadata": {},
   "outputs": [
    {
     "data": {
      "text/plain": [
       "MannwhitneyuResult(statistic=67.0, pvalue=0.3117289962483303)"
      ]
     },
     "execution_count": 21,
     "metadata": {},
     "output_type": "execute_result"
    }
   ],
   "source": [
    "a = d2im2_mbrt_any - d2im1_mbrt_any\n",
    "b = d3im2_mbrt_any - d3im1_mbrt_any\n",
    "a = a[~np.isnan(a)]\n",
    "b = b[~np.isnan(b)]\n",
    "stats.mannwhitneyu(a, b)"
   ]
  },
  {
   "cell_type": "code",
   "execution_count": 15,
   "id": "3450b366-6767-4ce2-b5b0-69ca3ac30448",
   "metadata": {
    "execution": {
     "iopub.execute_input": "2022-02-04T11:53:28.449365Z",
     "iopub.status.busy": "2022-02-04T11:53:28.449365Z",
     "iopub.status.idle": "2022-02-04T11:53:28.473405Z",
     "shell.execute_reply": "2022-02-04T11:53:28.472398Z",
     "shell.execute_reply.started": "2022-02-04T11:53:28.449365Z"
    },
    "tags": []
   },
   "outputs": [],
   "source": [
    "index = pd.Index(list(range(1, 21)), name='Subject')\n",
    "df = pd.DataFrame([d2im2_mbrt_any - d2im1_mbrt_any]).T\n",
    "df.index = index\n",
    "df.columns = ['Time delta']\n",
    "df.reset_index(inplace=True)\n",
    "\n",
    "theta_df = pd.read_csv('../data/TMS_BASELINE_SOURCE_THETA_DELTA.csv')\n",
    "\n",
    "corr_df = pd.merge(df, theta_df, on='Subject')\n",
    "corr_df.dropna(inplace=True)\n",
    "corr_df.reset_index(inplace=True)\n",
    "# corr_df = corr_df.query('Subject < 16')"
   ]
  },
  {
   "cell_type": "code",
   "execution_count": 35,
   "id": "d2d94f7a-91a4-4549-9ef1-453505aa972f",
   "metadata": {
    "execution": {
     "iopub.execute_input": "2022-02-04T11:53:29.571609Z",
     "iopub.status.busy": "2022-02-04T11:53:29.570609Z",
     "iopub.status.idle": "2022-02-04T11:53:30.515305Z",
     "shell.execute_reply": "2022-02-04T11:53:30.514306Z",
     "shell.execute_reply.started": "2022-02-04T11:53:29.571609Z"
    },
    "tags": []
   },
   "outputs": [
    {
     "data": {
      "text/plain": [
       "<matplotlib.lines.Line2D at 0x17dbeed00>"
      ]
     },
     "execution_count": 35,
     "metadata": {},
     "output_type": "execute_result"
    },
    {
     "data": {
      "image/png": "[encoded data removed]",
      "text/plain": [
       "<Figure size 576x576 with 1 Axes>"
      ]
     },
     "metadata": {
      "needs_background": "light"
     },
     "output_type": "display_data"
    }
   ],
   "source": [
    "import seaborn as sns\n",
    "\n",
    "fig = plt.figure(figsize=(8, 8))\n",
    "d = 'D2'\n",
    "x = 'MBRT ANY'\n",
    "y = \"SRC_Theta_PrecuneusR_maxt\"\n",
    "corr_df = df_delta.query(f'Day == \"{d}\"')[['Subject', x, y]].dropna()\n",
    "g = sns.regplot(x=x, y=y, data=corr_df, truncate=False, order=1)\n",
    "\n",
    "ax = g\n",
    "# ax.figure.set_figheight(10)\n",
    "# ax.set_aspect(1)\n",
    "\n",
    "\n",
    "for line in range(corr_df.shape[0]):\n",
    "    ax.text(corr_df[x].iloc[line] + 0.02, corr_df[y].iloc[line] + 0.01, \n",
    "    corr_df.Subject.iloc[line], horizontalalignment='left', \n",
    "    size='medium', color='black', weight='semibold')\n",
    "\n",
    "ax.axvline(0 , marker='|')\n",
    "# ax.figure.savefig(f'{d}_{x}_{y}_corr.pdf')\n",
    "# ax.set_title(f'Regression {d} {y}')"
   ]
  },
  {
   "cell_type": "code",
   "execution_count": 19,
   "id": "3799c2d9",
   "metadata": {},
   "outputs": [],
   "source": [
    "corr_res = []\n",
    "for d in df_delta.Day.unique():\n",
    "    for zone in df_delta.columns[4:]:\n",
    "        mbrt = 'MBRT ANY'\n",
    "        base = df_delta.query(f'Day == \"{d}\"')[[mbrt, zone]].dropna()\n",
    "        a = base[mbrt]\n",
    "        b = base[zone]\n",
    "        corr_res.append(stats.pearsonr(a, b))\n",
    "corr_res = np.array(corr_res)\n",
    "ind = pd.MultiIndex.from_product([df_delta.Day.unique(), df_delta.columns[4:]], names=['Day', 'Zone'])\n",
    "corr_res = pd.DataFrame(corr_res, index=ind, columns=['Index', 'P-value'])\n",
    "corr_res.query('Zone == \"SRC_Theta_PrecuneusR_maxt\" or Zone == \"SRC_Alpha_Frontal\"').to_csv('corr_data.csv')"
   ]
  },
  {
   "cell_type": "code",
   "execution_count": 163,
   "id": "feadd622-926b-4514-a87a-ff5d51ae1503",
   "metadata": {
    "execution": {
     "iopub.execute_input": "2022-02-04T13:00:48.880905Z",
     "iopub.status.busy": "2022-02-04T13:00:48.879906Z",
     "iopub.status.idle": "2022-02-04T13:00:48.901446Z",
     "shell.execute_reply": "2022-02-04T13:00:48.900484Z",
     "shell.execute_reply.started": "2022-02-04T13:00:48.880905Z"
    },
    "tags": []
   },
   "outputs": [
    {
     "data": {
      "text/plain": [
       "(-0.586637591506698, 0.05781746932091178)"
      ]
     },
     "execution_count": 163,
     "metadata": {},
     "output_type": "execute_result"
    }
   ],
   "source": [
    "stats.pearsonr(corr_df['Time delta'], corr_df['Theta delta'])"
   ]
  },
  {
   "cell_type": "code",
   "execution_count": 474,
   "id": "1d09542a-0dc7-4f92-8f8b-fd8bb789f749",
   "metadata": {
    "execution": {
     "iopub.execute_input": "2022-02-08T09:32:42.085640Z",
     "iopub.status.busy": "2022-02-08T09:32:42.085640Z",
     "iopub.status.idle": "2022-02-08T09:32:42.346192Z",
     "shell.execute_reply": "2022-02-08T09:32:42.345186Z",
     "shell.execute_reply.started": "2022-02-08T09:32:42.085640Z"
    },
    "tags": []
   },
   "outputs": [
    {
     "name": "stdout",
     "output_type": "stream",
     "text": [
      "Contains nan: True\n",
      "0.0005\n",
      "[ 0.4856212  -0.13216017 -0.40171841 -0.3717532  -0.29679856 -0.27460471]\n"
     ]
    },
    {
     "name": "stderr",
     "output_type": "stream",
     "text": [
      "C:\\Users\\NCT\\AppData\\Local\\Temp/ipykernel_20712/3380981654.py:23: RuntimeWarning: Mean of empty slice\n",
      "  T_obs = np.nanmean(T_obs, -1)\n"
     ]
    },
    {
     "data": {
      "text/plain": [
       "[<matplotlib.lines.Line2D at 0x27fb7eec250>]"
      ]
     },
     "execution_count": 474,
     "metadata": {},
     "output_type": "execute_result"
    },
    {
     "data": {
      "image/png": "[encoded data removed]",
      "text/plain": [
       "<Figure size 432x288 with 1 Axes>"
      ]
     },
     "metadata": {
      "needs_background": "light"
     },
     "output_type": "display_data"
    }
   ],
   "source": [
    "ax = plt.subplot(111)\n",
    "day = 0\n",
    "sess = 1\n",
    "sub = 0\n",
    "# test = stat[day, sess, sub]\n",
    "T_obs, cluster_p_values = ts[day, sess, sub], ps[day, sess, sub]\n",
    "print(f'Contains nan: {np.isnan(T_obs).any()}') \n",
    "# cluster_p_values = cluster_p_values.reshape(1000, 13)\n",
    "# plt.hist(cluster_p_values.flatten())\n",
    "print(cluster_p_values.min())\n",
    "p_mask = cluster_p_values > 0.05\n",
    "# cluster_p_values = cluster_p_values*np.sign(T_obs)\n",
    "# T_obs = *T_obs\n",
    "\n",
    "# f = 50\n",
    "# T_obs = np.convolve(T_obs, np.ones(f), mode='same')/f\n",
    "\n",
    "chmask = (~p_mask).any(0)\n",
    "\n",
    "T_obs = -(1 - cluster_p_values.copy())\n",
    "\n",
    "T_obs[p_mask] = np.nan\n",
    "T_obs = np.nanmean(T_obs, -1)\n",
    "T_obs[np.isnan(T_obs)] = 0\n",
    "\n",
    "a = data[day, sess, chmask, sub].mean(0)\n",
    "a = np.nanmean(a, 0)\n",
    "mm = np.max(np.abs(T_obs))\n",
    "plot_mins(time, a, ax)\n",
    "plt.plot(time, T_obs)\n",
    "plt.plot(time, a)"
   ]
  },
  {
   "cell_type": "code",
   "execution_count": 472,
   "id": "cfa59228-b3f7-45f1-919e-cd7a511c293c",
   "metadata": {
    "execution": {
     "iopub.execute_input": "2022-02-08T09:32:19.933995Z",
     "iopub.status.busy": "2022-02-08T09:32:19.932999Z",
     "iopub.status.idle": "2022-02-08T09:32:19.945115Z",
     "shell.execute_reply": "2022-02-08T09:32:19.945115Z",
     "shell.execute_reply.started": "2022-02-08T09:32:19.933995Z"
    }
   },
   "outputs": [
    {
     "data": {
      "text/plain": [
       "(2, 2, 13, 15, 20, 1000)"
      ]
     },
     "execution_count": 472,
     "metadata": {},
     "output_type": "execute_result"
    }
   ],
   "source": [
    "data.shape"
   ]
  },
  {
   "cell_type": "code",
   "execution_count": 91,
   "id": "d7e48026-4011-431c-b5af-b16890de0977",
   "metadata": {
    "execution": {
     "iopub.execute_input": "2022-02-08T10:06:53.156905Z",
     "iopub.status.busy": "2022-02-08T10:06:53.155928Z",
     "iopub.status.idle": "2022-02-08T10:06:53.201352Z",
     "shell.execute_reply": "2022-02-08T10:06:53.201352Z",
     "shell.execute_reply.started": "2022-02-08T10:06:53.156905Z"
    },
    "tags": []
   },
   "outputs": [
    {
     "name": "stdout",
     "output_type": "stream",
     "text": [
      "[[[5.58  5.    5.    5.096 5.016 5.    5.    5.016 5.008 5.      nan\n",
      "   5.068 5.    5.    5.   ]\n",
      "  [5.    5.      nan 5.    5.    5.    5.    5.    5.    5.      nan\n",
      "   5.    5.      nan 5.   ]]\n",
      "\n",
      " [[5.    5.    5.    5.    5.    5.    5.    5.    5.      nan   nan\n",
      "   5.    5.    5.    5.   ]\n",
      "  [5.032 5.424 5.    5.    5.    5.    5.016 5.496 5.092   nan 5.132\n",
      "   5.    5.    5.    5.16 ]]]\n"
     ]
    },
    {
     "name": "stderr",
     "output_type": "stream",
     "text": [
      "/var/folders/tj/lr6p2mw95bqcmgs698v6nqx40000gn/T/ipykernel_51865/95274485.py:30: RuntimeWarning: Mean of empty slice\n",
      "  T_obs = np.nanmean(T_obs, -1)\n"
     ]
    }
   ],
   "source": [
    "# ax = plt.subplot(111)\n",
    "days = [0, 1]\n",
    "sessions = [0, 1]\n",
    "subs = np.r_[:15]\n",
    "index = pd.MultiIndex.from_product([days, sessions, subs])\n",
    "conds = np.array(index.to_list())\n",
    "times = []\n",
    "for day, sess, sub in conds:\n",
    "# day = 1\n",
    "# sess = 0\n",
    "# sub = 0\n",
    "\n",
    "    # T_obs, cluster_p_values = ts[day, :, sub], ps[day, :, sub]\n",
    "\n",
    "    # print(T_obs.shape)\n",
    "    # assert False\n",
    "    # chann_mask = (~np.isnan(T_obs)).any(1).all(0)\n",
    "    # if not chann_mask.all():\n",
    "        # print(chann_mask)\n",
    "    T_obs, cluster_p_values = ts[day, sess, sub].copy(), ps[day, sess, sub].copy()\n",
    "    p_mask = cluster_p_values > 0.05\n",
    "    # T_obs[T_obs > 0] = np.nan\n",
    "    T_obs[p_mask] = np.nan\n",
    "    \n",
    "    # T_obs[:50] = np.nan\n",
    "    # T_obs[:] = np.nan\n",
    "    # T_obs[:, ~chann_mask] = np.nan\n",
    "\n",
    "    # chmask = (~np.isnan(T_obs)).any(0)\n",
    "    # nanmask = np.isnan(T_obs)\n",
    "    T_obs = np.nanmean(T_obs, -1)\n",
    "    T_obs[np.isnan(T_obs)] = 0\n",
    "    inds = np.argwhere(T_obs).squeeze()\n",
    "    inds_diff = np.diff(inds) == 1\n",
    "    groups = shift5(inds_diff, 1, False).astype(int) + (inds_diff).astype(int)\n",
    "    groups[groups == 2] *= 0\n",
    "    groups = np.cumsum(groups)\n",
    "    \n",
    "\n",
    "    ngroups = groups[-1] + 1\n",
    "\n",
    "    if inds.shape != (0,):\n",
    "        timepoint = time[inds[0]]\n",
    "    else:\n",
    "        timepoint = np.nan\n",
    "    times.append(timepoint)\n",
    "times = np.array(times).reshape(2, 2, 15)\n",
    "print(times)\n",
    "# a = data[day, sess, :, sub].mean(1)\n",
    "# a = np.rollaxis(a, 1)\n",
    "# print(a.shape, nanmask.shape)\n",
    "# a[nanmask] = np.nan\n",
    "# a = np.nanmean(a, -1)\n",
    "# a[np.isnan(a)] = 0\n",
    "# mm = np.max(np.abs(T_obs))\n",
    "# plot_mins(time, a, ax)\n",
    "# plt.plot(time, T_obs/mm)\n",
    "# plt.plot(time, a)\n",
    "# cluster_p_values[np.isnan]"
   ]
  },
  {
   "cell_type": "code",
   "execution_count": 95,
   "id": "c0ec6653",
   "metadata": {},
   "outputs": [],
   "source": [
    "def shift5(arr, num, fill_value=np.nan):\n",
    "    result = np.empty_like(arr)\n",
    "    if num > 0:\n",
    "        result[:num] = fill_value\n",
    "        result[num:] = arr[:-num]\n",
    "    elif num < 0:\n",
    "        result[num:] = fill_value\n",
    "        result[:num] = arr[-num:]\n",
    "    else:\n",
    "        result[:] = arr\n",
    "    return result\n",
    "\n",
    "def pick_first_group(sig, thresh):\n",
    "    sas = shift5(sig<=thresh, 1).astype(int) + (sig<=thresh).astype(int)\n",
    "    sas[sas == 2] *= 0\n",
    "    np.cumsum(sas)\n",
    "\n",
    "inds_diff = np.diff(inds) == 1\n",
    "groups = shift5(inds_diff, 1, False).astype(int) + (inds_diff).astype(int)\n",
    "groups[groups == 2] *= 0\n",
    "groups = np.cumsum(groups)\n",
    "\n",
    "ngroups = groups[-1] + 1\n",
    "\n",
    "# pick_first_group(np.diff(inds), 1)\n"
   ]
  },
  {
   "cell_type": "code",
   "execution_count": 450,
   "id": "fb653885-52f0-465b-a3a6-21cfd6eadb85",
   "metadata": {
    "execution": {
     "iopub.execute_input": "2022-02-08T08:53:04.267930Z",
     "iopub.status.busy": "2022-02-08T08:53:04.266940Z",
     "iopub.status.idle": "2022-02-08T08:53:04.286983Z",
     "shell.execute_reply": "2022-02-08T08:53:04.285931Z",
     "shell.execute_reply.started": "2022-02-08T08:53:04.266940Z"
    },
    "tags": []
   },
   "outputs": [],
   "source": [
    "x = np.r_[5.832, 6.136, 5.960, 5.972, np.nan, 6.348, np.nan, 5.836, 5.476, np.nan, 6.276, 6.524, 6.344, 5.316, np.nan]\n",
    "y = np.r_[6.220, 6.016, 5.388, 6.268, 8.132,  5.688, 5.320,  5.960, 5.476, np.nan, 6.088, 7.124, 6.620, 5.520, 5.472]\n",
    "a = np.r_[6.460, 5.988, 6.128, 6.140, 7.896, 6.980, np.nan, 6.772,  6.778, np.nan, 5.960, 6.740, 6.060, 5.776, 5.540]\n",
    "b = np.r_[5.584, 6.124, 5.476, 5.860, 6.320, np.nan, 5.516, np.nan, 6.496, np.nan, 6.244, 7.452, 6.360, 5.360, 5.604]\n",
    "ab_old = np.stack([x, y, a, b])\n",
    "ab_only2 = ab_old[2:]\n",
    "ab = ab_old[:, (~np.isnan(ab_old)).all(0)]\n",
    "ab = ab.reshape(2, 2, -1)"
   ]
  },
  {
   "cell_type": "code",
   "execution_count": 60,
   "id": "c7674683-be1d-4d42-a60d-12c187037fa5",
   "metadata": {
    "execution": {
     "iopub.execute_input": "2022-02-08T09:59:20.739216Z",
     "iopub.status.busy": "2022-02-08T09:59:20.739216Z",
     "iopub.status.idle": "2022-02-08T09:59:21.679914Z",
     "shell.execute_reply": "2022-02-08T09:59:21.678915Z",
     "shell.execute_reply.started": "2022-02-08T09:59:20.739216Z"
    },
    "tags": []
   },
   "outputs": [
    {
     "name": "stdout",
     "output_type": "stream",
     "text": [
      "Coefficient: 0.2785393484305548, p-value: 0.4679820714057366\n"
     ]
    },
    {
     "data": {
      "image/png": "[encoded data removed]",
      "text/plain": [
       "<Figure size 432x432 with 3 Axes>"
      ]
     },
     "metadata": {
      "needs_background": "light"
     },
     "output_type": "display_data"
    }
   ],
   "source": [
    "index = pd.Index(list(range(1, 16)), name='Subject')\n",
    "df = pd.DataFrame([times[1, 1] - times[1, 0]]).T\n",
    "df.index = index\n",
    "df.columns = ['Time delta']\n",
    "df.reset_index(inplace=True)\n",
    "\n",
    "corr_df = pd.merge(df, theta_df, on='Subject')\n",
    "corr_df.dropna(inplace=True)\n",
    "corr_df.reset_index(inplace=True)\n",
    "\n",
    "g = sns.jointplot(x='Time delta', y=\"Theta delta\", data=corr_df,\n",
    "                  kind=\"reg\", truncate=False, order=1,\n",
    "                  color=\"m\")\n",
    "\n",
    "ax = g.ax_joint\n",
    "\n",
    "for line in range(0,corr_df.shape[0]):\n",
    "     ax.text(corr_df['Time delta'][line] + 0.02, corr_df['Theta delta'][line] + 0.01, \n",
    "     corr_df.Subject[line], horizontalalignment='left', \n",
    "     size='medium', color='black', weight='semibold')\n",
    "\n",
    "ax.axvline(0, color='m' , marker='|')\n",
    "pear, pval = stats.pearsonr(corr_df['Time delta'], corr_df['Theta delta'])\n",
    "print(f'Coefficient: {pear}, p-value: {pval}')"
   ]
  },
  {
   "cell_type": "code",
   "execution_count": null,
   "id": "f9b97dcf-723f-4bf5-956f-fd8d2f891f0b",
   "metadata": {},
   "outputs": [],
   "source": [
    "from scipy.spatial.distance import squareform\n",
    "Z = linkage(squareform(distancesMatrix), 'complete')"
   ]
  },
  {
   "cell_type": "code",
   "execution_count": 166,
   "id": "9b65eec2",
   "metadata": {},
   "outputs": [
    {
     "name": "stderr",
     "output_type": "stream",
     "text": [
      "posx and posy should be finite values\n",
      "posx and posy should be finite values\n",
      "posx and posy should be finite values\n",
      "posx and posy should be finite values\n",
      "posx and posy should be finite values\n",
      "posx and posy should be finite values\n",
      "posx and posy should be finite values\n",
      "posx and posy should be finite values\n",
      "posx and posy should be finite values\n",
      "posx and posy should be finite values\n",
      "posx and posy should be finite values\n",
      "posx and posy should be finite values\n",
      "posx and posy should be finite values\n",
      "posx and posy should be finite values\n",
      "posx and posy should be finite values\n",
      "posx and posy should be finite values\n",
      "posx and posy should be finite values\n",
      "posx and posy should be finite values\n",
      "posx and posy should be finite values\n",
      "posx and posy should be finite values\n",
      "posx and posy should be finite values\n",
      "posx and posy should be finite values\n",
      "posx and posy should be finite values\n",
      "posx and posy should be finite values\n",
      "posx and posy should be finite values\n",
      "posx and posy should be finite values\n"
     ]
    },
    {
     "data": {
      "image/png": "[encoded data removed]",
      "text/plain": [
       "<Figure size 446.4x1036.8 with 3 Axes>"
      ]
     },
     "metadata": {
      "needs_background": "light"
     },
     "output_type": "display_data"
    }
   ],
   "source": [
    "fig, axes = plt.subplots(3, 1, figsize=(6.2, 4.8*3), sharex=True)\n",
    "\n",
    "d1_mbrt = d1im2_mbrt - d1im1_mbrt\n",
    "d2_mbrt = d2im2_mbrt - d2im1_mbrt\n",
    "d3_mbrt = d3im2_mbrt - d3im1_mbrt\n",
    "\n",
    "\n",
    "mbrts = [d1_mbrt, d2_mbrt, d3_mbrt]\n",
    "thresh = 20\n",
    "for ind, (mbrt, ax) in enumerate(zip(mbrts, axes)):\n",
    "    a = mbrt[:thresh]\n",
    "    inds = np.arange(a.shape[0])+1\n",
    "    ax.scatter(a,  inds)\n",
    "    for subi, ti in zip(inds, a):\n",
    "        ax.text(ti + 0.2, subi,\n",
    "        int(subi), horizontalalignment='left', \n",
    "        size='medium', color='black', weight='semibold')\n",
    "    ax.axvline()\n",
    "    ax.set_title(f'Day {ind + 1}')\n",
    "    ax.grid()"
   ]
  },
  {
   "cell_type": "code",
   "execution_count": 5,
   "id": "6b9c18ac",
   "metadata": {
    "pycharm": {
     "name": "#%%\n"
    }
   },
   "outputs": [
    {
     "data": {
      "text/plain": [
       "[0.05, 0.025, 0.0125, 0.0015625]"
      ]
     },
     "execution_count": 5,
     "metadata": {},
     "output_type": "execute_result"
    }
   ],
   "source": [
    "x = np.arange(0, 15, 0.2)\n",
    "data_1 = np.sin(x)\n",
    "data_2 = np.exp(x)\n",
    "\n",
    "# Create Plot\n",
    "\n",
    "fig, ax1 = plt.subplots()\n",
    "\n",
    "ax1.set_xlabel('X-axis')\n",
    "ax1.set_ylabel('Primary-axis')\n",
    "ax1.plot(x, data_1, color = 'red')\n",
    "\n",
    "# Adding Twin Axes\n",
    "\n",
    "ax2 = ax1.twinx()\n",
    "ax2.plot(x, data_2, color = 'blue')\n",
    "\n",
    "# Add label\n",
    "\n",
    "plt.ylabel('Secondary-axis')\n",
    "\n",
    "# Show plot\n",
    "\n",
    "plt.show()"
   ]
  },
  {
   "cell_type": "code",
   "execution_count": 58,
   "id": "03c702a8",
   "metadata": {
    "pycharm": {
     "name": "#%%\n"
    }
   },
   "outputs": [
    {
     "data": {
      "text/plain": [
       "150"
      ]
     },
     "execution_count": 58,
     "metadata": {},
     "output_type": "execute_result"
    }
   ],
   "source": []
  },
  {
   "cell_type": "code",
   "execution_count": null,
   "id": "cf4c201c",
   "metadata": {
    "pycharm": {
     "name": "#%%\n"
    }
   },
   "outputs": [],
   "source": [
    "."
   ]
  }
 ],
 "metadata": {
  "kernelspec": {
   "display_name": "Python 3 (ipykernel)",
   "language": "python",
   "name": "python3"
  },
  "language_info": {
   "codemirror_mode": {
    "name": "ipython",
    "version": 3
   },
   "file_extension": ".py",
   "mimetype": "text/x-python",
   "name": "python",
   "nbconvert_exporter": "python",
   "pygments_lexer": "ipython3",
   "version": "3.9.7"
  }
 },
 "nbformat": 4,
 "nbformat_minor": 5
}
